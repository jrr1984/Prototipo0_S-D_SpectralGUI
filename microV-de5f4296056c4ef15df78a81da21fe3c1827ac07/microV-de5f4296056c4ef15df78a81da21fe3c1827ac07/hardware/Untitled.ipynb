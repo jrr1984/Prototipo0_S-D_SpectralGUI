{
 "cells": [
  {
   "cell_type": "code",
   "execution_count": 1,
   "metadata": {},
   "outputs": [],
   "source": [
    "# -*- coding: utf-8 -*-\n",
    "import ctypes# give location of dll\n",
    "from ctypes import c_int, c_bool, c_long, c_void_p, c_float, c_double, c_char, c_char_p, c_ulong, byref, create_string_buffer\n",
    "import time, os\n",
    "import numpy as np\n",
    "\n",
    "\n",
    "from ctypes import cdll\n",
    "\n",
    "TLCCS_STATUS_SCAN_IDLE         = 0x0002      #// CCS waits for new scan to execute\n",
    "TLCCS_STATUS_SCAN_TRIGGERED    = 0x0004      #// scan in progress\n",
    "TLCCS_STATUS_SCAN_START_TRANS  = 0x0008      #// scan starting\n",
    "TLCCS_STATUS_SCAN_TRANSFER     = 0x0010      #// scan is done, waiting for data transfer to PC\n",
    "TLCCS_STATUS_WAIT_FOR_EXT_TRIG = 0x0080      #/ same as IDLE except that external trigger is armed\n",
    "\n",
    "class CCS200():\n",
    "#libDLL = ctypes.windll.LoadLibrary(\"TLCCS_64.dll\")\n",
    "    libDLL = 1#cdll.LoadLibrary( os.path.abspath(__file__).split('CCS200.py')[0]+\"TLCCS_64.dll\")\n",
    "\n",
    "    def __init__(self):\n",
    "        pass\n",
    "\n",
    "    rscStr_ = b'USB0::0x1313::0x8089::M00310899::RAW'\n",
    "    rscStr = create_string_buffer(256,rscStr_)\n",
    "    instr = c_long(0)\n",
    "\n",
    "\n",
    "    def init(self):\n",
    "        #print(self.libDLL)\n",
    "        #tlccs_init = self.libDLL['tlccs_init']\n",
    "        #tlccs_init.argtypes = (c_char_p, c_int, c_int, ctypes.POINTER(c_long))\n",
    "        #tlccs_init.restype = c_char\n",
    "        #r= tlccs_init(self.rscStr_,0,0,self.instr)\n",
    "        r = 1\n",
    "        if not r == b'\\x00': print(\"init>\",self.instr.value, self.error_message(r))\n",
    "        return r\n",
    "    \n",
    "    def close(self):\n",
    "    #tlccs_close = self.libDLL['tlccs_close']\n",
    "        r = 1\n",
    "        if not r == b'\\x00': print(\"close>\",self.instr.value, self.error_message(r))\n",
    "        return r\n",
    "\n",
    "    \n",
    "    def error_message(self,err):\n",
    "        buf = create_string_buffer(256)\n",
    "        r = 1# tlccs_error_message(self.instr, err, buf)\n",
    "        return buf.value\n",
    "\n",
    "\n",
    "    def setIntegrationTime(self, val=0.1):\n",
    "        r = 1#tlccs_setIntegrationTime(self.instr, val)\n",
    "        if not r == b'\\x00': print(\"setIntegrationTime>\",self.instr.value, self.error_message(r))\n",
    "        return r\n",
    "\n",
    "    def startScan(self):\n",
    "        r = 1#tlccs_startScan(self.instr)\n",
    "        if not r == b'\\x00': print(\"startScan>\",self.instr.value, self.error_message(r))\n",
    "        return r\n",
    "    \n",
    "    \n",
    "    def startScanExtTrg(self):\n",
    "        r = 1#tlccs_startScanExtTrg(self.instr)\n",
    "        if not r == b'\\x00': print(\"startScanExtTrg>\",self.instr.value, self.error_message(r))\n",
    "        return r\n",
    "\n",
    "    def getDeviceStatus(self):\n",
    "        status = ctypes.c_long(0)\n",
    "        r = 1#tlccs_getDeviceStatus(self.instr, status)\n",
    "        if not r == b'\\x00': print(\"getDeviceStatus>\",self.instr.value, self.error_message(r))\n",
    "        return status.value\n",
    "\n",
    "    def getScanData(self):\n",
    "        data = abs(np.random.normal(1)*np.exp(-(np.arange(0,3648)-1500)**2/10))\n",
    "        r = 1#tlccs_getScanData(self.instr, data)\n",
    "        if not r == b'\\x00': print(\"getScanData>\",self.instr.value, self.error_message(r))\n",
    "        return [d for d in data]\n"
   ]
  },
  {
   "cell_type": "code",
   "execution_count": 2,
   "metadata": {},
   "outputs": [
    {
     "name": "stdout",
     "output_type": "stream",
     "text": [
      "init> 0 b''\n",
      "1\n",
      "setIntegrationTime> 0 b''\n",
      "1\n"
     ]
    }
   ],
   "source": [
    "c = CCS200()\n",
    "print(c.init())\n",
    "print(c.setIntegrationTime(0.01))\n",
    "data = []"
   ]
  },
  {
   "cell_type": "code",
   "execution_count": 4,
   "metadata": {},
   "outputs": [
    {
     "name": "stdout",
     "output_type": "stream",
     "text": [
      "getDeviceStatus> 0 b''\n",
      "0\n",
      "getScanData> 0 b''\n",
      "close> 0 b''\n",
      "1\n",
      "getDeviceStatus> 0 b''\n",
      "0\n",
      "getScanData> 0 b''\n",
      "close> 0 b''\n",
      "1\n"
     ]
    },
    {
     "data": {
      "image/png": "[encoded data removed]",
      "text/plain": [
       "<Figure size 432x288 with 1 Axes>"
      ]
     },
     "metadata": {},
     "output_type": "display_data"
    },
    {
     "data": {
      "image/png": "[encoded data removed]",
      "text/plain": [
       "<Figure size 432x288 with 1 Axes>"
      ]
     },
     "metadata": {},
     "output_type": "display_data"
    },
    {
     "data": {
      "image/png": "[encoded data removed]",
      "text/plain": [
       "<Figure size 432x288 with 1 Axes>"
      ]
     },
     "metadata": {},
     "output_type": "display_data"
    },
    {
     "data": {
      "image/png": "[encoded data removed]",
      "text/plain": [
       "<Figure size 432x288 with 1 Axes>"
      ]
     },
     "metadata": {},
     "output_type": "display_data"
    }
   ],
   "source": [
    "for i in range(2):\n",
    "    print(c.getDeviceStatus())\n",
    "    d = c.getScanData()\n",
    "    data.append(d)\n",
    "    print(c.close())\n",
    "from pylab import *\n",
    "for i in data:\n",
    "    plot(i)\n",
    "    show(0)"
   ]
  },
  {
   "cell_type": "code",
   "execution_count": null,
   "metadata": {
    "collapsed": true
   },
   "outputs": [],
   "source": []
  },
  {
   "cell_type": "code",
   "execution_count": null,
   "metadata": {
    "collapsed": true
   },
   "outputs": [],
   "source": []
  }
 ],
 "metadata": {
  "kernelspec": {
   "display_name": "Python 3",
   "language": "python",
   "name": "python3"
  },
  "language_info": {
   "codemirror_mode": {
    "name": "ipython",
    "version": 3
   },
   "file_extension": ".py",
   "mimetype": "text/x-python",
   "name": "python",
   "nbconvert_exporter": "python",
   "pygments_lexer": "ipython3",
   "version": "3.6.3"
  }
 },
 "nbformat": 4,
 "nbformat_minor": 2
}
