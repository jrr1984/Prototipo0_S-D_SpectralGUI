{
 "cells": [
  {
   "cell_type": "code",
   "execution_count": 1,
   "metadata": {
    "collapsed": false
   },
   "outputs": [
    {
     "ename": "ModuleNotFoundError",
     "evalue": "No module named 'ni'",
     "output_type": "error",
     "traceback": [
      "\u001b[0;31m---------------------------------------------------------------------------\u001b[0m",
      "\u001b[0;31mModuleNotFoundError\u001b[0m                       Traceback (most recent call last)",
      "\u001b[0;32m<ipython-input-1-077a4cdb8397>\u001b[0m in \u001b[0;36m<module>\u001b[0;34m()\u001b[0m\n\u001b[0;32m----> 1\u001b[0;31m \u001b[1;32mfrom\u001b[0m \u001b[0mni\u001b[0m \u001b[1;32mimport\u001b[0m \u001b[1;33m*\u001b[0m\u001b[1;33m\u001b[0m\u001b[0m\n\u001b[0m\u001b[1;32m      2\u001b[0m \u001b[1;32mfrom\u001b[0m \u001b[0mCCS200\u001b[0m \u001b[1;32mimport\u001b[0m \u001b[1;33m*\u001b[0m\u001b[1;33m\u001b[0m\u001b[0m\n\u001b[1;32m      3\u001b[0m \u001b[1;32mfrom\u001b[0m \u001b[0mE727\u001b[0m \u001b[1;32mimport\u001b[0m \u001b[1;33m*\u001b[0m\u001b[1;33m\u001b[0m\u001b[0m\n\u001b[1;32m      4\u001b[0m \u001b[1;32mfrom\u001b[0m \u001b[0mpylab\u001b[0m \u001b[1;32mimport\u001b[0m \u001b[1;33m*\u001b[0m\u001b[1;33m\u001b[0m\u001b[0m\n\u001b[1;32m      5\u001b[0m \u001b[0mget_ipython\u001b[0m\u001b[1;33m(\u001b[0m\u001b[1;33m)\u001b[0m\u001b[1;33m.\u001b[0m\u001b[0mrun_line_magic\u001b[0m\u001b[1;33m(\u001b[0m\u001b[1;34m'matplotlib'\u001b[0m\u001b[1;33m,\u001b[0m \u001b[1;34m'qt'\u001b[0m\u001b[1;33m)\u001b[0m\u001b[1;33m\u001b[0m\u001b[0m\n",
      "\u001b[0;31mModuleNotFoundError\u001b[0m: No module named 'ni'"
     ]
    }
   ],
   "source": [
    "from ni import *\n",
    "from CCS200 import *\n",
    "from E727 import *\n",
    "from pylab import *\n",
    "get_ipython().run_line_magic('matplotlib', 'qt')\n",
    "import time\n",
    "import threading\n",
    "data = zeros((100,100))\n",
    "\n",
    "e = E727()\n",
    "print(e.ConnectUSB())\n",
    "print(e.qSAI())\n",
    "print(e.SVO())\n",
    "print(e.MOV(0,axis=1,waitUntilReady=True))\n",
    "time.sleep(0.2)\n",
    "print(e.MOV(0,axis=2,waitUntilReady=True))\n",
    "time.sleep(0.2)\n",
    "print(e.MOV(0,axis=3,waitUntilReady=True))\n",
    "time.sleep(1)\n",
    "print('start')\n",
    "fig, ax = plt.subplots()\n",
    "step = 2\n",
    "im = ax.matshow(data[::step,::step])\n",
    "show(0)\n",
    "\n",
    "spectrometer = CCS200()\n",
    "print(spectrometer.init())\n",
    "print(spectrometer.setIntegrationTime(0.01))\n",
    "\n",
    "def plot_data():\n",
    "\n",
    "    ax.matshow(data[::step,::step])\n",
    "    #draw()\n",
    "    #pause(0.1)\n",
    "\n",
    "\n",
    "forward = True\n",
    "try:\n",
    "\tfor i in range(0,100,step):\n",
    "\n",
    "\t\tif forward:\n",
    "\t\t\tRange = range(0,100,step)\n",
    "\t\t\tforward = False\n",
    "\t\telse:\n",
    "\t\t\tRange = range(100-step,-step,-step)\n",
    "\t\t\tforward = True\n",
    "\t\tfor j in Range:\n",
    "\n",
    "\t\t\tr = e.MOV(j,axis=1,waitUntilReady=True)\n",
    "\t\t\tif not r: break\n",
    "\t\t\t#time.sleep(1)\n",
    "\t\t\t\n",
    "\t\t\tspectrometer.startScanExtTrg()\n",
    "\t\t\tspectrometer.getDeviceStatus()\n",
    "\t\t\td = spectrometer.getScanData()\n",
    "\n",
    "\t\t\tdata[i,j] = d[1550:1570].sum()\n",
    "\t\t\tprint(i,j,d[1550:1570].sum())\n",
    "\n",
    "\t\tr = e.MOV(i,axis=2,waitUntilReady=True)\n",
    "\t\tif not r: break\n",
    "\t\t#t = threading.Thread(target=plot_data)\n",
    "\t\t#t.start()\n",
    "\t\tax.matshow(data[::step,::step])\n",
    "\t\tpause(0.01)\n",
    "except KeyboardInterrupt:\n",
    "\te.CloseConnection()\n",
    "\tprint(spectrometer.close())\n",
    "\n",
    "print(spectrometer.close())\n",
    "print(e.CloseConnection())\n",
    "ax.matshow(data[::step,::step])\n",
    "savefig(str(round(time.time()))+\".png\")"
   ]
  },
  {
   "cell_type": "code",
   "execution_count": null,
   "metadata": {
    "collapsed": true
   },
   "outputs": [],
   "source": []
  }
 ],
 "metadata": {
  "kernelspec": {
   "display_name": "Python 3",
   "language": "python",
   "name": "python3"
  }
 },
 "nbformat": 4,
 "nbformat_minor": 2
}
