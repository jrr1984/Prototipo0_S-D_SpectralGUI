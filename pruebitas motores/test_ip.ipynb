{
 "cells": [
  {
   "cell_type": "code",
   "execution_count": 7,
   "metadata": {},
   "outputs": [
    {
     "name": "stdout",
     "output_type": "stream",
     "text": [
      "Building the device list...\n"
     ]
    }
   ],
   "source": [
    "\"\"\"\n",
    "This example shows how to communicate with Thorlabs KST101, KCube Stepper Motor.\n",
    "\"\"\"\n",
    "\n",
    "# https://es.stackoverflow.com/questions/32165/qu%C3%A9-es-if-name-main\n",
    "if __name__ == '__main__':\n",
    "    import os\n",
    "    from pprint import pprint\n",
    "\n",
    "    from msl.equipment import EquipmentRecord, ConnectionRecord, Backend\n",
    "\n",
    "    from msl.equipment.resources.thorlabs import MotionControl\n",
    "    # ensure that the Kinesis folder is available on PATH\n",
    "    os.environ['PATH'] += os.pathsep + 'C:/Program Files/Thorlabs/Kinesis'\n",
    "\n",
    "    print('Building the device list...')\n",
    "    MotionControl.build_device_list()\n",
    "    # rather than reading the EquipmentRecord from a database we can create it manually\n",
    "    record = EquipmentRecord(\n",
    "        manufacturer='Thorlabs',\n",
    "        model='KST101',\n",
    "        serial='26001683',  # update the serial number for your KST101\n",
    "        connection=ConnectionRecord(\n",
    "            backend=Backend.MSL,\n",
    "            address='SDK::Thorlabs.MotionControl.KCube.StepperMotor.dll',\n",
    "        ),\n",
    "    )"
   ]
  },
  {
   "cell_type": "code",
   "execution_count": 8,
   "metadata": {
    "collapsed": true
   },
   "outputs": [],
   "source": [
    "def wait(value):\n",
    "        motor.clear_message_queue()\n",
    "        message_type, message_id, _ = motor.wait_for_message()\n",
    "        while message_type != 2 or message_id != value:\n",
    "            position = motor.get_position()\n",
    "            real = motor.get_real_value_from_device_unit(position, 'DISTANCE')\n",
    "            print('  at position {} [device units] {} [real-world units]'.format(position, real))\n",
    "            message_type, message_id, _ = motor.wait_for_message()"
   ]
  },
  {
   "cell_type": "code",
   "execution_count": null,
   "metadata": {},
   "outputs": [],
   "source": [
    "    # connect to the KCube Stepper Motor\n",
    "    motor = record.connect()\n",
    "    print('Connected to {}'.format(motor))"
   ]
  },
  {
   "cell_type": "code",
   "execution_count": 4,
   "metadata": {
    "collapsed": true
   },
   "outputs": [],
   "source": [
    "  # load the configuration settings (so that we can use the get_real_value_from_device_unit() method)\n",
    "motor.load_settings()"
   ]
  },
  {
   "cell_type": "code",
   "execution_count": 5,
   "metadata": {
    "collapsed": true
   },
   "outputs": [],
   "source": [
    " # start polling at 200 ms\n",
    "motor.start_polling(200)"
   ]
  },
  {
   "cell_type": "code",
   "execution_count": 6,
   "metadata": {},
   "outputs": [
    {
     "name": "stdout",
     "output_type": "stream",
     "text": [
      "Homing...\n",
      "  at position -13134 [device units] -0.0065388 [real-world units]\n",
      "  at position -13134 [device units] -0.0065388 [real-world units]\n",
      "  at position -150102 [device units] -0.0747288 [real-world units]\n",
      "  at position -326487 [device units] -0.1625426 [real-world units]\n",
      "  at position -326487 [device units] -0.1625426 [real-world units]\n",
      "  at position -287842 [device units] -0.1433031 [real-world units]\n",
      "  at position -247434 [device units] -0.1231858 [real-world units]\n",
      "  at position -207030 [device units] -0.1030706 [real-world units]\n",
      "  at position 18113 [device units] 0.0090176 [real-world units]\n",
      "  at position 18113 [device units] 0.0090176 [real-world units]\n",
      "  at position 58469 [device units] 0.029109 [real-world units]\n",
      "  at position 98880 [device units] 0.0492277 [real-world units]\n",
      "  at position 139288 [device units] 0.069345 [real-world units]\n",
      "  at position 179694 [device units] 0.0894613 [real-world units]\n",
      "  at position 200847 [device units] 0.0999924 [real-world units]\n",
      "  at position 200847 [device units] 0.0999924 [real-world units]\n",
      "Homing done. At position 200847 [device units]\n"
     ]
    }
   ],
   "source": [
    "# home the device\n",
    "print('Homing...')\n",
    "motor.home()\n",
    "wait(0)\n",
    "print('Homing done. At position {} [device units]'.format(motor.get_position()))"
   ]
  },
  {
   "cell_type": "code",
   "execution_count": 7,
   "metadata": {},
   "outputs": [
    {
     "name": "stdout",
     "output_type": "stream",
     "text": [
      "0\n"
     ]
    }
   ],
   "source": [
    "print(motor.get_position())"
   ]
  },
  {
   "cell_type": "code",
   "execution_count": 82,
   "metadata": {},
   "outputs": [
    {
     "name": "stdout",
     "output_type": "stream",
     "text": [
      "Moving done. At position 26112107 [device units]\n"
     ]
    }
   ],
   "source": [
    "motor.move_to_position(26112107)\n",
    "wait(1)\n",
    "print('Moving done. At position {} [device units]'.format(motor.get_position()))"
   ]
  },
  {
   "cell_type": "code",
   "execution_count": 53,
   "metadata": {},
   "outputs": [
    {
     "data": {
      "text/plain": [
       "True"
      ]
     },
     "execution_count": 53,
     "metadata": {},
     "output_type": "execute_result"
    }
   ],
   "source": [
    "motor.can_move_without_homing_first()"
   ]
  },
  {
   "cell_type": "code",
   "execution_count": 29,
   "metadata": {},
   "outputs": [
    {
     "data": {
      "text/plain": [
       "True"
      ]
     },
     "execution_count": 29,
     "metadata": {},
     "output_type": "execute_result"
    }
   ],
   "source": [
    "motor.needs_homing() #motor necesita volver al home para comenzar a moverlo..\n",
    "#VER https://msl-equipment.readthedocs.io/en/latest/_modules/msl/equipment/resources/thorlabs/kinesis/kcube_stepper_motor.html#KCubeStepperMotor.needs_homing"
   ]
  },
  {
   "cell_type": "code",
   "execution_count": 95,
   "metadata": {},
   "outputs": [
    {
     "data": {
      "text/plain": [
       "0"
      ]
     },
     "execution_count": 95,
     "metadata": {},
     "output_type": "execute_result"
    }
   ],
   "source": [
    "motor.get_device_unit_from_real_value(0.0,0) #mm\n",
    "# el 0 es xq: https://msl-equipment.readthedocs.io/en/latest/_api/msl.equipment.resources.thorlabs.kinesis.enums.html#msl.equipment.resources.thorlabs.kinesis.enums.UnitType"
   ]
  },
  {
   "cell_type": "code",
   "execution_count": 13,
   "metadata": {},
   "outputs": [
    {
     "name": "stdout",
     "output_type": "stream",
     "text": [
      "  at position 2 [device units] 1e-06 [real-world units]\n",
      "  at position 2 [device units] 1e-06 [real-world units]\n",
      "  at position 20518 [device units] 0.010215 [real-world units]\n",
      "  at position 81255 [device units] 0.0404531 [real-world units]\n",
      "  at position 182182 [device units] 0.0906999 [real-world units]\n",
      "  at position 323190 [device units] 0.1609012 [real-world units]\n",
      "  at position 504627 [device units] 0.2512302 [real-world units]\n",
      "  at position 726088 [device units] 0.3614853 [real-world units]\n",
      "  at position 987792 [device units] 0.4917756 [real-world units]\n",
      "  at position 1254064 [device units] 0.62434 [real-world units]\n",
      "  at position 1480213 [device units] 0.736929 [real-world units]\n",
      "  at position 1666347 [device units] 0.8295964 [real-world units]\n",
      "  at position 1812101 [device units] 0.9021606 [real-world units]\n",
      "  at position 1917656 [device units] 0.9547115 [real-world units]\n",
      "  at position 1983064 [device units] 0.9872751 [real-world units]\n",
      "  at position 2008296 [device units] 0.9998369 [real-world units]\n",
      "Moving done. At position 2008624 [device units]\n"
     ]
    }
   ],
   "source": [
    "motor.move_to_position(motor.get_device_unit_from_real_value(1.0,0))\n",
    "wait(1)\n",
    "print('Moving done. At position {} [device units]'.format(motor.get_position()))"
   ]
  },
  {
   "cell_type": "code",
   "execution_count": 9,
   "metadata": {},
   "outputs": [
    {
     "data": {
      "text/plain": [
       "0.0"
      ]
     },
     "execution_count": 9,
     "metadata": {},
     "output_type": "execute_result"
    }
   ],
   "source": [
    "motor.get_real_value_from_device_unit(motor.get_position(),0)"
   ]
  },
  {
   "cell_type": "code",
   "execution_count": null,
   "metadata": {
    "collapsed": true
   },
   "outputs": [],
   "source": [
    "#https://msl-equipment.readthedocs.io/en/latest/_api/msl.equipment.resources.thorlabs.kinesis.kcube_stepper_motor.html?highlight=move_to_position#msl.equipment.resources.thorlabs.kinesis.kcube_stepper_motor.KCubeStepperMotor.can_move_without_homing_first"
   ]
  },
  {
   "cell_type": "code",
   "execution_count": 101,
   "metadata": {},
   "outputs": [
    {
     "data": {
      "text/plain": [
       "(24.0, 41.0, 1.00329)"
      ]
     },
     "execution_count": 101,
     "metadata": {},
     "output_type": "execute_result"
    }
   ],
   "source": [
    "motor.get_motor_params()\n",
    "#float – The steps per revolution.\n",
    "#float – The gear box ratio.\n",
    "#float – The pitch."
   ]
  },
  {
   "cell_type": "code",
   "execution_count": 110,
   "metadata": {},
   "outputs": [
    {
     "name": "stdout",
     "output_type": "stream",
     "text": [
      "Jogging forwards by 200862 [device units]\n",
      "  at position 202213 [device units] 0.1006724 [real-world units]\n",
      "  at position 202213 [device units] 0.1006724 [real-world units]\n",
      "  at position 210890 [device units] 0.1049923 [real-world units]\n",
      "  at position 227605 [device units] 0.1133139 [real-world units]\n",
      "  at position 252363 [device units] 0.1256398 [real-world units]\n",
      "  at position 285170 [device units] 0.1419728 [real-world units]\n",
      "  at position 323302 [device units] 0.160957 [real-world units]\n",
      "  at position 354787 [device units] 0.1766319 [real-world units]\n",
      "  at position 378235 [device units] 0.1883056 [real-world units]\n",
      "  at position 393653 [device units] 0.1959815 [real-world units]\n",
      "  at position 401024 [device units] 0.1996511 [real-world units]\n",
      "Jogging done. At position 401724 [device units]\n"
     ]
    }
   ],
   "source": [
    "print('Jogging forwards by {} [device units]'.format(motor.get_jog_step_size()))\n",
    "motor.move_jog('Forwards') #SE MUEVE 1 mm\n",
    "wait(1)\n",
    "print('Jogging done. At position {} [device units]'.format(motor.get_position()))"
   ]
  },
  {
   "cell_type": "code",
   "execution_count": null,
   "metadata": {
    "collapsed": true
   },
   "outputs": [],
   "source": [
    "# stop polling and close the connection\n",
    "motor.stop_polling()\n",
    "motor.disconnect()"
   ]
  }
 ],
 "metadata": {
  "kernelspec": {
   "display_name": "Python 3",
   "language": "python",
   "name": "python3"
  },
  "language_info": {
   "codemirror_mode": {
    "name": "ipython",
    "version": 3
   },
   "file_extension": ".py",
   "mimetype": "text/x-python",
   "name": "python",
   "nbconvert_exporter": "python",
   "pygments_lexer": "ipython3",
   "version": "3.6.1"
  }
 },
 "nbformat": 4,
 "nbformat_minor": 2
}
