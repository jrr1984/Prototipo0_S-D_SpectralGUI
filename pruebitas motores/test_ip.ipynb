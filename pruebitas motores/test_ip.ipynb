{
 "cells": [
  {
   "cell_type": "code",
   "execution_count": 28,
   "metadata": {},
   "outputs": [
    {
     "name": "stdout",
     "output_type": "stream",
     "text": [
      "Building the device list...\n"
     ]
    }
   ],
   "source": [
    "\n",
    "# https://es.stackoverflow.com/questions/32165/qu%C3%A9-es-if-name-main\n",
    "if __name__ == '__main__':\n",
    "    import os\n",
    "    from pprint import pprint\n",
    "\n",
    "    from msl.equipment import EquipmentRecord, ConnectionRecord, Backend\n",
    "\n",
    "    from msl.equipment.resources.thorlabs import MotionControl\n",
    "    # ensure that the Kinesis folder is available on PATH\n",
    "    os.environ['PATH'] += os.pathsep + 'C:/Program Files/Thorlabs/Kinesis'\n",
    "\n",
    "    print('Building the device list...')\n",
    "    MotionControl.build_device_list()\n",
    "    # rather than reading the EquipmentRecord from a database we can create it manually\n",
    "    record = EquipmentRecord(\n",
    "        manufacturer='Thorlabs',\n",
    "        model='KST101',\n",
    "        serial='26001749',  # update the serial number for your KST101\n",
    "        connection=ConnectionRecord(\n",
    "            backend=Backend.MSL,\n",
    "            address='SDK::Thorlabs.MotionControl.KCube.StepperMotor.dll',\n",
    "        ),\n",
    "    )"
   ]
  },
  {
   "cell_type": "code",
   "execution_count": 29,
   "metadata": {
    "collapsed": true
   },
   "outputs": [],
   "source": [
    "def wait(value):\n",
    "        motor.clear_message_queue()\n",
    "        message_type, message_id, _ = motor.wait_for_message()\n",
    "        while message_type != 2 or message_id != value:\n",
    "            position = motor.get_position()\n",
    "            real = motor.get_real_value_from_device_unit(position, 'DISTANCE')\n",
    "            print('  at position {} [device units] {} [real-world units]'.format(position, real))\n",
    "            message_type, message_id, _ = motor.wait_for_message()"
   ]
  },
  {
   "cell_type": "code",
   "execution_count": 30,
   "metadata": {},
   "outputs": [
    {
     "name": "stdout",
     "output_type": "stream",
     "text": [
      "Connected to KCubeStepperMotor<Thorlabs|KST101|26001749>\n"
     ]
    }
   ],
   "source": [
    "    # connect to the KCube Stepper Motor\n",
    "    motor = record.connect()\n",
    "    print('Connected to {}'.format(motor))"
   ]
  },
  {
   "cell_type": "code",
   "execution_count": 31,
   "metadata": {},
   "outputs": [
    {
     "name": "stderr",
     "output_type": "stream",
     "text": [
      "KCubeStepperMotor<Thorlabs|KST101|26001749 at SDK::Thorlabs.MotionControl.KCube.StepperMotor.dll> The function did not return True.\n",
      "KCubeStepperMotor.SCC_LoadSettings(b'26001749',) -> False\n"
     ]
    },
    {
     "ename": "ThorlabsError",
     "evalue": "KCubeStepperMotor<Thorlabs|KST101|26001749 at SDK::Thorlabs.MotionControl.KCube.StepperMotor.dll>\nThe function did not return True.\nKCubeStepperMotor.SCC_LoadSettings(b'26001749',) -> False",
     "output_type": "error",
     "traceback": [
      "\u001b[1;31m---------------------------------------------------------------------------\u001b[0m",
      "\u001b[1;31mThorlabsError\u001b[0m                             Traceback (most recent call last)",
      "\u001b[1;32m<ipython-input-31-57eee41dda47>\u001b[0m in \u001b[0;36m<module>\u001b[1;34m()\u001b[0m\n\u001b[0;32m      1\u001b[0m \u001b[1;31m# load the configuration settings (so that we can use the get_real_value_from_device_unit() method)\u001b[0m\u001b[1;33m\u001b[0m\u001b[1;33m\u001b[0m\u001b[0m\n\u001b[1;32m----> 2\u001b[1;33m \u001b[0mmotor\u001b[0m\u001b[1;33m.\u001b[0m\u001b[0mload_settings\u001b[0m\u001b[1;33m(\u001b[0m\u001b[1;33m)\u001b[0m\u001b[1;33m\u001b[0m\u001b[0m\n\u001b[0m",
      "\u001b[1;32mC:\\Users\\USUARIO\\Anaconda3\\envs\\motorcitos\\lib\\site-packages\\msl\\equipment\\resources\\thorlabs\\kinesis\\kcube_stepper_motor.py\u001b[0m in \u001b[0;36mload_settings\u001b[1;34m(self)\u001b[0m\n\u001b[0;32m   1056\u001b[0m             \u001b[0mIf\u001b[0m \u001b[1;32mnot\u001b[0m \u001b[0msuccessful\u001b[0m\u001b[1;33m.\u001b[0m\u001b[1;33m\u001b[0m\u001b[0m\n\u001b[0;32m   1057\u001b[0m         \"\"\"\n\u001b[1;32m-> 1058\u001b[1;33m         \u001b[0mself\u001b[0m\u001b[1;33m.\u001b[0m\u001b[0msdk\u001b[0m\u001b[1;33m.\u001b[0m\u001b[0mSCC_LoadSettings\u001b[0m\u001b[1;33m(\u001b[0m\u001b[0mself\u001b[0m\u001b[1;33m.\u001b[0m\u001b[0m_serial\u001b[0m\u001b[1;33m)\u001b[0m\u001b[1;33m\u001b[0m\u001b[0m\n\u001b[0m\u001b[0;32m   1059\u001b[0m \u001b[1;33m\u001b[0m\u001b[0m\n\u001b[0;32m   1060\u001b[0m     \u001b[1;32mdef\u001b[0m \u001b[0mload_named_settings\u001b[0m\u001b[1;33m(\u001b[0m\u001b[0mself\u001b[0m\u001b[1;33m,\u001b[0m \u001b[0msettings_name\u001b[0m\u001b[1;33m)\u001b[0m\u001b[1;33m:\u001b[0m\u001b[1;33m\u001b[0m\u001b[0m\n",
      "\u001b[1;32mC:\\Users\\USUARIO\\Anaconda3\\envs\\motorcitos\\lib\\site-packages\\msl\\equipment\\resources\\thorlabs\\kinesis\\motion_control.py\u001b[0m in \u001b[0;36merrcheck_true\u001b[1;34m(self, result, func, args)\u001b[0m\n\u001b[0;32m    136\u001b[0m         \u001b[1;32mif\u001b[0m \u001b[1;32mnot\u001b[0m \u001b[0mresult\u001b[0m\u001b[1;33m:\u001b[0m\u001b[1;33m\u001b[0m\u001b[0m\n\u001b[0;32m    137\u001b[0m             \u001b[0mmsg\u001b[0m \u001b[1;33m=\u001b[0m \u001b[1;34m'{}.{}{} -> {}'\u001b[0m\u001b[1;33m.\u001b[0m\u001b[0mformat\u001b[0m\u001b[1;33m(\u001b[0m\u001b[0mself\u001b[0m\u001b[1;33m.\u001b[0m\u001b[0m__class__\u001b[0m\u001b[1;33m.\u001b[0m\u001b[0m__name__\u001b[0m\u001b[1;33m,\u001b[0m \u001b[0mfunc\u001b[0m\u001b[1;33m.\u001b[0m\u001b[0m__name__\u001b[0m\u001b[1;33m,\u001b[0m \u001b[0margs\u001b[0m\u001b[1;33m,\u001b[0m \u001b[0mresult\u001b[0m\u001b[1;33m)\u001b[0m\u001b[1;33m\u001b[0m\u001b[0m\n\u001b[1;32m--> 138\u001b[1;33m             \u001b[0mself\u001b[0m\u001b[1;33m.\u001b[0m\u001b[0mraise_exception\u001b[0m\u001b[1;33m(\u001b[0m\u001b[1;34m'The function did not return True.\\n'\u001b[0m \u001b[1;33m+\u001b[0m \u001b[0mmsg\u001b[0m\u001b[1;33m)\u001b[0m\u001b[1;33m\u001b[0m\u001b[0m\n\u001b[0m\u001b[0;32m    139\u001b[0m         \u001b[1;32mreturn\u001b[0m \u001b[0mresult\u001b[0m\u001b[1;33m\u001b[0m\u001b[0m\n\u001b[0;32m    140\u001b[0m \u001b[1;33m\u001b[0m\u001b[0m\n",
      "\u001b[1;32mC:\\Users\\USUARIO\\Anaconda3\\envs\\motorcitos\\lib\\site-packages\\msl\\equipment\\connection.py\u001b[0m in \u001b[0;36mraise_exception\u001b[1;34m(self, msg)\u001b[0m\n\u001b[0;32m     86\u001b[0m         \"\"\"\n\u001b[0;32m     87\u001b[0m         \u001b[0mself\u001b[0m\u001b[1;33m.\u001b[0m\u001b[0mlog_error\u001b[0m\u001b[1;33m(\u001b[0m\u001b[1;34m'{!r} {}'\u001b[0m\u001b[1;33m.\u001b[0m\u001b[0mformat\u001b[0m\u001b[1;33m(\u001b[0m\u001b[0mself\u001b[0m\u001b[1;33m,\u001b[0m \u001b[0mmsg\u001b[0m\u001b[1;33m)\u001b[0m\u001b[1;33m)\u001b[0m\u001b[1;33m\u001b[0m\u001b[0m\n\u001b[1;32m---> 88\u001b[1;33m         \u001b[1;32mraise\u001b[0m \u001b[0mself\u001b[0m\u001b[1;33m.\u001b[0m\u001b[0m_exception_handler\u001b[0m\u001b[1;33m(\u001b[0m\u001b[1;34m'{!r}\\n{}'\u001b[0m\u001b[1;33m.\u001b[0m\u001b[0mformat\u001b[0m\u001b[1;33m(\u001b[0m\u001b[0mself\u001b[0m\u001b[1;33m,\u001b[0m \u001b[0mmsg\u001b[0m\u001b[1;33m)\u001b[0m\u001b[1;33m)\u001b[0m\u001b[1;33m\u001b[0m\u001b[0m\n\u001b[0m\u001b[0;32m     89\u001b[0m \u001b[1;33m\u001b[0m\u001b[0m\n\u001b[0;32m     90\u001b[0m     \u001b[1;33m@\u001b[0m\u001b[0mstaticmethod\u001b[0m\u001b[1;33m\u001b[0m\u001b[0m\n",
      "\u001b[1;31mThorlabsError\u001b[0m: KCubeStepperMotor<Thorlabs|KST101|26001749 at SDK::Thorlabs.MotionControl.KCube.StepperMotor.dll>\nThe function did not return True.\nKCubeStepperMotor.SCC_LoadSettings(b'26001749',) -> False"
     ]
    }
   ],
   "source": [
    "  # load the configuration settings (so that we can use the get_real_value_from_device_unit() method)\n",
    "motor.load_settings()"
   ]
  },
  {
   "cell_type": "code",
   "execution_count": 32,
   "metadata": {
    "collapsed": true
   },
   "outputs": [],
   "source": [
    " # start polling at 200 ms\n",
    "motor.start_polling(200)"
   ]
  },
  {
   "cell_type": "code",
   "execution_count": 33,
   "metadata": {},
   "outputs": [
    {
     "name": "stderr",
     "output_type": "stream",
     "text": [
      "KCubeStepperMotor<Thorlabs|KST101|26001749 at SDK::Thorlabs.MotionControl.KCube.StepperMotor.dll> FT_GenericFunctionFail: The function failed to complete succesfully\n"
     ]
    },
    {
     "name": "stdout",
     "output_type": "stream",
     "text": [
      "Homing...\n"
     ]
    },
    {
     "ename": "ThorlabsError",
     "evalue": "KCubeStepperMotor<Thorlabs|KST101|26001749 at SDK::Thorlabs.MotionControl.KCube.StepperMotor.dll>\nFT_GenericFunctionFail: The function failed to complete succesfully",
     "output_type": "error",
     "traceback": [
      "\u001b[1;31m---------------------------------------------------------------------------\u001b[0m",
      "\u001b[1;31mThorlabsError\u001b[0m                             Traceback (most recent call last)",
      "\u001b[1;32m<ipython-input-33-a5ac4ee3da6d>\u001b[0m in \u001b[0;36m<module>\u001b[1;34m()\u001b[0m\n\u001b[0;32m      2\u001b[0m \u001b[0mprint\u001b[0m\u001b[1;33m(\u001b[0m\u001b[1;34m'Homing...'\u001b[0m\u001b[1;33m)\u001b[0m\u001b[1;33m\u001b[0m\u001b[0m\n\u001b[0;32m      3\u001b[0m \u001b[0mmotor\u001b[0m\u001b[1;33m.\u001b[0m\u001b[0mhome\u001b[0m\u001b[1;33m(\u001b[0m\u001b[1;33m)\u001b[0m\u001b[1;33m\u001b[0m\u001b[0m\n\u001b[1;32m----> 4\u001b[1;33m \u001b[0mwait\u001b[0m\u001b[1;33m(\u001b[0m\u001b[1;36m0\u001b[0m\u001b[1;33m)\u001b[0m\u001b[1;33m\u001b[0m\u001b[0m\n\u001b[0m\u001b[0;32m      5\u001b[0m \u001b[0mprint\u001b[0m\u001b[1;33m(\u001b[0m\u001b[1;34m'Homing done. At position {} [device units]'\u001b[0m\u001b[1;33m.\u001b[0m\u001b[0mformat\u001b[0m\u001b[1;33m(\u001b[0m\u001b[0mmotor\u001b[0m\u001b[1;33m.\u001b[0m\u001b[0mget_position\u001b[0m\u001b[1;33m(\u001b[0m\u001b[1;33m)\u001b[0m\u001b[1;33m)\u001b[0m\u001b[1;33m)\u001b[0m\u001b[1;33m\u001b[0m\u001b[0m\n",
      "\u001b[1;32m<ipython-input-29-b922db30b97e>\u001b[0m in \u001b[0;36mwait\u001b[1;34m(value)\u001b[0m\n\u001b[0;32m      4\u001b[0m         \u001b[1;32mwhile\u001b[0m \u001b[0mmessage_type\u001b[0m \u001b[1;33m!=\u001b[0m \u001b[1;36m2\u001b[0m \u001b[1;32mor\u001b[0m \u001b[0mmessage_id\u001b[0m \u001b[1;33m!=\u001b[0m \u001b[0mvalue\u001b[0m\u001b[1;33m:\u001b[0m\u001b[1;33m\u001b[0m\u001b[0m\n\u001b[0;32m      5\u001b[0m             \u001b[0mposition\u001b[0m \u001b[1;33m=\u001b[0m \u001b[0mmotor\u001b[0m\u001b[1;33m.\u001b[0m\u001b[0mget_position\u001b[0m\u001b[1;33m(\u001b[0m\u001b[1;33m)\u001b[0m\u001b[1;33m\u001b[0m\u001b[0m\n\u001b[1;32m----> 6\u001b[1;33m             \u001b[0mreal\u001b[0m \u001b[1;33m=\u001b[0m \u001b[0mmotor\u001b[0m\u001b[1;33m.\u001b[0m\u001b[0mget_real_value_from_device_unit\u001b[0m\u001b[1;33m(\u001b[0m\u001b[0mposition\u001b[0m\u001b[1;33m,\u001b[0m \u001b[1;34m'DISTANCE'\u001b[0m\u001b[1;33m)\u001b[0m\u001b[1;33m\u001b[0m\u001b[0m\n\u001b[0m\u001b[0;32m      7\u001b[0m             \u001b[0mprint\u001b[0m\u001b[1;33m(\u001b[0m\u001b[1;34m'  at position {} [device units] {} [real-world units]'\u001b[0m\u001b[1;33m.\u001b[0m\u001b[0mformat\u001b[0m\u001b[1;33m(\u001b[0m\u001b[0mposition\u001b[0m\u001b[1;33m,\u001b[0m \u001b[0mreal\u001b[0m\u001b[1;33m)\u001b[0m\u001b[1;33m)\u001b[0m\u001b[1;33m\u001b[0m\u001b[0m\n\u001b[0;32m      8\u001b[0m             \u001b[0mmessage_type\u001b[0m\u001b[1;33m,\u001b[0m \u001b[0mmessage_id\u001b[0m\u001b[1;33m,\u001b[0m \u001b[0m_\u001b[0m \u001b[1;33m=\u001b[0m \u001b[0mmotor\u001b[0m\u001b[1;33m.\u001b[0m\u001b[0mwait_for_message\u001b[0m\u001b[1;33m(\u001b[0m\u001b[1;33m)\u001b[0m\u001b[1;33m\u001b[0m\u001b[0m\n",
      "\u001b[1;32mC:\\Users\\USUARIO\\Anaconda3\\envs\\motorcitos\\lib\\site-packages\\msl\\equipment\\resources\\thorlabs\\kinesis\\kcube_stepper_motor.py\u001b[0m in \u001b[0;36mget_real_value_from_device_unit\u001b[1;34m(self, device_value, unit_type)\u001b[0m\n\u001b[0;32m    791\u001b[0m         \u001b[0mreal_unit\u001b[0m \u001b[1;33m=\u001b[0m \u001b[0mc_double\u001b[0m\u001b[1;33m(\u001b[0m\u001b[1;33m)\u001b[0m\u001b[1;33m\u001b[0m\u001b[0m\n\u001b[0;32m    792\u001b[0m         \u001b[0munit\u001b[0m \u001b[1;33m=\u001b[0m \u001b[0mself\u001b[0m\u001b[1;33m.\u001b[0m\u001b[0mconvert_to_enum\u001b[0m\u001b[1;33m(\u001b[0m\u001b[0munit_type\u001b[0m\u001b[1;33m,\u001b[0m \u001b[0mUnitType\u001b[0m\u001b[1;33m)\u001b[0m\u001b[1;33m\u001b[0m\u001b[0m\n\u001b[1;32m--> 793\u001b[1;33m         \u001b[0mself\u001b[0m\u001b[1;33m.\u001b[0m\u001b[0msdk\u001b[0m\u001b[1;33m.\u001b[0m\u001b[0mSCC_GetRealValueFromDeviceUnit\u001b[0m\u001b[1;33m(\u001b[0m\u001b[0mself\u001b[0m\u001b[1;33m.\u001b[0m\u001b[0m_serial\u001b[0m\u001b[1;33m,\u001b[0m \u001b[0mdevice_value\u001b[0m\u001b[1;33m,\u001b[0m \u001b[0mbyref\u001b[0m\u001b[1;33m(\u001b[0m\u001b[0mreal_unit\u001b[0m\u001b[1;33m)\u001b[0m\u001b[1;33m,\u001b[0m \u001b[0munit\u001b[0m\u001b[1;33m)\u001b[0m\u001b[1;33m\u001b[0m\u001b[0m\n\u001b[0m\u001b[0;32m    794\u001b[0m         \u001b[1;32mreturn\u001b[0m \u001b[0mreal_unit\u001b[0m\u001b[1;33m.\u001b[0m\u001b[0mvalue\u001b[0m\u001b[1;33m\u001b[0m\u001b[0m\n\u001b[0;32m    795\u001b[0m \u001b[1;33m\u001b[0m\u001b[0m\n",
      "\u001b[1;32mC:\\Users\\USUARIO\\Anaconda3\\envs\\motorcitos\\lib\\site-packages\\msl\\equipment\\resources\\thorlabs\\kinesis\\motion_control.py\u001b[0m in \u001b[0;36merrcheck_api\u001b[1;34m(self, result, func, args)\u001b[0m\n\u001b[0;32m    128\u001b[0m         \u001b[1;32mif\u001b[0m \u001b[0mresult\u001b[0m \u001b[1;33m!=\u001b[0m \u001b[0mFT_OK\u001b[0m\u001b[1;33m:\u001b[0m\u001b[1;33m\u001b[0m\u001b[0m\n\u001b[0;32m    129\u001b[0m             \u001b[0merr_name\u001b[0m\u001b[1;33m,\u001b[0m \u001b[0merr_msg\u001b[0m \u001b[1;33m=\u001b[0m \u001b[0mERROR_CODES\u001b[0m\u001b[1;33m.\u001b[0m\u001b[0mget\u001b[0m\u001b[1;33m(\u001b[0m\u001b[0mresult\u001b[0m\u001b[1;33m,\u001b[0m \u001b[1;33m(\u001b[0m\u001b[1;34m'UnhandledError'\u001b[0m\u001b[1;33m,\u001b[0m \u001b[1;34m'Error code 0x{:x}'\u001b[0m\u001b[1;33m.\u001b[0m\u001b[0mformat\u001b[0m\u001b[1;33m(\u001b[0m\u001b[0mresult\u001b[0m\u001b[1;33m)\u001b[0m\u001b[1;33m)\u001b[0m\u001b[1;33m)\u001b[0m\u001b[1;33m\u001b[0m\u001b[0m\n\u001b[1;32m--> 130\u001b[1;33m             \u001b[0mself\u001b[0m\u001b[1;33m.\u001b[0m\u001b[0mraise_exception\u001b[0m\u001b[1;33m(\u001b[0m\u001b[1;34m'{}: {}'\u001b[0m\u001b[1;33m.\u001b[0m\u001b[0mformat\u001b[0m\u001b[1;33m(\u001b[0m\u001b[0merr_name\u001b[0m\u001b[1;33m,\u001b[0m \u001b[0merr_msg\u001b[0m\u001b[1;33m)\u001b[0m\u001b[1;33m)\u001b[0m\u001b[1;33m\u001b[0m\u001b[0m\n\u001b[0m\u001b[0;32m    131\u001b[0m         \u001b[1;32mreturn\u001b[0m \u001b[0mresult\u001b[0m\u001b[1;33m\u001b[0m\u001b[0m\n\u001b[0;32m    132\u001b[0m \u001b[1;33m\u001b[0m\u001b[0m\n",
      "\u001b[1;32mC:\\Users\\USUARIO\\Anaconda3\\envs\\motorcitos\\lib\\site-packages\\msl\\equipment\\connection.py\u001b[0m in \u001b[0;36mraise_exception\u001b[1;34m(self, msg)\u001b[0m\n\u001b[0;32m     86\u001b[0m         \"\"\"\n\u001b[0;32m     87\u001b[0m         \u001b[0mself\u001b[0m\u001b[1;33m.\u001b[0m\u001b[0mlog_error\u001b[0m\u001b[1;33m(\u001b[0m\u001b[1;34m'{!r} {}'\u001b[0m\u001b[1;33m.\u001b[0m\u001b[0mformat\u001b[0m\u001b[1;33m(\u001b[0m\u001b[0mself\u001b[0m\u001b[1;33m,\u001b[0m \u001b[0mmsg\u001b[0m\u001b[1;33m)\u001b[0m\u001b[1;33m)\u001b[0m\u001b[1;33m\u001b[0m\u001b[0m\n\u001b[1;32m---> 88\u001b[1;33m         \u001b[1;32mraise\u001b[0m \u001b[0mself\u001b[0m\u001b[1;33m.\u001b[0m\u001b[0m_exception_handler\u001b[0m\u001b[1;33m(\u001b[0m\u001b[1;34m'{!r}\\n{}'\u001b[0m\u001b[1;33m.\u001b[0m\u001b[0mformat\u001b[0m\u001b[1;33m(\u001b[0m\u001b[0mself\u001b[0m\u001b[1;33m,\u001b[0m \u001b[0mmsg\u001b[0m\u001b[1;33m)\u001b[0m\u001b[1;33m)\u001b[0m\u001b[1;33m\u001b[0m\u001b[0m\n\u001b[0m\u001b[0;32m     89\u001b[0m \u001b[1;33m\u001b[0m\u001b[0m\n\u001b[0;32m     90\u001b[0m     \u001b[1;33m@\u001b[0m\u001b[0mstaticmethod\u001b[0m\u001b[1;33m\u001b[0m\u001b[0m\n",
      "\u001b[1;31mThorlabsError\u001b[0m: KCubeStepperMotor<Thorlabs|KST101|26001749 at SDK::Thorlabs.MotionControl.KCube.StepperMotor.dll>\nFT_GenericFunctionFail: The function failed to complete succesfully"
     ]
    }
   ],
   "source": [
    "# home the device\n",
    "print('Homing...')\n",
    "motor.home()\n",
    "wait(0)\n",
    "print('Homing done. At position {} [device units]'.format(motor.get_position()))"
   ]
  },
  {
   "cell_type": "code",
   "execution_count": 13,
   "metadata": {},
   "outputs": [
    {
     "name": "stdout",
     "output_type": "stream",
     "text": [
      "0\n"
     ]
    }
   ],
   "source": [
    "print(motor.get_position())"
   ]
  },
  {
   "cell_type": "code",
   "execution_count": 82,
   "metadata": {},
   "outputs": [
    {
     "name": "stdout",
     "output_type": "stream",
     "text": [
      "Moving done. At position 26112107 [device units]\n"
     ]
    }
   ],
   "source": [
    "motor.move_to_position(26112107)\n",
    "wait(1)\n",
    "print('Moving done. At position {} [device units]'.format(motor.get_position()))"
   ]
  },
  {
   "cell_type": "code",
   "execution_count": 14,
   "metadata": {},
   "outputs": [
    {
     "data": {
      "text/plain": [
       "True"
      ]
     },
     "execution_count": 14,
     "metadata": {},
     "output_type": "execute_result"
    }
   ],
   "source": [
    "motor.can_move_without_homing_first()"
   ]
  },
  {
   "cell_type": "code",
   "execution_count": 15,
   "metadata": {},
   "outputs": [
    {
     "data": {
      "text/plain": [
       "True"
      ]
     },
     "execution_count": 15,
     "metadata": {},
     "output_type": "execute_result"
    }
   ],
   "source": [
    "motor.needs_homing() #motor necesita volver al home para comenzar a moverlo..\n",
    "#VER https://msl-equipment.readthedocs.io/en/latest/_modules/msl/equipment/resources/thorlabs/kinesis/kcube_stepper_motor.html#KCubeStepperMotor.needs_homing"
   ]
  },
  {
   "cell_type": "code",
   "execution_count": 16,
   "metadata": {},
   "outputs": [
    {
     "data": {
      "text/plain": [
       "0"
      ]
     },
     "execution_count": 16,
     "metadata": {},
     "output_type": "execute_result"
    }
   ],
   "source": [
    "motor.get_device_unit_from_real_value(0.0,0) #mm\n",
    "# el 0 es xq: https://msl-equipment.readthedocs.io/en/latest/_api/msl.equipment.resources.thorlabs.kinesis.enums.html#msl.equipment.resources.thorlabs.kinesis.enums.UnitType"
   ]
  },
  {
   "cell_type": "code",
   "execution_count": 17,
   "metadata": {},
   "outputs": [
    {
     "name": "stdout",
     "output_type": "stream",
     "text": [
      "  at position 8572 [device units] 0.0042676 [real-world units]\n",
      "  at position 8572 [device units] 0.0042676 [real-world units]\n",
      "  at position 54939 [device units] 0.0273516 [real-world units]\n",
      "  at position 141475 [device units] 0.0704338 [real-world units]\n",
      "  at position 268190 [device units] 0.1335193 [real-world units]\n",
      "  at position 435142 [device units] 0.2166369 [real-world units]\n",
      "  at position 642292 [device units] 0.3197672 [real-world units]\n",
      "  at position 889569 [device units] 0.4428749 [real-world units]\n",
      "  at position 1177173 [device units] 0.5860595 [real-world units]\n",
      "  at position 1504670 [device units] 0.749105 [real-world units]\n",
      "  at position 1872611 [device units] 0.9322857 [real-world units]\n",
      "  at position 2272291 [device units] 1.1312677 [real-world units]\n",
      "  at position 2673848 [device units] 1.3311842 [real-world units]\n",
      "  at position 3075588 [device units] 1.5311918 [real-world units]\n",
      "  at position 3477326 [device units] 1.7311984 [real-world units]\n",
      "  at position 3878784 [device units] 1.9310656 [real-world units]\n",
      "  at position 4280617 [device units] 2.1311195 [real-world units]\n",
      "  at position 4682545 [device units] 2.3312207 [real-world units]\n",
      "  at position 5084191 [device units] 2.5311815 [real-world units]\n",
      "  at position 5485931 [device units] 2.7311891 [real-world units]\n",
      "  at position 5887585 [device units] 2.9311539 [real-world units]\n",
      "  at position 6289330 [device units] 3.131164 [real-world units]\n",
      "  at position 6691095 [device units] 3.3311841 [real-world units]\n",
      "  at position 7092754 [device units] 3.5311513 [real-world units]\n",
      "  at position 7494493 [device units] 3.7311584 [real-world units]\n",
      "  at position 7896422 [device units] 3.9312601 [real-world units]\n",
      "  at position 8298063 [device units] 4.1312185 [real-world units]\n",
      "  at position 8699712 [device units] 4.3311808 [real-world units]\n",
      "  at position 9101451 [device units] 4.5311879 [real-world units]\n",
      "  at position 9503097 [device units] 4.7311487 [real-world units]\n",
      "  at position 9904836 [device units] 4.9311558 [real-world units]\n",
      "  at position 10306576 [device units] 5.1311634 [real-world units]\n",
      "  at position 10708316 [device units] 5.331171 [real-world units]\n",
      "  at position 11110056 [device units] 5.5311786 [real-world units]\n",
      "  at position 11511697 [device units] 5.7311369 [real-world units]\n",
      "  at position 11913254 [device units] 5.9310534 [real-world units]\n",
      "  at position 12314993 [device units] 6.1310605 [real-world units]\n",
      "  at position 12716732 [device units] 6.3310676 [real-world units]\n",
      "  at position 13118563 [device units] 6.5311205 [real-world units]\n",
      "  at position 13520493 [device units] 6.7312227 [real-world units]\n",
      "  at position 13922044 [device units] 6.9311362 [real-world units]\n",
      "  at position 14323691 [device units] 7.1310975 [real-world units]\n",
      "  at position 14725431 [device units] 7.3311051 [real-world units]\n",
      "  at position 15127170 [device units] 7.5311122 [real-world units]\n",
      "  at position 15528907 [device units] 7.7311184 [real-world units]\n",
      "  at position 15930551 [device units] 7.9310782 [real-world units]\n",
      "  at position 16332291 [device units] 8.1310858 [real-world units]\n",
      "  at position 16734030 [device units] 8.3310929 [real-world units]\n",
      "  at position 17135775 [device units] 8.531103 [real-world units]\n",
      "  at position 17537698 [device units] 8.7312017 [real-world units]\n",
      "  at position 17939345 [device units] 8.931163 [real-world units]\n",
      "  at position 18332424 [device units] 9.1268587 [real-world units]\n",
      "  at position 18687826 [device units] 9.3037968 [real-world units]\n",
      "  at position 19003032 [device units] 9.4607231 [real-world units]\n",
      "  at position 19278035 [device units] 9.5976343 [real-world units]\n",
      "  at position 19512789 [device units] 9.7145073 [real-world units]\n",
      "  at position 19707406 [device units] 9.8113981 [real-world units]\n",
      "  at position 19861823 [device units] 9.8882751 [real-world units]\n",
      "  at position 19976043 [device units] 9.9451399 [real-world units]\n",
      "  at position 20050052 [device units] 9.9819855 [real-world units]\n",
      "  at position 20083890 [device units] 9.9988319 [real-world units]\n",
      "Moving done. At position 20086236 [device units]\n"
     ]
    }
   ],
   "source": [
    "motor.move_to_position(motor.get_device_unit_from_real_value(10.0,0))\n",
    "wait(1)\n",
    "print('Moving done. At position {} [device units]'.format(motor.get_position()))"
   ]
  },
  {
   "cell_type": "code",
   "execution_count": 9,
   "metadata": {},
   "outputs": [
    {
     "data": {
      "text/plain": [
       "0.0"
      ]
     },
     "execution_count": 9,
     "metadata": {},
     "output_type": "execute_result"
    }
   ],
   "source": [
    "motor.get_real_value_from_device_unit(motor.get_position(),0)"
   ]
  },
  {
   "cell_type": "code",
   "execution_count": null,
   "metadata": {
    "collapsed": true
   },
   "outputs": [],
   "source": [
    "#https://msl-equipment.readthedocs.io/en/latest/_api/msl.equipment.resources.thorlabs.kinesis.kcube_stepper_motor.html?highlight=move_to_position#msl.equipment.resources.thorlabs.kinesis.kcube_stepper_motor.KCubeStepperMotor.can_move_without_homing_first"
   ]
  },
  {
   "cell_type": "code",
   "execution_count": 101,
   "metadata": {},
   "outputs": [
    {
     "data": {
      "text/plain": [
       "(24.0, 41.0, 1.00329)"
      ]
     },
     "execution_count": 101,
     "metadata": {},
     "output_type": "execute_result"
    }
   ],
   "source": [
    "motor.get_motor_params()\n",
    "#float – The steps per revolution.\n",
    "#float – The gear box ratio.\n",
    "#float – The pitch."
   ]
  },
  {
   "cell_type": "code",
   "execution_count": 110,
   "metadata": {},
   "outputs": [
    {
     "name": "stdout",
     "output_type": "stream",
     "text": [
      "Jogging forwards by 200862 [device units]\n",
      "  at position 202213 [device units] 0.1006724 [real-world units]\n",
      "  at position 202213 [device units] 0.1006724 [real-world units]\n",
      "  at position 210890 [device units] 0.1049923 [real-world units]\n",
      "  at position 227605 [device units] 0.1133139 [real-world units]\n",
      "  at position 252363 [device units] 0.1256398 [real-world units]\n",
      "  at position 285170 [device units] 0.1419728 [real-world units]\n",
      "  at position 323302 [device units] 0.160957 [real-world units]\n",
      "  at position 354787 [device units] 0.1766319 [real-world units]\n",
      "  at position 378235 [device units] 0.1883056 [real-world units]\n",
      "  at position 393653 [device units] 0.1959815 [real-world units]\n",
      "  at position 401024 [device units] 0.1996511 [real-world units]\n",
      "Jogging done. At position 401724 [device units]\n"
     ]
    }
   ],
   "source": [
    "print('Jogging forwards by {} [device units]'.format(motor.get_jog_step_size()))\n",
    "motor.move_jog('Forwards') #SE MUEVE 1 mm\n",
    "wait(1)\n",
    "print('Jogging done. At position {} [device units]'.format(motor.get_position()))"
   ]
  },
  {
   "cell_type": "code",
   "execution_count": 34,
   "metadata": {
    "collapsed": true
   },
   "outputs": [],
   "source": [
    "# stop polling and close the connection\n",
    "motor.stop_polling()\n",
    "motor.disconnect()"
   ]
  },
  {
   "cell_type": "code",
   "execution_count": null,
   "metadata": {
    "collapsed": true
   },
   "outputs": [],
   "source": []
  }
 ],
 "metadata": {
  "kernelspec": {
   "display_name": "Python 3",
   "language": "python",
   "name": "python3"
  },
  "language_info": {
   "codemirror_mode": {
    "name": "ipython",
    "version": 3
   },
   "file_extension": ".py",
   "mimetype": "text/x-python",
   "name": "python",
   "nbconvert_exporter": "python",
   "pygments_lexer": "ipython3",
   "version": "3.6.1"
  }
 },
 "nbformat": 4,
 "nbformat_minor": 2
}
