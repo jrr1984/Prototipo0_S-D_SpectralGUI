{
 "cells": [
  {
   "cell_type": "code",
   "execution_count": 11,
   "metadata": {},
   "outputs": [
    {
     "name": "stdout",
     "output_type": "stream",
     "text": [
      "Building the device list...\n"
     ]
    }
   ],
   "source": [
    "\"\"\"\n",
    "This example shows how to communicate with Thorlabs KST101, KCube Stepper Motor.\n",
    "\"\"\"\n",
    "\n",
    "# https://es.stackoverflow.com/questions/32165/qu%C3%A9-es-if-name-main\n",
    "if __name__ == '__main__':\n",
    "    import os\n",
    "    from pprint import pprint\n",
    "\n",
    "    from msl.equipment import EquipmentRecord, ConnectionRecord, Backend\n",
    "\n",
    "    from msl.equipment.resources.thorlabs import MotionControl\n",
    "    # ensure that the Kinesis folder is available on PATH\n",
    "    os.environ['PATH'] += os.pathsep + 'C:/Program Files/Thorlabs/Kinesis'\n",
    "\n",
    "    print('Building the device list...')\n",
    "    MotionControl.build_device_list()\n",
    "    # rather than reading the EquipmentRecord from a database we can create it manually\n",
    "    record = EquipmentRecord(\n",
    "        manufacturer='Thorlabs',\n",
    "        model='KST101',\n",
    "        serial='26001683',  # update the serial number for your KST101\n",
    "        connection=ConnectionRecord(\n",
    "            backend=Backend.MSL,\n",
    "            address='SDK::Thorlabs.MotionControl.KCube.StepperMotor.dll',\n",
    "        ),\n",
    "    )"
   ]
  },
  {
   "cell_type": "code",
   "execution_count": 12,
   "metadata": {
    "collapsed": true
   },
   "outputs": [],
   "source": [
    "def wait(value):\n",
    "        motor.clear_message_queue()\n",
    "        message_type, message_id, _ = motor.wait_for_message()\n",
    "        while message_type != 2 or message_id != value:\n",
    "            position = motor.get_position()\n",
    "            real = motor.get_real_value_from_device_unit(position, 'DISTANCE')\n",
    "            print('  at position {} [device units] {} [real-world units]'.format(position, real))\n",
    "            message_type, message_id, _ = motor.wait_for_message()"
   ]
  },
  {
   "cell_type": "code",
   "execution_count": 13,
   "metadata": {},
   "outputs": [
    {
     "name": "stdout",
     "output_type": "stream",
     "text": [
      "Connected to KCubeStepperMotor<Thorlabs|KST101|26001683>\n"
     ]
    }
   ],
   "source": [
    "    # connect to the KCube Stepper Motor\n",
    "    motor = record.connect()\n",
    "    print('Connected to {}'.format(motor))"
   ]
  },
  {
   "cell_type": "code",
   "execution_count": 14,
   "metadata": {},
   "outputs": [],
   "source": [
    "  # load the configuration settings (so that we can use the get_real_value_from_device_unit() method)\n",
    "motor.load_settings()"
   ]
  },
  {
   "cell_type": "code",
   "execution_count": 15,
   "metadata": {},
   "outputs": [],
   "source": [
    " # start polling at 200 ms\n",
    "motor.start_polling(200)"
   ]
  },
  {
   "cell_type": "code",
   "execution_count": 16,
   "metadata": {},
   "outputs": [
    {
     "name": "stdout",
     "output_type": "stream",
     "text": [
      "Moving to 1000...\n",
      "  at position 2189754 [device units] 1.0901764 [real-world units]\n",
      "  at position 2189754 [device units] 1.0901764 [real-world units]\n",
      "  at position 2169317 [device units] 1.0800017 [real-world units]\n",
      "  at position 2108662 [device units] 1.0498044 [real-world units]\n",
      "  at position 2007761 [device units] 0.9995705 [real-world units]\n",
      "  at position 1866737 [device units] 0.9293613 [real-world units]\n",
      "  at position 1685483 [device units] 0.8391234 [real-world units]\n",
      "  at position 1464145 [device units] 0.7289295 [real-world units]\n",
      "  at position 1202513 [device units] 0.5986751 [real-world units]\n",
      "  at position 913205 [device units] 0.4546422 [real-world units]\n",
      "  at position 656666 [device units] 0.3269234 [real-world units]\n",
      "  at position 440280 [device units] 0.2191949 [real-world units]\n",
      "  at position 264013 [device units] 0.1314398 [real-world units]\n",
      "  at position 127994 [device units] 0.0637222 [real-world units]\n",
      "  at position 32183 [device units] 0.0160224 [real-world units]\n",
      "  at position -23448 [device units] -0.0116737 [real-world units]\n",
      "  at position -38713 [device units] -0.0192734 [real-world units]\n",
      "  at position -13470 [device units] -0.0067061 [real-world units]\n",
      "Moving done. At position 1000 [device units]\n"
     ]
    }
   ],
   "source": [
    "print('Moving to 1000...')\n",
    "motor.move_to_position(1000)\n",
    "wait(1)\n",
    "print('Moving done. At position {} [device units]'.format(motor.get_position()))"
   ]
  },
  {
   "cell_type": "code",
   "execution_count": 10,
   "metadata": {
    "collapsed": true
   },
   "outputs": [],
   "source": [
    "motor.disconnect()"
   ]
  },
  {
   "cell_type": "code",
   "execution_count": null,
   "metadata": {
    "collapsed": true
   },
   "outputs": [],
   "source": [
    "   # home the device\n",
    "    print('Homing...')\n",
    "    motor.home()\n",
    "    wait(0)\n",
    "    print('Homing done. At position {} [device units]'.format(motor.get_position()))\n",
    "\n",
    "    #motor.stop_polling()\n",
    "    motor.disconnect()"
   ]
  }
 ],
 "metadata": {
  "kernelspec": {
   "display_name": "Python 3",
   "language": "python",
   "name": "python3"
  },
  "language_info": {
   "codemirror_mode": {
    "name": "ipython",
    "version": 3
   },
   "file_extension": ".py",
   "mimetype": "text/x-python",
   "name": "python",
   "nbconvert_exporter": "python",
   "pygments_lexer": "ipython3",
   "version": "3.6.1"
  }
 },
 "nbformat": 4,
 "nbformat_minor": 2
}
