{
 "cells": [
  {
   "cell_type": "code",
   "execution_count": 10,
   "metadata": {},
   "outputs": [
    {
     "name": "stdout",
     "output_type": "stream",
     "text": [
      "Building the device list...\n"
     ]
    }
   ],
   "source": [
    "\n",
    "# https://es.stackoverflow.com/questions/32165/qu%C3%A9-es-if-name-main\n",
    "if __name__ == '__main__':\n",
    "    import os\n",
    "    from pprint import pprint\n",
    "\n",
    "    from msl.equipment import EquipmentRecord, ConnectionRecord, Backend\n",
    "\n",
    "    from msl.equipment.resources.thorlabs import MotionControl\n",
    "    # ensure that the Kinesis folder is available on PATH\n",
    "    os.environ['PATH'] += os.pathsep + 'C:/Program Files/Thorlabs/Kinesis'\n",
    "\n",
    "    print('Building the device list...')\n",
    "    MotionControl.build_device_list()\n",
    "    # rather than reading the EquipmentRecord from a database we can create it manually\n",
    "    record = EquipmentRecord(\n",
    "        manufacturer='Thorlabs',\n",
    "        model='KST101',\n",
    "        serial='26001683',  # 26001683  26001718\n",
    "        connection=ConnectionRecord(\n",
    "            backend=Backend.MSL,\n",
    "            address='SDK::Thorlabs.MotionControl.KCube.StepperMotor.dll',\n",
    "        ),\n",
    "    )"
   ]
  },
  {
   "cell_type": "code",
   "execution_count": 17,
   "metadata": {},
   "outputs": [],
   "source": [
    "def wait(value):\n",
    "        motor.clear_message_queue()\n",
    "        message_type, message_id, _ = motor.wait_for_message()\n",
    "        while message_type != 2 or message_id != value:\n",
    "            position = motor.get_position()\n",
    "            real = motor.get_real_value_from_device_unit(position, 'DISTANCE')\n",
    "            print('  at position {} [device units] {} [real-world units]'.format(position, real))\n",
    "            message_type, message_id, _ = motor.wait_for_message()"
   ]
  },
  {
   "cell_type": "code",
   "execution_count": 18,
   "metadata": {},
   "outputs": [
    {
     "name": "stdout",
     "output_type": "stream",
     "text": [
      "Connected to KCubeStepperMotor<Thorlabs|KST101|26001683>\n"
     ]
    }
   ],
   "source": [
    "    # connect to the KCube Stepper Motor\n",
    "motor = record.connect()\n",
    "print('Connected to {}'.format(motor))\n",
    "motor.load_settings()"
   ]
  },
  {
   "cell_type": "code",
   "execution_count": null,
   "metadata": {},
   "outputs": [],
   "source": [
    "motor.get_motor_travel_mode()"
   ]
  },
  {
   "cell_type": "code",
   "execution_count": 19,
   "metadata": {},
   "outputs": [],
   "source": [
    "motor.set_homing_velocity(5392*10000)\n",
    "motor.home()"
   ]
  },
  {
   "cell_type": "code",
   "execution_count": 20,
   "metadata": {},
   "outputs": [],
   "source": [
    "motor.set_vel_params(5392*100000,5392*100000)"
   ]
  },
  {
   "cell_type": "code",
   "execution_count": 21,
   "metadata": {},
   "outputs": [
    {
     "data": {
      "text/plain": [
       "(539200000, 539200000)"
      ]
     },
     "execution_count": 21,
     "metadata": {},
     "output_type": "execute_result"
    }
   ],
   "source": [
    "motor.get_vel_params()"
   ]
  },
  {
   "cell_type": "code",
   "execution_count": null,
   "metadata": {},
   "outputs": [],
   "source": [
    "motor.get_motor_velocity_limits()"
   ]
  },
  {
   "cell_type": "code",
   "execution_count": null,
   "metadata": {},
   "outputs": [],
   "source": [
    "motor.get_motor_travel_limits()"
   ]
  },
  {
   "cell_type": "code",
   "execution_count": 23,
   "metadata": {},
   "outputs": [],
   "source": [
    "motor.move_to_position(motor.get_device_unit_from_real_value(0.000,0))"
   ]
  },
  {
   "cell_type": "code",
   "execution_count": null,
   "metadata": {},
   "outputs": [],
   "source": [
    "motor.set_motor_velocity_limits(10.0,10.0)"
   ]
  },
  {
   "cell_type": "code",
   "execution_count": null,
   "metadata": {},
   "outputs": [],
   "source": [
    "  # load the configuration settings (so that we can use the get_real_value_from_device_unit() method)\n",
    "motor.load_named_settings(KST101)"
   ]
  },
  {
   "cell_type": "code",
   "execution_count": null,
   "metadata": {},
   "outputs": [],
   "source": [
    " # start polling at 200 ms\n",
    "motor.start_polling(200)"
   ]
  },
  {
   "cell_type": "code",
   "execution_count": null,
   "metadata": {},
   "outputs": [],
   "source": [
    "motor.get_homing_params_block()"
   ]
  },
  {
   "cell_type": "code",
   "execution_count": null,
   "metadata": {},
   "outputs": [],
   "source": [
    "# home the device\n",
    "print('Homing...')\n",
    "motor.set_homing_velocity(5392*10000)\n",
    "motor.home()\n",
    "#wait(0)\n",
    "#print('Homing done. At position {} [device units]'.format(motor.get_position()))"
   ]
  },
  {
   "cell_type": "code",
   "execution_count": null,
   "metadata": {},
   "outputs": [],
   "source": [
    "print(motor.get_position())"
   ]
  },
  {
   "cell_type": "code",
   "execution_count": null,
   "metadata": {},
   "outputs": [],
   "source": [
    "motor.move_to_position(26112107)\n",
    "#wait(1)\n",
    "print('Moving done. At position {} [device units]'.format(motor.get_position()))"
   ]
  },
  {
   "cell_type": "code",
   "execution_count": null,
   "metadata": {},
   "outputs": [],
   "source": [
    "motor.can_move_without_homing_first()"
   ]
  },
  {
   "cell_type": "code",
   "execution_count": null,
   "metadata": {},
   "outputs": [],
   "source": [
    "motor.needs_homing() #motor necesita volver al home para comenzar a moverlo..\n",
    "#VER https://msl-equipment.readthedocs.io/en/latest/_modules/msl/equipment/resources/thorlabs/kinesis/kcube_stepper_motor.html#KCubeStepperMotor.needs_homing"
   ]
  },
  {
   "cell_type": "code",
   "execution_count": null,
   "metadata": {},
   "outputs": [],
   "source": [
    "motorx.get_device_unit_from_real_value(10.0,0) #mm\n",
    "# el 0 es xq: https://msl-equipment.readthedocs.io/en/latest/_api/msl.equipment.resources.thorlabs.kinesis.enums.html#msl.equipment.resources.thorlabs.kinesis.enums.UnitType"
   ]
  },
  {
   "cell_type": "code",
   "execution_count": null,
   "metadata": {},
   "outputs": [],
   "source": [
    "motor.move_to_position(motor.get_device_unit_from_real_value(1.0,0))\n",
    "#wait(1)\n",
    "#print('Moving done. At position {} [device units]'.format(motor.get_position()))"
   ]
  },
  {
   "cell_type": "code",
   "execution_count": null,
   "metadata": {},
   "outputs": [],
   "source": [
    "motor.get_real_value_from_device_unit(motor.get_position(),0)"
   ]
  },
  {
   "cell_type": "code",
   "execution_count": null,
   "metadata": {},
   "outputs": [],
   "source": [
    "#https://msl-equipment.readthedocs.io/en/latest/_api/msl.equipment.resources.thorlabs.kinesis.kcube_stepper_motor.html?highlight=move_to_position#msl.equipment.resources.thorlabs.kinesis.kcube_stepper_motor.KCubeStepperMotor.can_move_without_homing_first"
   ]
  },
  {
   "cell_type": "code",
   "execution_count": null,
   "metadata": {},
   "outputs": [],
   "source": [
    "motor.get_motor_params()\n",
    "#float – The steps per revolution.\n",
    "#float – The gear box ratio.\n",
    "#float – The pitch."
   ]
  },
  {
   "cell_type": "code",
   "execution_count": null,
   "metadata": {},
   "outputs": [],
   "source": [
    "print('Jogging forwards by {} [device units]'.format(motor.get_jog_step_size()))\n",
    "motor.move_jog('Forwards') #SE MUEVE 1 mm\n",
    "#wait(1)\n",
    "print('Jogging done. At position {} [device units]'.format(motor.get_position()))"
   ]
  },
  {
   "cell_type": "code",
   "execution_count": 24,
   "metadata": {},
   "outputs": [],
   "source": [
    "# stop polling and close the connection\n",
    "motor.stop_polling()\n",
    "motor.disconnect()"
   ]
  },
  {
   "cell_type": "code",
   "execution_count": 16,
   "metadata": {},
   "outputs": [
    {
     "data": {
      "text/plain": [
       "0"
      ]
     },
     "execution_count": 16,
     "metadata": {},
     "output_type": "execute_result"
    }
   ],
   "source": [
    "motor.get_position()"
   ]
  },
  {
   "cell_type": "code",
   "execution_count": null,
   "metadata": {},
   "outputs": [],
   "source": []
  }
 ],
 "metadata": {
  "kernelspec": {
   "display_name": "Python 3",
   "language": "python",
   "name": "python3"
  },
  "language_info": {
   "codemirror_mode": {
    "name": "ipython",
    "version": 3
   },
   "file_extension": ".py",
   "mimetype": "text/x-python",
   "name": "python",
   "nbconvert_exporter": "python",
   "pygments_lexer": "ipython3",
   "version": "3.6.7"
  }
 },
 "nbformat": 4,
 "nbformat_minor": 2
}
