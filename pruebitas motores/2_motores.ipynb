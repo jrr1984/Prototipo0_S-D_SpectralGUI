{
 "cells": [
  {
   "cell_type": "code",
   "execution_count": 1,
   "metadata": {},
   "outputs": [
    {
     "name": "stdout",
     "output_type": "stream",
     "text": [
      "Building the device list...\n",
      "There are 2 devices in the device list\n",
      "The serial numbers of all the devices are: ['26001683', '26001718']\n"
     ]
    }
   ],
   "source": [
    "import os\n",
    "from pprint import pprint\n",
    "\n",
    "from msl.equipment import EquipmentRecord, ConnectionRecord, Backend\n",
    "\n",
    "from msl.equipment.resources.thorlabs import MotionControl\n",
    "# ensure that the Kinesis folder is available on PATH\n",
    "os.environ['PATH'] += os.pathsep + 'C:/Program Files/Thorlabs/Kinesis'\n",
    "\n",
    "print('Building the device list...')\n",
    "MotionControl.build_device_list()\n",
    "\n",
    "n_devices = MotionControl.get_device_list_size()\n",
    "if n_devices == 0:\n",
    "    print('There are no devices in the device list')\n",
    "    \n",
    "elif n_devices == 1:\n",
    "    print('There is 1 device in the device list')\n",
    "else:\n",
    "    print('There are {} devices in the device list'.format(n_devices))\n",
    "\n",
    "all_devices = MotionControl.get_device_list()\n",
    "print('The serial numbers of all the devices are: {}'.format(all_devices))\n",
    "\n",
    " #rather than reading the EquipmentRecord from a database we can create it manually\n",
    "record = EquipmentRecord(\n",
    "    manufacturer='Thorlabs',\n",
    "    model='KST101',\n",
    "    serial='26001683',  # update the serial number for your KST101\n",
    "    connection=ConnectionRecord(\n",
    "        backend=Backend.MSL,\n",
    "        address='SDK::Thorlabs.MotionControl.KCube.StepperMotor.dll',\n",
    "    ),\n",
    ")\n",
    "record2 = EquipmentRecord(\n",
    "    manufacturer='Thorlabs',\n",
    "    model='KST101',\n",
    "    serial='26001718',  # update the serial number for your KST101\n",
    "    connection=ConnectionRecord(\n",
    "    backend=Backend.MSL,\n",
    "    address='SDK::Thorlabs.MotionControl.KCube.StepperMotor.dll',\n",
    "),\n",
    ")"
   ]
  },
  {
   "cell_type": "code",
   "execution_count": 2,
   "metadata": {},
   "outputs": [],
   "source": [
    "def wait(value,motor):\n",
    "        motor.clear_message_queue()\n",
    "        message_type, message_id, _ = motor.wait_for_message()\n",
    "        while message_type != 2 or message_id != value:\n",
    "            position = motor.get_position()\n",
    "            real = motor.get_real_value_from_device_unit(position, 'DISTANCE')\n",
    "            print('  at position {} [device units] {} [real-world units]'.format(position, real))\n",
    "            message_type, message_id, _ = motor.wait_for_message()"
   ]
  },
  {
   "cell_type": "code",
   "execution_count": 3,
   "metadata": {},
   "outputs": [
    {
     "name": "stdout",
     "output_type": "stream",
     "text": [
      "Connected to KCubeStepperMotor<Thorlabs|KST101|26001683>\n",
      "Connected to KCubeStepperMotor<Thorlabs|KST101|26001718>\n"
     ]
    }
   ],
   "source": [
    "motorx = record.connect()\n",
    "print('Connected to {}'.format(motorx))\n",
    "motory = record2.connect()\n",
    "print('Connected to {}'.format(motory))\n",
    "# connect to the KCube Stepper Motor"
   ]
  },
  {
   "cell_type": "code",
   "execution_count": 4,
   "metadata": {},
   "outputs": [],
   "source": [
    "  # load the configuration settings (so that we can use the get_real_value_from_device_unit() method)\n",
    "motory.load_settings()"
   ]
  },
  {
   "cell_type": "code",
   "execution_count": 5,
   "metadata": {},
   "outputs": [],
   "source": [
    "motorx.load_settings()"
   ]
  },
  {
   "cell_type": "code",
   "execution_count": 6,
   "metadata": {},
   "outputs": [
    {
     "data": {
      "text/plain": [
       "(107837160, 11049)"
      ]
     },
     "execution_count": 6,
     "metadata": {},
     "output_type": "execute_result"
    }
   ],
   "source": [
    "motorx.get_vel_params()"
   ]
  },
  {
   "cell_type": "code",
   "execution_count": 7,
   "metadata": {},
   "outputs": [
    {
     "data": {
      "text/plain": [
       "(107837160, 11049)"
      ]
     },
     "execution_count": 7,
     "metadata": {},
     "output_type": "execute_result"
    }
   ],
   "source": [
    "motory.get_vel_params()"
   ]
  },
  {
   "cell_type": "code",
   "execution_count": 8,
   "metadata": {},
   "outputs": [
    {
     "name": "stdout",
     "output_type": "stream",
     "text": [
      "(3.001, 10.001)\n",
      "(3.001, 10.001)\n"
     ]
    }
   ],
   "source": [
    "print(motorx.get_motor_velocity_limits())\n",
    "print(motory.get_motor_velocity_limits())"
   ]
  },
  {
   "cell_type": "code",
   "execution_count": 9,
   "metadata": {},
   "outputs": [
    {
     "data": {
      "text/plain": [
       "53918580"
      ]
     },
     "execution_count": 9,
     "metadata": {},
     "output_type": "execute_result"
    }
   ],
   "source": [
    "motorx.get_homing_velocity()"
   ]
  },
  {
   "cell_type": "code",
   "execution_count": 12,
   "metadata": {},
   "outputs": [
    {
     "data": {
      "text/plain": [
       "204890604"
      ]
     },
     "execution_count": 12,
     "metadata": {},
     "output_type": "execute_result"
    }
   ],
   "source": [
    "motorx.get_device_unit_from_real_value(1.9,1)"
   ]
  },
  {
   "cell_type": "code",
   "execution_count": null,
   "metadata": {},
   "outputs": [],
   "source": [
    "from_mm_to_device_units(1)"
   ]
  },
  {
   "cell_type": "code",
   "execution_count": null,
   "metadata": {},
   "outputs": [],
   "source": [
    " # start polling at 200 ms\n",
    "motorx.start_polling(200)\n",
    "motory.start_polling(200)"
   ]
  },
  {
   "cell_type": "code",
   "execution_count": null,
   "metadata": {},
   "outputs": [],
   "source": [
    "# home the device\n",
    "print('Homing...')\n",
    "motorx.set_homing_velocity(5392*1000000)\n",
    "motorx.home()"
   ]
  },
  {
   "cell_type": "code",
   "execution_count": null,
   "metadata": {},
   "outputs": [],
   "source": [
    "print('Homing...')\n",
    "motory.set_homing_velocity(5392*100000)\n",
    "motory.home()"
   ]
  },
  {
   "cell_type": "code",
   "execution_count": null,
   "metadata": {},
   "outputs": [],
   "source": [
    "motorx.set_vel_params(5392*50000,5392*50000)\n",
    "motorx.set_vel_params(5392*50000,5392*50000)"
   ]
  },
  {
   "cell_type": "code",
   "execution_count": null,
   "metadata": {},
   "outputs": [],
   "source": [
    "def move_to_x_y_position(x,y):\n",
    "    motorx.move_to_position(motorx.get_device_unit_from_real_value(x,0))\n",
    "    motory.move_to_position(motory.get_device_unit_from_real_value(y,0))"
   ]
  },
  {
   "cell_type": "code",
   "execution_count": null,
   "metadata": {},
   "outputs": [],
   "source": [
    "move_to_x_y_position(0.0,0.0)"
   ]
  },
  {
   "cell_type": "code",
   "execution_count": null,
   "metadata": {},
   "outputs": [],
   "source": [
    "motorx.get_vel_params()"
   ]
  },
  {
   "cell_type": "code",
   "execution_count": null,
   "metadata": {},
   "outputs": [],
   "source": [
    "motory.get_vel_params()"
   ]
  },
  {
   "cell_type": "code",
   "execution_count": null,
   "metadata": {},
   "outputs": [],
   "source": [
    "motorx.stop_polling()\n",
    "motory.stop_polling()\n"
   ]
  },
  {
   "cell_type": "code",
   "execution_count": null,
   "metadata": {},
   "outputs": [],
   "source": [
    "motorx.set_vel_params(125540,1)\n",
    "motory.set_vel_params(125540,1)"
   ]
  },
  {
   "cell_type": "code",
   "execution_count": 13,
   "metadata": {},
   "outputs": [],
   "source": [
    "motory.disconnect()\n",
    "motorx.disconnect()"
   ]
  },
  {
   "cell_type": "code",
   "execution_count": null,
   "metadata": {},
   "outputs": [],
   "source": [
    "motorx.move_to_position(10043118)"
   ]
  },
  {
   "cell_type": "code",
   "execution_count": null,
   "metadata": {},
   "outputs": [],
   "source": [
    "motorx.get_device_unit_from_real_value(10,2)"
   ]
  },
  {
   "cell_type": "code",
   "execution_count": null,
   "metadata": {},
   "outputs": [],
   "source": [
    "from_mm_to_device_units(1)"
   ]
  },
  {
   "cell_type": "code",
   "execution_count": null,
   "metadata": {},
   "outputs": [],
   "source": [
    "import numpy as np\n",
    "import matplotlib.pyplot as plt\n",
    "\n",
    "y = [0,500,1000,2500,5000,10000,20000,50000,100000,500000,1000000,5000000,7000000,9000000] #mm\n",
    "x = [0,0.0002489,0.0004979,0.0012446,0.0024893,0.0049785,0.0099571,0.0248927,0.0497853,0.2489267,0.4978533,2.4892667,3.4849734,4.4806801] #device units\n",
    "\n",
    "fit = np.polyfit(x,y,1)\n",
    "fit_fn = np.poly1d(fit) \n",
    "# fit_fn is now a function which takes in x and returns an estimate for y\n",
    "\n",
    "plt.plot(x,y, 'yo', x, fit_fn(x), '--k')\n",
    "plt.xlim(0, x[-1])\n",
    "plt.ylim(0, y[-1])\n",
    "plt.show()"
   ]
  },
  {
   "cell_type": "code",
   "execution_count": null,
   "metadata": {},
   "outputs": [],
   "source": [
    "m,b= np.polyfit(x,y,1)"
   ]
  },
  {
   "cell_type": "code",
   "execution_count": null,
   "metadata": {},
   "outputs": [],
   "source": [
    "m"
   ]
  },
  {
   "cell_type": "code",
   "execution_count": null,
   "metadata": {},
   "outputs": [],
   "source": [
    "b"
   ]
  },
  {
   "cell_type": "code",
   "execution_count": null,
   "metadata": {},
   "outputs": [],
   "source": [
    "def from_device_units_to_mm(device_units):\n",
    "    return float('%.7f'%(4.9785334303194085e-07*device_units - 3.6926158834568621e-12))\n",
    "\n",
    "def from_mm_to_device_units(mm):\n",
    "    return int(2008623.651917194*mm + 7.4189049903691962e-06)\n",
    "\n"
   ]
  },
  {
   "cell_type": "code",
   "execution_count": null,
   "metadata": {},
   "outputs": [],
   "source": [
    "from_mm_to_device_units(10)"
   ]
  },
  {
   "cell_type": "code",
   "execution_count": null,
   "metadata": {},
   "outputs": [],
   "source": [
    "from_device_units_to_mm(107837160)"
   ]
  },
  {
   "cell_type": "code",
   "execution_count": null,
   "metadata": {},
   "outputs": [],
   "source": [
    "a = from_device_units_to_mm(10000)"
   ]
  },
  {
   "cell_type": "code",
   "execution_count": null,
   "metadata": {},
   "outputs": [],
   "source": [
    "from_mm_to_device_units(5)"
   ]
  },
  {
   "cell_type": "code",
   "execution_count": null,
   "metadata": {},
   "outputs": [],
   "source": []
  },
  {
   "cell_type": "code",
   "execution_count": null,
   "metadata": {},
   "outputs": [],
   "source": []
  }
 ],
 "metadata": {
  "kernelspec": {
   "display_name": "Python 3",
   "language": "python",
   "name": "python3"
  },
  "language_info": {
   "codemirror_mode": {
    "name": "ipython",
    "version": 3
   },
   "file_extension": ".py",
   "mimetype": "text/x-python",
   "name": "python",
   "nbconvert_exporter": "python",
   "pygments_lexer": "ipython3",
   "version": "3.6.7"
  }
 },
 "nbformat": 4,
 "nbformat_minor": 2
}
