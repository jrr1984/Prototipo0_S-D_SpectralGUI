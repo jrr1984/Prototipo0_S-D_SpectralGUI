{
 "cells": [
  {
   "cell_type": "code",
   "execution_count": 36,
   "metadata": {},
   "outputs": [
    {
     "name": "stdout",
     "output_type": "stream",
     "text": [
      "Building the device list...\n",
      "There are 2 devices in the device list\n",
      "The serial numbers of all the devices are: ['26001683', '26001749']\n"
     ]
    }
   ],
   "source": [
    "if __name__ == '__main__':\n",
    "    import os\n",
    "    from pprint import pprint\n",
    "\n",
    "    from msl.equipment import EquipmentRecord, ConnectionRecord, Backend\n",
    "\n",
    "    from msl.equipment.resources.thorlabs import MotionControl\n",
    "    # ensure that the Kinesis folder is available on PATH\n",
    "    os.environ['PATH'] += os.pathsep + 'C:/Program Files/Thorlabs/Kinesis'\n",
    "\n",
    "    print('Building the device list...')\n",
    "    MotionControl.build_device_list()\n",
    "    \n",
    "    n_devices = MotionControl.get_device_list_size()\n",
    "    if n_devices == 0:\n",
    "        print('There are no devices in the device list')\n",
    "        sys.exit(0)\n",
    "    elif n_devices == 1:\n",
    "        print('There is 1 device in the device list')\n",
    "    else:\n",
    "        print('There are {} devices in the device list'.format(n_devices))\n",
    "\n",
    "    all_devices = MotionControl.get_device_list()\n",
    "    print('The serial numbers of all the devices are: {}'.format(all_devices))\n",
    "    \n",
    "    # rather than reading the EquipmentRecord from a database we can create it manually\n",
    "    record = EquipmentRecord(\n",
    "        manufacturer='Thorlabs',\n",
    "        model='KST101',\n",
    "        serial='26001683',  # update the serial number for your KST101\n",
    "        connection=ConnectionRecord(\n",
    "            backend=Backend.MSL,\n",
    "            address='SDK::Thorlabs.MotionControl.KCube.StepperMotor.dll',\n",
    "        ),\n",
    "    )\n",
    "    record2 = EquipmentRecord(\n",
    "    manufacturer='Thorlabs',\n",
    "    model='KST101',\n",
    "    serial='26001749',  # update the serial number for your KST101\n",
    "    connection=ConnectionRecord(\n",
    "        backend=Backend.MSL,\n",
    "        address='SDK::Thorlabs.MotionControl.KCube.StepperMotor.dll',\n",
    "    ),\n",
    ")"
   ]
  },
  {
   "cell_type": "code",
   "execution_count": 37,
   "metadata": {
    "collapsed": true
   },
   "outputs": [],
   "source": [
    "def wait(value,motor):\n",
    "        motor.clear_message_queue()\n",
    "        message_type, message_id, _ = motor.wait_for_message()\n",
    "        while message_type != 2 or message_id != value:\n",
    "            position = motor.get_position()\n",
    "            real = motor.get_real_value_from_device_unit(position, 'DISTANCE')\n",
    "            print('  at position {} [device units] {} [real-world units]'.format(position, real))\n",
    "            message_type, message_id, _ = motor.wait_for_message()"
   ]
  },
  {
   "cell_type": "code",
   "execution_count": 38,
   "metadata": {},
   "outputs": [
    {
     "name": "stdout",
     "output_type": "stream",
     "text": [
      "Connected to KCubeStepperMotor<Thorlabs|KST101|26001749>\n",
      "Connected to KCubeStepperMotor<Thorlabs|KST101|26001683>\n"
     ]
    }
   ],
   "source": [
    "motory = record2.connect()\n",
    "print('Connected to {}'.format(motory))\n",
    "# connect to the KCube Stepper Motor\n",
    "motorx = record.connect()\n",
    "print('Connected to {}'.format(motorx))"
   ]
  },
  {
   "cell_type": "code",
   "execution_count": 39,
   "metadata": {},
   "outputs": [],
   "source": [
    "  # load the configuration settings (so that we can use the get_real_value_from_device_unit() method)\n",
    "motory.load_settings()\n",
    "motorx.load_settings()"
   ]
  },
  {
   "cell_type": "code",
   "execution_count": 40,
   "metadata": {
    "collapsed": true
   },
   "outputs": [],
   "source": [
    " # start polling at 200 ms\n",
    "motorx.start_polling(200)\n",
    "motory.start_polling(200)"
   ]
  },
  {
   "cell_type": "code",
   "execution_count": 41,
   "metadata": {},
   "outputs": [
    {
     "name": "stdout",
     "output_type": "stream",
     "text": [
      "Homing...\n",
      "  at position -13 [device units] -6.5e-06 [real-world units]\n",
      "  at position -13 [device units] -6.5e-06 [real-world units]\n",
      "  at position -75381 [device units] -0.0375287 [real-world units]\n",
      "  at position -267706 [device units] -0.1332783 [real-world units]\n",
      "  at position -283142 [device units] -0.1409632 [real-world units]\n",
      "  at position -283142 [device units] -0.1409632 [real-world units]\n",
      "  at position -242737 [device units] -0.1208474 [real-world units]\n",
      "  at position -202348 [device units] -0.1007396 [real-world units]\n",
      "  at position -202348 [device units] -0.1007396 [real-world units]\n",
      "  at position 19466 [device units] 0.0096912 [real-world units]\n",
      "  at position 59853 [device units] 0.029798 [real-world units]\n",
      "  at position 100246 [device units] 0.0499078 [real-world units]\n",
      "  at position 140664 [device units] 0.07003 [real-world units]\n",
      "  at position 181087 [device units] 0.0901548 [real-world units]\n",
      "  at position 0 [device units] 0.0 [real-world units]\n",
      "  at position 0 [device units] 0.0 [real-world units]\n",
      "Homing done. At position 0 [device units]\n"
     ]
    }
   ],
   "source": [
    "# home the device\n",
    "print('Homing...')\n",
    "motorx.home()\n",
    "wait(0,motorx)\n",
    "print('Homing done. At position {} [device units]'.format(motorx.get_position()))"
   ]
  },
  {
   "cell_type": "code",
   "execution_count": 42,
   "metadata": {},
   "outputs": [
    {
     "name": "stdout",
     "output_type": "stream",
     "text": [
      "Homing...\n",
      "  at position 399964 [device units] 0.1991234 [real-world units]\n",
      "  at position 399964 [device units] 0.1991234 [real-world units]\n",
      "  at position 302239 [device units] 0.1504707 [real-world units]\n",
      "  at position 104096 [device units] 0.0518245 [real-world units]\n",
      "  at position -96853 [device units] -0.0482186 [real-world units]\n",
      "  at position -297741 [device units] -0.1482314 [real-world units]\n",
      "  at position -344338 [device units] -0.1714298 [real-world units]\n",
      "  at position -344338 [device units] -0.1714298 [real-world units]\n",
      "  at position -303941 [device units] -0.151318 [real-world units]\n",
      "  at position -263527 [device units] -0.1311978 [real-world units]\n",
      "  at position -223127 [device units] -0.1110845 [real-world units]\n",
      "  at position 6514 [device units] 0.003243 [real-world units]\n",
      "  at position 6514 [device units] 0.003243 [real-world units]\n",
      "  at position 43123 [device units] 0.0214689 [real-world units]\n",
      "  at position 83522 [device units] 0.0415817 [real-world units]\n",
      "  at position 123930 [device units] 0.061699 [real-world units]\n",
      "  at position 164328 [device units] 0.0818112 [real-world units]\n",
      "  at position 197535 [device units] 0.0983435 [real-world units]\n",
      "  at position 197535 [device units] 0.0983435 [real-world units]\n",
      "Homing done. At position 197535 [device units]\n"
     ]
    }
   ],
   "source": [
    "print('Homing...')\n",
    "motory.home()\n",
    "wait(0,motory)\n",
    "print('Homing done. At position {} [device units]'.format(motory.get_position()))"
   ]
  },
  {
   "cell_type": "code",
   "execution_count": 26,
   "metadata": {},
   "outputs": [],
   "source": []
  },
  {
   "cell_type": "code",
   "execution_count": 49,
   "metadata": {
    "collapsed": true
   },
   "outputs": [],
   "source": [
    "def move_to_x_y_position(x,y):\n",
    "    motorx.move_to_position(motorx.get_device_unit_from_real_value(x,0))\n",
    "    motory.move_to_position(motory.get_device_unit_from_real_value(y,0))\n",
    "    print('Moving done. At position {} [device units]'.format(motorx.get_position()))\n",
    "    print('Moving done. At position {} [device units]'.format(motory.get_position()))"
   ]
  },
  {
   "cell_type": "code",
   "execution_count": 50,
   "metadata": {},
   "outputs": [
    {
     "name": "stdout",
     "output_type": "stream",
     "text": [
      "Moving done. At position 20086236 [device units]\n",
      "Moving done. At position 20086236 [device units]\n"
     ]
    }
   ],
   "source": [
    "move_to_x_y_position(1.0,1.0)"
   ]
  },
  {
   "cell_type": "code",
   "execution_count": 51,
   "metadata": {
    "collapsed": true
   },
   "outputs": [],
   "source": [
    "motory.disconnect()\n",
    "motorx.disconnect()"
   ]
  },
  {
   "cell_type": "code",
   "execution_count": null,
   "metadata": {
    "collapsed": true
   },
   "outputs": [],
   "source": []
  }
 ],
 "metadata": {
  "kernelspec": {
   "display_name": "Python 3",
   "language": "python",
   "name": "python3"
  },
  "language_info": {
   "codemirror_mode": {
    "name": "ipython",
    "version": 3
   },
   "file_extension": ".py",
   "mimetype": "text/x-python",
   "name": "python",
   "nbconvert_exporter": "python",
   "pygments_lexer": "ipython3",
   "version": "3.6.1"
  }
 },
 "nbformat": 4,
 "nbformat_minor": 2
}
