{
 "cells": [
  {
   "cell_type": "code",
   "execution_count": 90,
   "metadata": {},
   "outputs": [],
   "source": [
    "import os\n",
    "from pprint import pprint\n",
    "\n",
    "from msl.equipment import EquipmentRecord, ConnectionRecord, Backend\n",
    "\n",
    "from msl.equipment.resources.thorlabs import MotionControl\n",
    "# ensure that the Kinesis folder is available on PATH\n",
    "os.environ['PATH'] += os.pathsep + 'C:/Program Files/Thorlabs/Kinesis'\n",
    "\n",
    "\n",
    "\n",
    "#FUNCIONES DESEADAS POR EL USUARIO\n",
    "#1) DECIME QUE STEP MOTORS/DRIVERS HAY CONECTADOS A LA COMPU Y DAME LOS SERIAL NUMBER'S\n",
    "#2) CONECTATE A LOS MOTORES Y LLEVALOS AL HOME XQ ES OBLIGATORIO PARA PODER MOVERLOS\n",
    "#3) WAIT QUE YA VENÌA..\n",
    "#4) MOVELOS A UNA CIERTA POSICIÒN X,Y\n",
    "#5) DESCONECTATE DE LOS MOTORES\n",
    "\n",
    "class ThorlabsStageWithStepMotors:\n",
    "\n",
    "    def whos_connected(self):\n",
    "        print('Building the device list...')\n",
    "        MotionControl.build_device_list()\n",
    "        n_devices = MotionControl.get_device_list_size()\n",
    "        if n_devices == 0:\n",
    "            print('There are no devices in the device list')\n",
    "            sys.exit(0)\n",
    "        elif n_devices == 1:\n",
    "            print('There is 1 device in the device list')\n",
    "        else:\n",
    "            print('There are {} devices in the device list'.format(n_devices))\n",
    "        all_devices = MotionControl.get_device_list()\n",
    "        print('The serial numbers of all the devices are: {}'.format(all_devices))\n",
    "    \n",
    "        \n",
    "        \n",
    "        \n",
    "    def set_x_and_y_motor(self,serialx,serialy):        \n",
    "        recordx = EquipmentRecord(\n",
    "            manufacturer='Thorlabs',\n",
    "            model='KST101',\n",
    "            serial= str(serialx),  # update the serial number for your KST101\n",
    "            connection=ConnectionRecord(\n",
    "                backend=Backend.MSL,\n",
    "                address='SDK::Thorlabs.MotionControl.KCube.StepperMotor.dll',\n",
    "            ),\n",
    "        )\n",
    "        recordy = EquipmentRecord(\n",
    "            manufacturer='Thorlabs',\n",
    "            model='KST101',\n",
    "            serial= str(serialy),  # update the serial number for your KST101\n",
    "            connection=ConnectionRecord(\n",
    "                backend=Backend.MSL,\n",
    "                address='SDK::Thorlabs.MotionControl.KCube.StepperMotor.dll',\n",
    "            ),\n",
    "        )\n",
    "        print('The motor in the x direction is the one with serial number # ' + str(serialx))\n",
    "        print('The motor in the y direction is the one with serial number # ' + str(serialy))\n",
    "        self.motorx = recordx.connect()\n",
    "        self.motory = recordy.connect()\n",
    "        print('Connected to {}'.format(self.motorx))\n",
    "        print('Connected to {}'.format(self.motory))\n",
    "        # load the configuration settings (so that we can use the get_real_value_from_device_unit() method)\n",
    "        try:\n",
    "            self.motory.load_settings()\n",
    "            self.motorx.load_settings()\n",
    "        except:\n",
    "            print(\"Can-t load settings\")\n",
    "             # start polling at 200 ms\n",
    "            self.motorx.start_polling(200)\n",
    "            self.motory.start_polling(200)\n",
    "            print('Homing both motors...')\n",
    "            self.motorx.home()\n",
    "            self.motory.home()\n",
    "            self.wait(0,self.motorx)\n",
    "            self.wait(0,self.motory)\n",
    "            print('Homing done.')          \n",
    "        \n",
    "        \n",
    "    def wait(self,value,motor):\n",
    "        motor.clear_message_queue()\n",
    "        message_type, message_id, _ = motor.wait_for_message()\n",
    "        while message_type != 2 or message_id != value:\n",
    "            position = motor.get_position()\n",
    "            real = motor.get_real_value_from_device_unit(position, 'DISTANCE')\n",
    "            #print('  at position {} [device units] {} [real-world units]'.format(position, real))\n",
    "            message_type, message_id, _ = motor.wait_for_message()\n",
    "            \n",
    "    def move_to_x_y_position(self,x,y):\n",
    "        try:\n",
    "            self.motorx.load_settings()\n",
    "            self.motory.load_settings()\n",
    "            self.motorx.move_to_position(self.motorx.get_device_unit_from_real_value(x,0))\n",
    "            self.motory.move_to_position(self.motory.get_device_unit_from_real_value(y,0))\n",
    "            \n",
    "        except:\n",
    "            self.motorx.move_to_position(self.from_mm_to_device_units(x))\n",
    "            self.motory.move_to_position(self.from_mm_to_device_units(y))     \n",
    "            \n",
    "    def disconnect_stage(self):\n",
    "        # stop polling and close the connection\n",
    "        self.motorx.home()\n",
    "        self.motory.home()\n",
    "        print('Homing..')\n",
    "        self.motorx.stop_polling()\n",
    "        self.motory.stop_polling()\n",
    "        self.motory.disconnect()\n",
    "        self.motorx.disconnect()\n",
    "        print('Stage disconnected')\n",
    "        \n",
    "    def get_vel_params(self):\n",
    "        print(self.motorx.get_vel_params())\n",
    "        print(self.motory.get_vel_params())\n",
    "    \n",
    "    \n",
    "    def set_vel_params(self,max_vel_x, accel_x,max_vel_y,accel_y):\n",
    "        self.motorx.set_vel_params(max_vel_x, accel_x)\n",
    "        self.motory.set_vel_params(max_vel_y, accel_y)\n",
    "        \n",
    "      \n",
    "    def from_device_units_to_mm(self,device_units):\n",
    "        return float('%.7f'%(4.9785334303194085e-07*device_units - 3.6926158834568621e-12))\n",
    "    def from_mm_to_device_units(self,mm):\n",
    "        return int(2008623.651917194*mm + 7.4189049903691962e-06)\n",
    "    \n",
    "    def get_x_y_position(self):\n",
    "        pos_x = self.motorx.get_position()\n",
    "        #x = self.from_device_units_to_mm(pos_x)\n",
    "        x = self.motorx.get_real_value_from_device_unit(pos_x, 'DISTANCE')\n",
    "        pos_y = self.motory.get_position()\n",
    "        y = self.motory.get_real_value_from_device_unit(pos_y, 'DISTANCE')\n",
    "        #y = self.from_device_units_to_mm(pos_y)\n",
    "        return x,y\n",
    "    \n",
    "    def go_home(self):\n",
    "        self.motorx.start_polling(200)\n",
    "        self.motory.start_polling(200)\n",
    "        print('Homing both motors...')\n",
    "        self.motorx.home()\n",
    "        self.motory.home()\n",
    "        try:\n",
    "            self.wait(0,self.motorx)\n",
    "            self.wait(0,self.motory)\n",
    "            print('Homing done.')\n",
    "        except:\n",
    "            print('Homing anyway')\n",
    "            "
   ]
  },
  {
   "cell_type": "code",
   "execution_count": 91,
   "metadata": {},
   "outputs": [],
   "source": [
    "stage = ThorlabsStageWithStepMotors()"
   ]
  },
  {
   "cell_type": "code",
   "execution_count": 92,
   "metadata": {},
   "outputs": [
    {
     "name": "stdout",
     "output_type": "stream",
     "text": [
      "Building the device list...\n",
      "There are 2 devices in the device list\n",
      "The serial numbers of all the devices are: ['26001683', '26001718']\n"
     ]
    }
   ],
   "source": [
    "stage.whos_connected()"
   ]
  },
  {
   "cell_type": "code",
   "execution_count": 97,
   "metadata": {},
   "outputs": [
    {
     "name": "stdout",
     "output_type": "stream",
     "text": [
      "The motor in the x direction is the one with serial number # 26001683\n",
      "The motor in the y direction is the one with serial number # 26001718\n",
      "Connected to KCubeStepperMotor<Thorlabs|KST101|26001683>\n",
      "Connected to KCubeStepperMotor<Thorlabs|KST101|26001718>\n"
     ]
    }
   ],
   "source": [
    "stage.set_x_and_y_motor(26001683,26001718)"
   ]
  },
  {
   "cell_type": "code",
   "execution_count": 107,
   "metadata": {},
   "outputs": [
    {
     "name": "stdout",
     "output_type": "stream",
     "text": [
      "Homing..\n",
      "Stage disconnected\n"
     ]
    }
   ],
   "source": [
    "stage.disconnect_stage()"
   ]
  },
  {
   "cell_type": "code",
   "execution_count": 44,
   "metadata": {},
   "outputs": [
    {
     "name": "stdout",
     "output_type": "stream",
     "text": [
      "(1.0000002, 1.0000002)\n",
      "(1.0000002, 1.0000002)\n",
      "(1.0000002, 1.0000002)\n",
      "(1.0000002, 1.0000002)\n",
      "(1.0000002, 1.0000002)\n",
      "(1.0000002, 1.0000002)\n",
      "(1.0000002, 1.0000002)\n",
      "(1.0000002, 1.0000002)\n",
      "(1.0000002, 1.0000002)\n",
      "(1.0000002, 1.0000002)\n",
      "(1.0000002, 1.0000002)\n",
      "(1.0000002, 1.0000002)\n",
      "(1.0000002, 1.0000002)\n",
      "(1.0000002, 1.0000002)\n",
      "(1.0000002, 1.0000002)\n",
      "(1.0000002, 1.0000002)\n",
      "(1.0000002, 1.0000002)\n",
      "(1.0000002, 1.0000002)\n",
      "(1.0000002, 1.0000002)\n",
      "(1.0000002, 1.0000002)\n",
      "(1.0000002, 1.0000002)\n",
      "(1.0000002, 1.0000002)\n",
      "(1.0000002, 1.0000002)\n",
      "(1.0000002, 1.0000002)\n",
      "(1.0000002, 1.0000002)\n",
      "(1.0000002, 1.0000002)\n",
      "(1.0000002, 1.0000002)\n",
      "(1.0000002, 1.0000002)\n",
      "(1.0000002, 1.0000002)\n",
      "(1.0000002, 1.0000002)\n",
      "(1.0000002, 1.0000002)\n",
      "(1.0000002, 1.0000002)\n",
      "(1.0000002, 1.0000002)\n",
      "3.7336599826812744\n"
     ]
    }
   ],
   "source": [
    "import time\n",
    "start = time.time()\n",
    "a = 0.0\n",
    "stage.move_to_x_y_position(a,a)\n",
    "while (stage.get_x_y_position() != (a,a)):\n",
    "    print(stage.get_x_y_position())\n",
    "    success = False\n",
    "    time.sleep(0.1)\n",
    "success=True\n",
    "\n",
    "final = time.time() - start\n",
    "print(final)"
   ]
  },
  {
   "cell_type": "code",
   "execution_count": 36,
   "metadata": {},
   "outputs": [
    {
     "ename": "SyntaxError",
     "evalue": "invalid syntax (<ipython-input-36-ab96bc880cd4>, line 2)",
     "output_type": "error",
     "traceback": [
      "\u001b[1;36m  File \u001b[1;32m\"<ipython-input-36-ab96bc880cd4>\"\u001b[1;36m, line \u001b[1;32m2\u001b[0m\n\u001b[1;33m    while (stage.get_x_y_position() == (2.0,2.0))\u001b[0m\n\u001b[1;37m                                                  ^\u001b[0m\n\u001b[1;31mSyntaxError\u001b[0m\u001b[1;31m:\u001b[0m invalid syntax\n"
     ]
    }
   ],
   "source": [
    "stage.move_to_x_y_position(2.0,2.0)\n",
    "while (stage.get_x_y_position() == (2.0,2.0)) \n",
    "if ():\n",
    "    stage.move_to_x_y_position(3.0,3.0)"
   ]
  },
  {
   "cell_type": "code",
   "execution_count": 6,
   "metadata": {},
   "outputs": [
    {
     "name": "stdout",
     "output_type": "stream",
     "text": [
      "Homing both motors...\n",
      "Homing done.\n"
     ]
    }
   ],
   "source": [
    "stage.go_home()"
   ]
  },
  {
   "cell_type": "code",
   "execution_count": 7,
   "metadata": {},
   "outputs": [
    {
     "name": "stdout",
     "output_type": "stream",
     "text": [
      "(107837160, 11049)\n",
      "(107837160, 11049)\n"
     ]
    }
   ],
   "source": [
    "stage.get_vel_params()"
   ]
  },
  {
   "cell_type": "code",
   "execution_count": 8,
   "metadata": {},
   "outputs": [
    {
     "name": "stdout",
     "output_type": "stream",
     "text": [
      "Homing..\n",
      "Stage disconnected\n"
     ]
    }
   ],
   "source": [
    "stage.disconnect_stage()"
   ]
  },
  {
   "cell_type": "code",
   "execution_count": null,
   "metadata": {
    "collapsed": true
   },
   "outputs": [],
   "source": []
  },
  {
   "cell_type": "code",
   "execution_count": null,
   "metadata": {
    "collapsed": true
   },
   "outputs": [],
   "source": []
  },
  {
   "cell_type": "code",
   "execution_count": null,
   "metadata": {
    "collapsed": true
   },
   "outputs": [],
   "source": []
  }
 ],
 "metadata": {
  "kernelspec": {
   "display_name": "Python 3",
   "language": "python",
   "name": "python3"
  },
  "language_info": {
   "codemirror_mode": {
    "name": "ipython",
    "version": 3
   },
   "file_extension": ".py",
   "mimetype": "text/x-python",
   "name": "python",
   "nbconvert_exporter": "python",
   "pygments_lexer": "ipython3",
   "version": "3.7.3"
  }
 },
 "nbformat": 4,
 "nbformat_minor": 2
}
