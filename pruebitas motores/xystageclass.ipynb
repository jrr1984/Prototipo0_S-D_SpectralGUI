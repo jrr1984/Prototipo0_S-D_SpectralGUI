{
 "cells": [
  {
   "cell_type": "code",
   "execution_count": 88,
   "metadata": {
    "collapsed": true
   },
   "outputs": [],
   "source": [
    "import os\n",
    "from pprint import pprint\n",
    "\n",
    "from msl.equipment import EquipmentRecord, ConnectionRecord, Backend\n",
    "\n",
    "from msl.equipment.resources.thorlabs import MotionControl\n",
    "# ensure that the Kinesis folder is available on PATH\n",
    "os.environ['PATH'] += os.pathsep + 'C:/Program Files/Thorlabs/Kinesis'\n",
    "\n",
    "\n",
    "\n",
    "#FUNCIONES QUE QUIERO\n",
    "#1) DECIME QUE STEP MOTORS/DRIVERS HAY CONECTADOS A LA COMPU Y DAME LOS SERIAL NUMBER'S\n",
    "#2) CONECTATE A LOS MOTORES Y LLEVALOS AL HOME XQ ES OBLIGATORIO PARA PODER MOVERLOS\n",
    "#3) WAIT QUE YA VENÌA..\n",
    "#4) MOVELOS A UNA CIERTA POSICIÒN X,Y\n",
    "#5) DESCONECTATE DE LOS MOTORES\n",
    "\n",
    "class ThorlabsStageWithStepMotors:\n",
    "\n",
    "    def what_is_connected(self):\n",
    "        print('Building the device list...')\n",
    "        MotionControl.build_device_list()\n",
    "        n_devices = MotionControl.get_device_list_size()\n",
    "        if n_devices == 0:\n",
    "            print('There are no devices in the device list')\n",
    "            sys.exit(0)\n",
    "        elif n_devices == 1:\n",
    "            print('There is 1 device in the device list')\n",
    "        else:\n",
    "            print('There are {} devices in the device list'.format(n_devices))\n",
    "        all_devices = MotionControl.get_device_list()\n",
    "        print('The serial numbers of all the devices are: {}'.format(all_devices))\n",
    "    \n",
    "        \n",
    "        \n",
    "        \n",
    "    def set_x_and_y_motor(self,serialx,serialy):        \n",
    "        recordx = EquipmentRecord(\n",
    "            manufacturer='Thorlabs',\n",
    "            model='KST101',\n",
    "            serial= str(serialx),  # update the serial number for your KST101\n",
    "            connection=ConnectionRecord(\n",
    "                backend=Backend.MSL,\n",
    "                address='SDK::Thorlabs.MotionControl.KCube.StepperMotor.dll',\n",
    "            ),\n",
    "        )\n",
    "        recordy = EquipmentRecord(\n",
    "            manufacturer='Thorlabs',\n",
    "            model='KST101',\n",
    "            serial= str(serialy),  # update the serial number for your KST101\n",
    "            connection=ConnectionRecord(\n",
    "                backend=Backend.MSL,\n",
    "                address='SDK::Thorlabs.MotionControl.KCube.StepperMotor.dll',\n",
    "            ),\n",
    "        )\n",
    "        print('The motor in the x direction is the one with serial number # ' + str(serialx))\n",
    "        print('The motor in the y direction is the one with serial number # ' + str(serialy))\n",
    "        motorx = recordx.connect()\n",
    "        motory = recordy.connect()\n",
    "        print('Connected to {}'.format(motorx))\n",
    "        print('Connected to {}'.format(motory))\n",
    "        # load the configuration settings (so that we can use the get_real_value_from_device_unit() method)\n",
    "        motorx.load_settings()\n",
    "        motory.load_settings()\n",
    "        # start polling at 200 ms\n",
    "        motorx.start_polling(200)\n",
    "        motory.start_polling(200)\n",
    "        print('Homing both motors...')\n",
    "        motorx.home()\n",
    "        motory.home()\n",
    "        self.wait(0,motorx)\n",
    "        self.wait(0,motory)\n",
    "        print('Homing done. X motor is at position {} [mm]'.format(motorx.get_position()) + ' and Y motor at position {} [mm]'.format(motorx.get_position()))\n",
    "        \n",
    "        \n",
    "        \n",
    "        \n",
    "        \n",
    "        \n",
    "    def wait(self,value,motor):\n",
    "        motor.clear_message_queue()\n",
    "        message_type, message_id, _ = motor.wait_for_message()\n",
    "        while message_type != 2 or message_id != value:\n",
    "            position = motor.get_position()\n",
    "            real = motor.get_real_value_from_device_unit(position, 'DISTANCE')\n",
    "            print('  at position {} [device units] {} [real-world units]'.format(position, real))\n",
    "            message_type, message_id, _ = motor.wait_for_message()\n",
    "            \n",
    "    def move_to_x_y_position(self,x,y):\n",
    "        if motorx.get_position() == 0 and motory.getposition() == 0:\n",
    "            motorx.move_to_position(motorx.get_device_unit_from_real_value(x,0))\n",
    "            motory.move_to_position(motory.get_device_unit_from_real_value(y,0))\n",
    "            print('Moving done. At position {} [device units]'.format(motorx.get_position()))\n",
    "            print('Moving done. At position {} [device units]'.format(motory.get_position()))\n",
    "            \n",
    "    def disconnect_stage(self):\n",
    "        # stop polling and close the connection\n",
    "        motorx.stop_polling()\n",
    "        motory.stop_polling()\n",
    "        motory.disconnect()\n",
    "        motorx.disconnect()\n",
    "        \n",
    "            \n",
    "\n",
    "        "
   ]
  },
  {
   "cell_type": "code",
   "execution_count": 85,
   "metadata": {
    "collapsed": true
   },
   "outputs": [],
   "source": [
    "stage = ThorlabsStageWithStepMotors()"
   ]
  },
  {
   "cell_type": "code",
   "execution_count": 86,
   "metadata": {
    "collapsed": false
   },
   "outputs": [
    {
     "name": "stdout",
     "output_type": "stream",
     "text": [
      "Building the device list...\n",
      "There are 2 devices in the device list\n",
      "The serial numbers of all the devices are: ['26001683', '26001718']\n"
     ]
    }
   ],
   "source": [
    "stage.what_is_connected()"
   ]
  },
  {
   "cell_type": "code",
   "execution_count": 90,
   "metadata": {
    "collapsed": false
   },
   "outputs": [
    {
     "name": "stdout",
     "output_type": "stream",
     "text": [
      "The motor in the x direction is the one with serial number # 26001683\n",
      "The motor in the y direction is the one with serial number # 26001718\n"
     ]
    },
    {
     "name": "stderr",
     "output_type": "stream",
     "text": [
      "KCubeStepperMotor<Thorlabs|KST101|26001718 at SDK::Thorlabs.MotionControl.KCube.StepperMotor.dll> The function did not return True.\n",
      "KCubeStepperMotor.SCC_LoadSettings(b'26001718',) -> False\n"
     ]
    },
    {
     "name": "stdout",
     "output_type": "stream",
     "text": [
      "Connected to KCubeStepperMotor<Thorlabs|KST101|26001683>\n",
      "Connected to KCubeStepperMotor<Thorlabs|KST101|26001718>\n"
     ]
    },
    {
     "ename": "ThorlabsError",
     "evalue": "KCubeStepperMotor<Thorlabs|KST101|26001718 at SDK::Thorlabs.MotionControl.KCube.StepperMotor.dll>\nThe function did not return True.\nKCubeStepperMotor.SCC_LoadSettings(b'26001718',) -> False",
     "output_type": "error",
     "traceback": [
      "\u001b[1;31m---------------------------------------------------------------------------\u001b[0m",
      "\u001b[1;31mThorlabsError\u001b[0m                             Traceback (most recent call last)",
      "\u001b[1;32m<ipython-input-90-21b527975bb6>\u001b[0m in \u001b[0;36m<module>\u001b[1;34m()\u001b[0m\n\u001b[1;32m----> 1\u001b[1;33m \u001b[0mstage\u001b[0m\u001b[1;33m.\u001b[0m\u001b[0mset_x_and_y_motor\u001b[0m\u001b[1;33m(\u001b[0m\u001b[1;36m26001683\u001b[0m\u001b[1;33m,\u001b[0m\u001b[1;36m26001718\u001b[0m\u001b[1;33m)\u001b[0m\u001b[1;33m\u001b[0m\u001b[0m\n\u001b[0m",
      "\u001b[1;32m<ipython-input-84-ad92f05e2fca>\u001b[0m in \u001b[0;36mset_x_and_y_motor\u001b[1;34m(self, serialx, serialy)\u001b[0m\n\u001b[0;32m     63\u001b[0m         \u001b[1;31m# load the configuration settings (so that we can use the get_real_value_from_device_unit() method)\u001b[0m\u001b[1;33m\u001b[0m\u001b[1;33m\u001b[0m\u001b[0m\n\u001b[0;32m     64\u001b[0m         \u001b[0mmotorx\u001b[0m\u001b[1;33m.\u001b[0m\u001b[0mload_settings\u001b[0m\u001b[1;33m(\u001b[0m\u001b[1;33m)\u001b[0m\u001b[1;33m\u001b[0m\u001b[0m\n\u001b[1;32m---> 65\u001b[1;33m         \u001b[0mmotory\u001b[0m\u001b[1;33m.\u001b[0m\u001b[0mload_settings\u001b[0m\u001b[1;33m(\u001b[0m\u001b[1;33m)\u001b[0m\u001b[1;33m\u001b[0m\u001b[0m\n\u001b[0m\u001b[0;32m     66\u001b[0m         \u001b[1;31m# start polling at 200 ms\u001b[0m\u001b[1;33m\u001b[0m\u001b[1;33m\u001b[0m\u001b[0m\n\u001b[0;32m     67\u001b[0m         \u001b[0mmotorx\u001b[0m\u001b[1;33m.\u001b[0m\u001b[0mstart_polling\u001b[0m\u001b[1;33m(\u001b[0m\u001b[1;36m200\u001b[0m\u001b[1;33m)\u001b[0m\u001b[1;33m\u001b[0m\u001b[0m\n",
      "\u001b[1;32mC:\\Users\\USUARIO\\Anaconda3\\envs\\motorcitos\\lib\\site-packages\\msl\\equipment\\resources\\thorlabs\\kinesis\\kcube_stepper_motor.py\u001b[0m in \u001b[0;36mload_settings\u001b[1;34m(self)\u001b[0m\n\u001b[0;32m   1056\u001b[0m             \u001b[0mIf\u001b[0m \u001b[1;32mnot\u001b[0m \u001b[0msuccessful\u001b[0m\u001b[1;33m.\u001b[0m\u001b[1;33m\u001b[0m\u001b[0m\n\u001b[0;32m   1057\u001b[0m         \"\"\"\n\u001b[1;32m-> 1058\u001b[1;33m         \u001b[0mself\u001b[0m\u001b[1;33m.\u001b[0m\u001b[0msdk\u001b[0m\u001b[1;33m.\u001b[0m\u001b[0mSCC_LoadSettings\u001b[0m\u001b[1;33m(\u001b[0m\u001b[0mself\u001b[0m\u001b[1;33m.\u001b[0m\u001b[0m_serial\u001b[0m\u001b[1;33m)\u001b[0m\u001b[1;33m\u001b[0m\u001b[0m\n\u001b[0m\u001b[0;32m   1059\u001b[0m \u001b[1;33m\u001b[0m\u001b[0m\n\u001b[0;32m   1060\u001b[0m     \u001b[1;32mdef\u001b[0m \u001b[0mload_named_settings\u001b[0m\u001b[1;33m(\u001b[0m\u001b[0mself\u001b[0m\u001b[1;33m,\u001b[0m \u001b[0msettings_name\u001b[0m\u001b[1;33m)\u001b[0m\u001b[1;33m:\u001b[0m\u001b[1;33m\u001b[0m\u001b[0m\n",
      "\u001b[1;32mC:\\Users\\USUARIO\\Anaconda3\\envs\\motorcitos\\lib\\site-packages\\msl\\equipment\\resources\\thorlabs\\kinesis\\motion_control.py\u001b[0m in \u001b[0;36merrcheck_true\u001b[1;34m(self, result, func, args)\u001b[0m\n\u001b[0;32m    136\u001b[0m         \u001b[1;32mif\u001b[0m \u001b[1;32mnot\u001b[0m \u001b[0mresult\u001b[0m\u001b[1;33m:\u001b[0m\u001b[1;33m\u001b[0m\u001b[0m\n\u001b[0;32m    137\u001b[0m             \u001b[0mmsg\u001b[0m \u001b[1;33m=\u001b[0m \u001b[1;34m'{}.{}{} -> {}'\u001b[0m\u001b[1;33m.\u001b[0m\u001b[0mformat\u001b[0m\u001b[1;33m(\u001b[0m\u001b[0mself\u001b[0m\u001b[1;33m.\u001b[0m\u001b[0m__class__\u001b[0m\u001b[1;33m.\u001b[0m\u001b[0m__name__\u001b[0m\u001b[1;33m,\u001b[0m \u001b[0mfunc\u001b[0m\u001b[1;33m.\u001b[0m\u001b[0m__name__\u001b[0m\u001b[1;33m,\u001b[0m \u001b[0margs\u001b[0m\u001b[1;33m,\u001b[0m \u001b[0mresult\u001b[0m\u001b[1;33m)\u001b[0m\u001b[1;33m\u001b[0m\u001b[0m\n\u001b[1;32m--> 138\u001b[1;33m             \u001b[0mself\u001b[0m\u001b[1;33m.\u001b[0m\u001b[0mraise_exception\u001b[0m\u001b[1;33m(\u001b[0m\u001b[1;34m'The function did not return True.\\n'\u001b[0m \u001b[1;33m+\u001b[0m \u001b[0mmsg\u001b[0m\u001b[1;33m)\u001b[0m\u001b[1;33m\u001b[0m\u001b[0m\n\u001b[0m\u001b[0;32m    139\u001b[0m         \u001b[1;32mreturn\u001b[0m \u001b[0mresult\u001b[0m\u001b[1;33m\u001b[0m\u001b[0m\n\u001b[0;32m    140\u001b[0m \u001b[1;33m\u001b[0m\u001b[0m\n",
      "\u001b[1;32mC:\\Users\\USUARIO\\Anaconda3\\envs\\motorcitos\\lib\\site-packages\\msl\\equipment\\connection.py\u001b[0m in \u001b[0;36mraise_exception\u001b[1;34m(self, msg)\u001b[0m\n\u001b[0;32m     86\u001b[0m         \"\"\"\n\u001b[0;32m     87\u001b[0m         \u001b[0mself\u001b[0m\u001b[1;33m.\u001b[0m\u001b[0mlog_error\u001b[0m\u001b[1;33m(\u001b[0m\u001b[1;34m'{!r} {}'\u001b[0m\u001b[1;33m.\u001b[0m\u001b[0mformat\u001b[0m\u001b[1;33m(\u001b[0m\u001b[0mself\u001b[0m\u001b[1;33m,\u001b[0m \u001b[0mmsg\u001b[0m\u001b[1;33m)\u001b[0m\u001b[1;33m)\u001b[0m\u001b[1;33m\u001b[0m\u001b[0m\n\u001b[1;32m---> 88\u001b[1;33m         \u001b[1;32mraise\u001b[0m \u001b[0mself\u001b[0m\u001b[1;33m.\u001b[0m\u001b[0m_exception_handler\u001b[0m\u001b[1;33m(\u001b[0m\u001b[1;34m'{!r}\\n{}'\u001b[0m\u001b[1;33m.\u001b[0m\u001b[0mformat\u001b[0m\u001b[1;33m(\u001b[0m\u001b[0mself\u001b[0m\u001b[1;33m,\u001b[0m \u001b[0mmsg\u001b[0m\u001b[1;33m)\u001b[0m\u001b[1;33m)\u001b[0m\u001b[1;33m\u001b[0m\u001b[0m\n\u001b[0m\u001b[0;32m     89\u001b[0m \u001b[1;33m\u001b[0m\u001b[0m\n\u001b[0;32m     90\u001b[0m     \u001b[1;33m@\u001b[0m\u001b[0mstaticmethod\u001b[0m\u001b[1;33m\u001b[0m\u001b[0m\n",
      "\u001b[1;31mThorlabsError\u001b[0m: KCubeStepperMotor<Thorlabs|KST101|26001718 at SDK::Thorlabs.MotionControl.KCube.StepperMotor.dll>\nThe function did not return True.\nKCubeStepperMotor.SCC_LoadSettings(b'26001718',) -> False"
     ]
    }
   ],
   "source": [
    "stage.set_x_and_y_motor(26001683,26001718)"
   ]
  },
  {
   "cell_type": "code",
   "execution_count": 91,
   "metadata": {
    "collapsed": false
   },
   "outputs": [
    {
     "ename": "NameError",
     "evalue": "name 'motorx' is not defined",
     "output_type": "error",
     "traceback": [
      "\u001b[1;31m---------------------------------------------------------------------------\u001b[0m",
      "\u001b[1;31mNameError\u001b[0m                                 Traceback (most recent call last)",
      "\u001b[1;32m<ipython-input-91-2eefae05f148>\u001b[0m in \u001b[0;36m<module>\u001b[1;34m()\u001b[0m\n\u001b[1;32m----> 1\u001b[1;33m \u001b[0mstage\u001b[0m\u001b[1;33m.\u001b[0m\u001b[0mmove_to_x_y_position\u001b[0m\u001b[1;33m(\u001b[0m\u001b[1;36m1.0\u001b[0m\u001b[1;33m,\u001b[0m\u001b[1;36m1.0\u001b[0m\u001b[1;33m)\u001b[0m\u001b[1;33m\u001b[0m\u001b[0m\n\u001b[0m",
      "\u001b[1;32m<ipython-input-84-ad92f05e2fca>\u001b[0m in \u001b[0;36mmove_to_x_y_position\u001b[1;34m(self, x, y)\u001b[0m\n\u001b[0;32m     90\u001b[0m     \u001b[1;32mdef\u001b[0m \u001b[0mmove_to_x_y_position\u001b[0m\u001b[1;33m(\u001b[0m\u001b[0mself\u001b[0m\u001b[1;33m,\u001b[0m\u001b[0mx\u001b[0m\u001b[1;33m,\u001b[0m\u001b[0my\u001b[0m\u001b[1;33m)\u001b[0m\u001b[1;33m:\u001b[0m\u001b[1;33m\u001b[0m\u001b[0m\n\u001b[0;32m     91\u001b[0m         \u001b[1;31m#if motorx.get_position() == 0 and motory.getposition() == 0:\u001b[0m\u001b[1;33m\u001b[0m\u001b[1;33m\u001b[0m\u001b[0m\n\u001b[1;32m---> 92\u001b[1;33m         \u001b[0mmotorx\u001b[0m\u001b[1;33m.\u001b[0m\u001b[0mmove_to_position\u001b[0m\u001b[1;33m(\u001b[0m\u001b[0mmotorx\u001b[0m\u001b[1;33m.\u001b[0m\u001b[0mget_device_unit_from_real_value\u001b[0m\u001b[1;33m(\u001b[0m\u001b[0mx\u001b[0m\u001b[1;33m,\u001b[0m\u001b[1;36m0\u001b[0m\u001b[1;33m)\u001b[0m\u001b[1;33m)\u001b[0m\u001b[1;33m\u001b[0m\u001b[0m\n\u001b[0m\u001b[0;32m     93\u001b[0m         \u001b[0mmotory\u001b[0m\u001b[1;33m.\u001b[0m\u001b[0mmove_to_position\u001b[0m\u001b[1;33m(\u001b[0m\u001b[0mmotory\u001b[0m\u001b[1;33m.\u001b[0m\u001b[0mget_device_unit_from_real_value\u001b[0m\u001b[1;33m(\u001b[0m\u001b[0my\u001b[0m\u001b[1;33m,\u001b[0m\u001b[1;36m0\u001b[0m\u001b[1;33m)\u001b[0m\u001b[1;33m)\u001b[0m\u001b[1;33m\u001b[0m\u001b[0m\n\u001b[0;32m     94\u001b[0m         \u001b[0mprint\u001b[0m\u001b[1;33m(\u001b[0m\u001b[1;34m'Moving done. At position {} [device units]'\u001b[0m\u001b[1;33m.\u001b[0m\u001b[0mformat\u001b[0m\u001b[1;33m(\u001b[0m\u001b[0mmotorx\u001b[0m\u001b[1;33m.\u001b[0m\u001b[0mget_position\u001b[0m\u001b[1;33m(\u001b[0m\u001b[1;33m)\u001b[0m\u001b[1;33m)\u001b[0m\u001b[1;33m)\u001b[0m\u001b[1;33m\u001b[0m\u001b[0m\n",
      "\u001b[1;31mNameError\u001b[0m: name 'motorx' is not defined"
     ]
    }
   ],
   "source": [
    "stage.move_to_x_y_position(1.0,1.0)"
   ]
  },
  {
   "cell_type": "code",
   "execution_count": 89,
   "metadata": {
    "collapsed": false
   },
   "outputs": [
    {
     "ename": "NameError",
     "evalue": "name 'motorx' is not defined",
     "output_type": "error",
     "traceback": [
      "\u001b[1;31m---------------------------------------------------------------------------\u001b[0m",
      "\u001b[1;31mNameError\u001b[0m                                 Traceback (most recent call last)",
      "\u001b[1;32m<ipython-input-89-a31a104975bf>\u001b[0m in \u001b[0;36m<module>\u001b[1;34m()\u001b[0m\n\u001b[1;32m----> 1\u001b[1;33m \u001b[0mstage\u001b[0m\u001b[1;33m.\u001b[0m\u001b[0mdisconnect_stage\u001b[0m\u001b[1;33m(\u001b[0m\u001b[1;33m)\u001b[0m\u001b[1;33m\u001b[0m\u001b[0m\n\u001b[0m",
      "\u001b[1;32m<ipython-input-84-ad92f05e2fca>\u001b[0m in \u001b[0;36mdisconnect_stage\u001b[1;34m(self)\u001b[0m\n\u001b[0;32m     97\u001b[0m     \u001b[1;32mdef\u001b[0m \u001b[0mdisconnect_stage\u001b[0m\u001b[1;33m(\u001b[0m\u001b[0mself\u001b[0m\u001b[1;33m)\u001b[0m\u001b[1;33m:\u001b[0m\u001b[1;33m\u001b[0m\u001b[0m\n\u001b[0;32m     98\u001b[0m         \u001b[1;31m# stop polling and close the connection\u001b[0m\u001b[1;33m\u001b[0m\u001b[1;33m\u001b[0m\u001b[0m\n\u001b[1;32m---> 99\u001b[1;33m         \u001b[0mmotorx\u001b[0m\u001b[1;33m.\u001b[0m\u001b[0mstop_polling\u001b[0m\u001b[1;33m(\u001b[0m\u001b[1;33m)\u001b[0m\u001b[1;33m\u001b[0m\u001b[0m\n\u001b[0m\u001b[0;32m    100\u001b[0m         \u001b[0mmotory\u001b[0m\u001b[1;33m.\u001b[0m\u001b[0mstop_polling\u001b[0m\u001b[1;33m(\u001b[0m\u001b[1;33m)\u001b[0m\u001b[1;33m\u001b[0m\u001b[0m\n\u001b[0;32m    101\u001b[0m         \u001b[0mmotory\u001b[0m\u001b[1;33m.\u001b[0m\u001b[0mdisconnect\u001b[0m\u001b[1;33m(\u001b[0m\u001b[1;33m)\u001b[0m\u001b[1;33m\u001b[0m\u001b[0m\n",
      "\u001b[1;31mNameError\u001b[0m: name 'motorx' is not defined"
     ]
    }
   ],
   "source": [
    "stage.disconnect_stage()"
   ]
  },
  {
   "cell_type": "code",
   "execution_count": 74,
   "metadata": {
    "collapsed": false
   },
   "outputs": [
    {
     "name": "stdout",
     "output_type": "stream",
     "text": [
      "The motor in the x direction is the one with serial number # 26001683\n",
      "The motor in the y direction is the one with serial number # 26001749\n",
      "Connected to KCubeStepperMotor<Thorlabs|KST101|26001683>\n",
      "Connected to KCubeStepperMotor<Thorlabs|KST101|26001749>\n",
      "Homing both motors...\n",
      "  at position -71828 [device units] -0.0357598 [real-world units]\n",
      "  at position -71828 [device units] -0.0357598 [real-world units]\n",
      "  at position -262826 [device units] -0.1308488 [real-world units]\n",
      "  at position -280555 [device units] -0.1396752 [real-world units]\n",
      "  at position -280555 [device units] -0.1396752 [real-world units]\n",
      "  at position -240167 [device units] -0.1195679 [real-world units]\n",
      "  at position 17 [device units] 8.5e-06 [real-world units]\n",
      "  at position 17 [device units] 8.5e-06 [real-world units]\n",
      "  at position 21254 [device units] 0.0105814 [real-world units]\n",
      "  at position 61672 [device units] 0.0307036 [real-world units]\n",
      "  at position 102083 [device units] 0.0508224 [real-world units]\n",
      "  at position 142543 [device units] 0.0709655 [real-world units]\n",
      "  at position 182820 [device units] 0.0910175 [real-world units]\n"
     ]
    },
    {
     "name": "stderr",
     "output_type": "stream",
     "text": [
      "KCubeStepperMotor<Thorlabs|KST101|26001749 at SDK::Thorlabs.MotionControl.KCube.StepperMotor.dll> FT_GenericFunctionFail: The function failed to complete succesfully\n"
     ]
    },
    {
     "name": "stdout",
     "output_type": "stream",
     "text": [
      "  at position 182820 [device units] 0.0910175 [real-world units]\n"
     ]
    },
    {
     "ename": "ThorlabsError",
     "evalue": "KCubeStepperMotor<Thorlabs|KST101|26001749 at SDK::Thorlabs.MotionControl.KCube.StepperMotor.dll>\nFT_GenericFunctionFail: The function failed to complete succesfully",
     "output_type": "error",
     "traceback": [
      "\u001b[1;31m---------------------------------------------------------------------------\u001b[0m",
      "\u001b[1;31mThorlabsError\u001b[0m                             Traceback (most recent call last)",
      "\u001b[1;32m<ipython-input-74-3aa314b8065d>\u001b[0m in \u001b[0;36m<module>\u001b[1;34m()\u001b[0m\n\u001b[1;32m----> 1\u001b[1;33m \u001b[0mstage\u001b[0m\u001b[1;33m.\u001b[0m\u001b[0mset_x_and_y_motor\u001b[0m\u001b[1;33m(\u001b[0m\u001b[1;36m26001683\u001b[0m\u001b[1;33m,\u001b[0m\u001b[1;36m26001749\u001b[0m\u001b[1;33m)\u001b[0m\u001b[1;33m\u001b[0m\u001b[0m\n\u001b[0m",
      "\u001b[1;32m<ipython-input-70-3738b4348206>\u001b[0m in \u001b[0;36mset_x_and_y_motor\u001b[1;34m(self, serialx, serialy)\u001b[0m\n\u001b[0;32m     71\u001b[0m         \u001b[0mmotory\u001b[0m\u001b[1;33m.\u001b[0m\u001b[0mhome\u001b[0m\u001b[1;33m(\u001b[0m\u001b[1;33m)\u001b[0m\u001b[1;33m\u001b[0m\u001b[0m\n\u001b[0;32m     72\u001b[0m         \u001b[0mself\u001b[0m\u001b[1;33m.\u001b[0m\u001b[0mwait\u001b[0m\u001b[1;33m(\u001b[0m\u001b[1;36m0\u001b[0m\u001b[1;33m,\u001b[0m\u001b[0mmotorx\u001b[0m\u001b[1;33m)\u001b[0m\u001b[1;33m\u001b[0m\u001b[0m\n\u001b[1;32m---> 73\u001b[1;33m         \u001b[0mself\u001b[0m\u001b[1;33m.\u001b[0m\u001b[0mwait\u001b[0m\u001b[1;33m(\u001b[0m\u001b[1;36m0\u001b[0m\u001b[1;33m,\u001b[0m\u001b[0mmotory\u001b[0m\u001b[1;33m)\u001b[0m\u001b[1;33m\u001b[0m\u001b[0m\n\u001b[0m\u001b[0;32m     74\u001b[0m         \u001b[0mprint\u001b[0m\u001b[1;33m(\u001b[0m\u001b[1;34m'Homing done. X motor is at position {} [mm]'\u001b[0m\u001b[1;33m.\u001b[0m\u001b[0mformat\u001b[0m\u001b[1;33m(\u001b[0m\u001b[0mmotorx\u001b[0m\u001b[1;33m.\u001b[0m\u001b[0mget_position\u001b[0m\u001b[1;33m(\u001b[0m\u001b[1;33m)\u001b[0m\u001b[1;33m)\u001b[0m \u001b[1;33m+\u001b[0m \u001b[1;34m' and Y motor at position {} [mm]'\u001b[0m\u001b[1;33m.\u001b[0m\u001b[0mformat\u001b[0m\u001b[1;33m(\u001b[0m\u001b[0mmotorx\u001b[0m\u001b[1;33m.\u001b[0m\u001b[0mget_position\u001b[0m\u001b[1;33m(\u001b[0m\u001b[1;33m)\u001b[0m\u001b[1;33m)\u001b[0m\u001b[1;33m)\u001b[0m\u001b[1;33m\u001b[0m\u001b[0m\n\u001b[0;32m     75\u001b[0m \u001b[1;33m\u001b[0m\u001b[0m\n",
      "\u001b[1;32m<ipython-input-70-3738b4348206>\u001b[0m in \u001b[0;36mwait\u001b[1;34m(self, value, motor)\u001b[0m\n\u001b[0;32m     84\u001b[0m         \u001b[1;32mwhile\u001b[0m \u001b[0mmessage_type\u001b[0m \u001b[1;33m!=\u001b[0m \u001b[1;36m2\u001b[0m \u001b[1;32mor\u001b[0m \u001b[0mmessage_id\u001b[0m \u001b[1;33m!=\u001b[0m \u001b[0mvalue\u001b[0m\u001b[1;33m:\u001b[0m\u001b[1;33m\u001b[0m\u001b[0m\n\u001b[0;32m     85\u001b[0m             \u001b[0mposition\u001b[0m \u001b[1;33m=\u001b[0m \u001b[0mmotor\u001b[0m\u001b[1;33m.\u001b[0m\u001b[0mget_position\u001b[0m\u001b[1;33m(\u001b[0m\u001b[1;33m)\u001b[0m\u001b[1;33m\u001b[0m\u001b[0m\n\u001b[1;32m---> 86\u001b[1;33m             \u001b[0mreal\u001b[0m \u001b[1;33m=\u001b[0m \u001b[0mmotor\u001b[0m\u001b[1;33m.\u001b[0m\u001b[0mget_real_value_from_device_unit\u001b[0m\u001b[1;33m(\u001b[0m\u001b[0mposition\u001b[0m\u001b[1;33m,\u001b[0m \u001b[1;34m'DISTANCE'\u001b[0m\u001b[1;33m)\u001b[0m\u001b[1;33m\u001b[0m\u001b[0m\n\u001b[0m\u001b[0;32m     87\u001b[0m             \u001b[0mprint\u001b[0m\u001b[1;33m(\u001b[0m\u001b[1;34m'  at position {} [device units] {} [real-world units]'\u001b[0m\u001b[1;33m.\u001b[0m\u001b[0mformat\u001b[0m\u001b[1;33m(\u001b[0m\u001b[0mposition\u001b[0m\u001b[1;33m,\u001b[0m \u001b[0mreal\u001b[0m\u001b[1;33m)\u001b[0m\u001b[1;33m)\u001b[0m\u001b[1;33m\u001b[0m\u001b[0m\n\u001b[0;32m     88\u001b[0m             \u001b[0mmessage_type\u001b[0m\u001b[1;33m,\u001b[0m \u001b[0mmessage_id\u001b[0m\u001b[1;33m,\u001b[0m \u001b[0m_\u001b[0m \u001b[1;33m=\u001b[0m \u001b[0mmotor\u001b[0m\u001b[1;33m.\u001b[0m\u001b[0mwait_for_message\u001b[0m\u001b[1;33m(\u001b[0m\u001b[1;33m)\u001b[0m\u001b[1;33m\u001b[0m\u001b[0m\n",
      "\u001b[1;32mC:\\Users\\USUARIO\\Anaconda3\\envs\\motorcitos\\lib\\site-packages\\msl\\equipment\\resources\\thorlabs\\kinesis\\kcube_stepper_motor.py\u001b[0m in \u001b[0;36mget_real_value_from_device_unit\u001b[1;34m(self, device_value, unit_type)\u001b[0m\n\u001b[0;32m    791\u001b[0m         \u001b[0mreal_unit\u001b[0m \u001b[1;33m=\u001b[0m \u001b[0mc_double\u001b[0m\u001b[1;33m(\u001b[0m\u001b[1;33m)\u001b[0m\u001b[1;33m\u001b[0m\u001b[0m\n\u001b[0;32m    792\u001b[0m         \u001b[0munit\u001b[0m \u001b[1;33m=\u001b[0m \u001b[0mself\u001b[0m\u001b[1;33m.\u001b[0m\u001b[0mconvert_to_enum\u001b[0m\u001b[1;33m(\u001b[0m\u001b[0munit_type\u001b[0m\u001b[1;33m,\u001b[0m \u001b[0mUnitType\u001b[0m\u001b[1;33m)\u001b[0m\u001b[1;33m\u001b[0m\u001b[0m\n\u001b[1;32m--> 793\u001b[1;33m         \u001b[0mself\u001b[0m\u001b[1;33m.\u001b[0m\u001b[0msdk\u001b[0m\u001b[1;33m.\u001b[0m\u001b[0mSCC_GetRealValueFromDeviceUnit\u001b[0m\u001b[1;33m(\u001b[0m\u001b[0mself\u001b[0m\u001b[1;33m.\u001b[0m\u001b[0m_serial\u001b[0m\u001b[1;33m,\u001b[0m \u001b[0mdevice_value\u001b[0m\u001b[1;33m,\u001b[0m \u001b[0mbyref\u001b[0m\u001b[1;33m(\u001b[0m\u001b[0mreal_unit\u001b[0m\u001b[1;33m)\u001b[0m\u001b[1;33m,\u001b[0m \u001b[0munit\u001b[0m\u001b[1;33m)\u001b[0m\u001b[1;33m\u001b[0m\u001b[0m\n\u001b[0m\u001b[0;32m    794\u001b[0m         \u001b[1;32mreturn\u001b[0m \u001b[0mreal_unit\u001b[0m\u001b[1;33m.\u001b[0m\u001b[0mvalue\u001b[0m\u001b[1;33m\u001b[0m\u001b[0m\n\u001b[0;32m    795\u001b[0m \u001b[1;33m\u001b[0m\u001b[0m\n",
      "\u001b[1;32mC:\\Users\\USUARIO\\Anaconda3\\envs\\motorcitos\\lib\\site-packages\\msl\\equipment\\resources\\thorlabs\\kinesis\\motion_control.py\u001b[0m in \u001b[0;36merrcheck_api\u001b[1;34m(self, result, func, args)\u001b[0m\n\u001b[0;32m    128\u001b[0m         \u001b[1;32mif\u001b[0m \u001b[0mresult\u001b[0m \u001b[1;33m!=\u001b[0m \u001b[0mFT_OK\u001b[0m\u001b[1;33m:\u001b[0m\u001b[1;33m\u001b[0m\u001b[0m\n\u001b[0;32m    129\u001b[0m             \u001b[0merr_name\u001b[0m\u001b[1;33m,\u001b[0m \u001b[0merr_msg\u001b[0m \u001b[1;33m=\u001b[0m \u001b[0mERROR_CODES\u001b[0m\u001b[1;33m.\u001b[0m\u001b[0mget\u001b[0m\u001b[1;33m(\u001b[0m\u001b[0mresult\u001b[0m\u001b[1;33m,\u001b[0m \u001b[1;33m(\u001b[0m\u001b[1;34m'UnhandledError'\u001b[0m\u001b[1;33m,\u001b[0m \u001b[1;34m'Error code 0x{:x}'\u001b[0m\u001b[1;33m.\u001b[0m\u001b[0mformat\u001b[0m\u001b[1;33m(\u001b[0m\u001b[0mresult\u001b[0m\u001b[1;33m)\u001b[0m\u001b[1;33m)\u001b[0m\u001b[1;33m)\u001b[0m\u001b[1;33m\u001b[0m\u001b[0m\n\u001b[1;32m--> 130\u001b[1;33m             \u001b[0mself\u001b[0m\u001b[1;33m.\u001b[0m\u001b[0mraise_exception\u001b[0m\u001b[1;33m(\u001b[0m\u001b[1;34m'{}: {}'\u001b[0m\u001b[1;33m.\u001b[0m\u001b[0mformat\u001b[0m\u001b[1;33m(\u001b[0m\u001b[0merr_name\u001b[0m\u001b[1;33m,\u001b[0m \u001b[0merr_msg\u001b[0m\u001b[1;33m)\u001b[0m\u001b[1;33m)\u001b[0m\u001b[1;33m\u001b[0m\u001b[0m\n\u001b[0m\u001b[0;32m    131\u001b[0m         \u001b[1;32mreturn\u001b[0m \u001b[0mresult\u001b[0m\u001b[1;33m\u001b[0m\u001b[0m\n\u001b[0;32m    132\u001b[0m \u001b[1;33m\u001b[0m\u001b[0m\n",
      "\u001b[1;32mC:\\Users\\USUARIO\\Anaconda3\\envs\\motorcitos\\lib\\site-packages\\msl\\equipment\\connection.py\u001b[0m in \u001b[0;36mraise_exception\u001b[1;34m(self, msg)\u001b[0m\n\u001b[0;32m     86\u001b[0m         \"\"\"\n\u001b[0;32m     87\u001b[0m         \u001b[0mself\u001b[0m\u001b[1;33m.\u001b[0m\u001b[0mlog_error\u001b[0m\u001b[1;33m(\u001b[0m\u001b[1;34m'{!r} {}'\u001b[0m\u001b[1;33m.\u001b[0m\u001b[0mformat\u001b[0m\u001b[1;33m(\u001b[0m\u001b[0mself\u001b[0m\u001b[1;33m,\u001b[0m \u001b[0mmsg\u001b[0m\u001b[1;33m)\u001b[0m\u001b[1;33m)\u001b[0m\u001b[1;33m\u001b[0m\u001b[0m\n\u001b[1;32m---> 88\u001b[1;33m         \u001b[1;32mraise\u001b[0m \u001b[0mself\u001b[0m\u001b[1;33m.\u001b[0m\u001b[0m_exception_handler\u001b[0m\u001b[1;33m(\u001b[0m\u001b[1;34m'{!r}\\n{}'\u001b[0m\u001b[1;33m.\u001b[0m\u001b[0mformat\u001b[0m\u001b[1;33m(\u001b[0m\u001b[0mself\u001b[0m\u001b[1;33m,\u001b[0m \u001b[0mmsg\u001b[0m\u001b[1;33m)\u001b[0m\u001b[1;33m)\u001b[0m\u001b[1;33m\u001b[0m\u001b[0m\n\u001b[0m\u001b[0;32m     89\u001b[0m \u001b[1;33m\u001b[0m\u001b[0m\n\u001b[0;32m     90\u001b[0m     \u001b[1;33m@\u001b[0m\u001b[0mstaticmethod\u001b[0m\u001b[1;33m\u001b[0m\u001b[0m\n",
      "\u001b[1;31mThorlabsError\u001b[0m: KCubeStepperMotor<Thorlabs|KST101|26001749 at SDK::Thorlabs.MotionControl.KCube.StepperMotor.dll>\nFT_GenericFunctionFail: The function failed to complete succesfully"
     ]
    }
   ],
   "source": [
    "stage.set_x_and_y_motor(26001683,26001749)"
   ]
  },
  {
   "cell_type": "code",
   "execution_count": 3,
   "metadata": {
    "collapsed": false
   },
   "outputs": [
    {
     "name": "stdout",
     "output_type": "stream",
     "text": [
      "<__main__.A object at 0x000000000502C9B0>\n"
     ]
    }
   ],
   "source": []
  },
  {
   "cell_type": "code",
   "execution_count": null,
   "metadata": {
    "collapsed": true
   },
   "outputs": [],
   "source": []
  }
 ],
 "metadata": {
  "kernelspec": {
   "display_name": "Python 3",
   "language": "python",
   "name": "python3"
  },
  "language_info": {
   "codemirror_mode": {
    "name": "ipython",
    "version": 3
   },
   "file_extension": ".py",
   "mimetype": "text/x-python",
   "name": "python",
   "nbconvert_exporter": "python",
   "pygments_lexer": "ipython3",
   "version": "3.6.0"
  }
 },
 "nbformat": 4,
 "nbformat_minor": 2
}
