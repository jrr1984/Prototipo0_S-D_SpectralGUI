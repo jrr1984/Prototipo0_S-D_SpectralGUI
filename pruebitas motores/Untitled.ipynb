{
 "cells": [
  {
   "cell_type": "code",
   "execution_count": 11,
   "metadata": {},
   "outputs": [
    {
     "name": "stdout",
     "output_type": "stream",
     "text": [
      "Building the device list...\n"
     ]
    }
   ],
   "source": [
    "# https://es.stackoverflow.com/questions/32165/qu%C3%A9-es-if-name-main\n",
    "if __name__ == '__main__':\n",
    "    import os\n",
    "    from pprint import pprint\n",
    "\n",
    "    from msl.equipment import EquipmentRecord, ConnectionRecord, Backend\n",
    "\n",
    "    from msl.equipment.resources.thorlabs import MotionControl\n",
    "    # ensure that the Kinesis folder is available on PATH\n",
    "    os.environ['PATH'] += os.pathsep + 'C:/Program Files/Thorlabs/Kinesis'\n",
    "\n",
    "    print('Building the device list...')\n",
    "    MotionControl.build_device_list()\n",
    "    \n",
    "    # rather than reading the EquipmentRecord from a database we can create it manually\n",
    "    record = EquipmentRecord(\n",
    "        manufacturer='Thorlabs',\n",
    "        model='KST101',\n",
    "        serial='26001683',  # update the serial number for your KST101\n",
    "        connection=ConnectionRecord(\n",
    "            backend=Backend.MSL,\n",
    "            address='SDK::Thorlabs.MotionControl.KCube.StepperMotor.dll',\n",
    "        ),\n",
    "    )"
   ]
  },
  {
   "cell_type": "code",
   "execution_count": 16,
   "metadata": {},
   "outputs": [
    {
     "name": "stdout",
     "output_type": "stream",
     "text": [
      "Building the device list...\n"
     ]
    }
   ],
   "source": [
    "print('Building the device list...')\n",
    "MotionControl.build_device_list()\n",
    "\n",
    "record2 = EquipmentRecord(\n",
    "    manufacturer='Thorlabs',\n",
    "    model='KST101',\n",
    "    serial='26001749',  # update the serial number for your KST101\n",
    "    connection=ConnectionRecord(\n",
    "        backend=Backend.MSL,\n",
    "        address='SDK::Thorlabs.MotionControl.KCube.StepperMotor.dll',\n",
    "    ),\n",
    ")"
   ]
  },
  {
   "cell_type": "code",
   "execution_count": 17,
   "metadata": {
    "collapsed": true
   },
   "outputs": [],
   "source": [
    "def wait(value,motor):\n",
    "        motor.clear_message_queue()\n",
    "        message_type, message_id, _ = motor.wait_for_message()\n",
    "        while message_type != 2 or message_id != value:\n",
    "            position = motor.get_position()\n",
    "            real = motor.get_real_value_from_device_unit(position, 'DISTANCE')\n",
    "            print('  at position {} [device units] {} [real-world units]'.format(position, real))\n",
    "            message_type, message_id, _ = motor.wait_for_message()"
   ]
  },
  {
   "cell_type": "code",
   "execution_count": 18,
   "metadata": {},
   "outputs": [
    {
     "name": "stderr",
     "output_type": "stream",
     "text": [
      "Cannot find <Device Name=\"26001749\"> in ThorlabsDeviceConfiguration.xml\n"
     ]
    },
    {
     "name": "stdout",
     "output_type": "stream",
     "text": [
      "Connected to KCubeStepperMotor<Thorlabs|KST101|26001749>\n",
      "Connected to KCubeStepperMotor<Thorlabs|KST101|26001683>\n"
     ]
    }
   ],
   "source": [
    "motory = record2.connect()\n",
    "print('Connected to {}'.format(motory))\n",
    "# connect to the KCube Stepper Motor\n",
    "motorx = record.connect()\n",
    "print('Connected to {}'.format(motorx))"
   ]
  },
  {
   "cell_type": "code",
   "execution_count": 20,
   "metadata": {},
   "outputs": [
    {
     "name": "stderr",
     "output_type": "stream",
     "text": [
      "KCubeStepperMotor<Thorlabs|KST101|26001749 at SDK::Thorlabs.MotionControl.KCube.StepperMotor.dll> The function did not return True.\n",
      "KCubeStepperMotor.SCC_LoadSettings(b'26001749',) -> False\n"
     ]
    },
    {
     "ename": "ThorlabsError",
     "evalue": "KCubeStepperMotor<Thorlabs|KST101|26001749 at SDK::Thorlabs.MotionControl.KCube.StepperMotor.dll>\nThe function did not return True.\nKCubeStepperMotor.SCC_LoadSettings(b'26001749',) -> False",
     "output_type": "error",
     "traceback": [
      "\u001b[1;31m---------------------------------------------------------------------------\u001b[0m",
      "\u001b[1;31mThorlabsError\u001b[0m                             Traceback (most recent call last)",
      "\u001b[1;32m<ipython-input-20-9f3ac1ddd49b>\u001b[0m in \u001b[0;36m<module>\u001b[1;34m()\u001b[0m\n\u001b[0;32m      1\u001b[0m \u001b[1;31m# load the configuration settings (so that we can use the get_real_value_from_device_unit() method)\u001b[0m\u001b[1;33m\u001b[0m\u001b[1;33m\u001b[0m\u001b[0m\n\u001b[0;32m      2\u001b[0m \u001b[1;33m\u001b[0m\u001b[0m\n\u001b[1;32m----> 3\u001b[1;33m \u001b[0mmotory\u001b[0m\u001b[1;33m.\u001b[0m\u001b[0mload_settings\u001b[0m\u001b[1;33m(\u001b[0m\u001b[1;33m)\u001b[0m\u001b[1;33m\u001b[0m\u001b[0m\n\u001b[0m\u001b[0;32m      4\u001b[0m \u001b[0mmotorx\u001b[0m\u001b[1;33m.\u001b[0m\u001b[0mload_settings\u001b[0m\u001b[1;33m(\u001b[0m\u001b[1;33m)\u001b[0m\u001b[1;33m\u001b[0m\u001b[0m\n",
      "\u001b[1;32mC:\\Users\\USUARIO\\Anaconda3\\envs\\motorcitos\\lib\\site-packages\\msl\\equipment\\resources\\thorlabs\\kinesis\\kcube_stepper_motor.py\u001b[0m in \u001b[0;36mload_settings\u001b[1;34m(self)\u001b[0m\n\u001b[0;32m   1056\u001b[0m             \u001b[0mIf\u001b[0m \u001b[1;32mnot\u001b[0m \u001b[0msuccessful\u001b[0m\u001b[1;33m.\u001b[0m\u001b[1;33m\u001b[0m\u001b[0m\n\u001b[0;32m   1057\u001b[0m         \"\"\"\n\u001b[1;32m-> 1058\u001b[1;33m         \u001b[0mself\u001b[0m\u001b[1;33m.\u001b[0m\u001b[0msdk\u001b[0m\u001b[1;33m.\u001b[0m\u001b[0mSCC_LoadSettings\u001b[0m\u001b[1;33m(\u001b[0m\u001b[0mself\u001b[0m\u001b[1;33m.\u001b[0m\u001b[0m_serial\u001b[0m\u001b[1;33m)\u001b[0m\u001b[1;33m\u001b[0m\u001b[0m\n\u001b[0m\u001b[0;32m   1059\u001b[0m \u001b[1;33m\u001b[0m\u001b[0m\n\u001b[0;32m   1060\u001b[0m     \u001b[1;32mdef\u001b[0m \u001b[0mload_named_settings\u001b[0m\u001b[1;33m(\u001b[0m\u001b[0mself\u001b[0m\u001b[1;33m,\u001b[0m \u001b[0msettings_name\u001b[0m\u001b[1;33m)\u001b[0m\u001b[1;33m:\u001b[0m\u001b[1;33m\u001b[0m\u001b[0m\n",
      "\u001b[1;32mC:\\Users\\USUARIO\\Anaconda3\\envs\\motorcitos\\lib\\site-packages\\msl\\equipment\\resources\\thorlabs\\kinesis\\motion_control.py\u001b[0m in \u001b[0;36merrcheck_true\u001b[1;34m(self, result, func, args)\u001b[0m\n\u001b[0;32m    136\u001b[0m         \u001b[1;32mif\u001b[0m \u001b[1;32mnot\u001b[0m \u001b[0mresult\u001b[0m\u001b[1;33m:\u001b[0m\u001b[1;33m\u001b[0m\u001b[0m\n\u001b[0;32m    137\u001b[0m             \u001b[0mmsg\u001b[0m \u001b[1;33m=\u001b[0m \u001b[1;34m'{}.{}{} -> {}'\u001b[0m\u001b[1;33m.\u001b[0m\u001b[0mformat\u001b[0m\u001b[1;33m(\u001b[0m\u001b[0mself\u001b[0m\u001b[1;33m.\u001b[0m\u001b[0m__class__\u001b[0m\u001b[1;33m.\u001b[0m\u001b[0m__name__\u001b[0m\u001b[1;33m,\u001b[0m \u001b[0mfunc\u001b[0m\u001b[1;33m.\u001b[0m\u001b[0m__name__\u001b[0m\u001b[1;33m,\u001b[0m \u001b[0margs\u001b[0m\u001b[1;33m,\u001b[0m \u001b[0mresult\u001b[0m\u001b[1;33m)\u001b[0m\u001b[1;33m\u001b[0m\u001b[0m\n\u001b[1;32m--> 138\u001b[1;33m             \u001b[0mself\u001b[0m\u001b[1;33m.\u001b[0m\u001b[0mraise_exception\u001b[0m\u001b[1;33m(\u001b[0m\u001b[1;34m'The function did not return True.\\n'\u001b[0m \u001b[1;33m+\u001b[0m \u001b[0mmsg\u001b[0m\u001b[1;33m)\u001b[0m\u001b[1;33m\u001b[0m\u001b[0m\n\u001b[0m\u001b[0;32m    139\u001b[0m         \u001b[1;32mreturn\u001b[0m \u001b[0mresult\u001b[0m\u001b[1;33m\u001b[0m\u001b[0m\n\u001b[0;32m    140\u001b[0m \u001b[1;33m\u001b[0m\u001b[0m\n",
      "\u001b[1;32mC:\\Users\\USUARIO\\Anaconda3\\envs\\motorcitos\\lib\\site-packages\\msl\\equipment\\connection.py\u001b[0m in \u001b[0;36mraise_exception\u001b[1;34m(self, msg)\u001b[0m\n\u001b[0;32m     86\u001b[0m         \"\"\"\n\u001b[0;32m     87\u001b[0m         \u001b[0mself\u001b[0m\u001b[1;33m.\u001b[0m\u001b[0mlog_error\u001b[0m\u001b[1;33m(\u001b[0m\u001b[1;34m'{!r} {}'\u001b[0m\u001b[1;33m.\u001b[0m\u001b[0mformat\u001b[0m\u001b[1;33m(\u001b[0m\u001b[0mself\u001b[0m\u001b[1;33m,\u001b[0m \u001b[0mmsg\u001b[0m\u001b[1;33m)\u001b[0m\u001b[1;33m)\u001b[0m\u001b[1;33m\u001b[0m\u001b[0m\n\u001b[1;32m---> 88\u001b[1;33m         \u001b[1;32mraise\u001b[0m \u001b[0mself\u001b[0m\u001b[1;33m.\u001b[0m\u001b[0m_exception_handler\u001b[0m\u001b[1;33m(\u001b[0m\u001b[1;34m'{!r}\\n{}'\u001b[0m\u001b[1;33m.\u001b[0m\u001b[0mformat\u001b[0m\u001b[1;33m(\u001b[0m\u001b[0mself\u001b[0m\u001b[1;33m,\u001b[0m \u001b[0mmsg\u001b[0m\u001b[1;33m)\u001b[0m\u001b[1;33m)\u001b[0m\u001b[1;33m\u001b[0m\u001b[0m\n\u001b[0m\u001b[0;32m     89\u001b[0m \u001b[1;33m\u001b[0m\u001b[0m\n\u001b[0;32m     90\u001b[0m     \u001b[1;33m@\u001b[0m\u001b[0mstaticmethod\u001b[0m\u001b[1;33m\u001b[0m\u001b[0m\n",
      "\u001b[1;31mThorlabsError\u001b[0m: KCubeStepperMotor<Thorlabs|KST101|26001749 at SDK::Thorlabs.MotionControl.KCube.StepperMotor.dll>\nThe function did not return True.\nKCubeStepperMotor.SCC_LoadSettings(b'26001749',) -> False"
     ]
    }
   ],
   "source": [
    "  # load the configuration settings (so that we can use the get_real_value_from_device_unit() method)\n",
    "\n",
    "motory.load_settings()\n",
    "motorx.load_settings()"
   ]
  },
  {
   "cell_type": "code",
   "execution_count": 22,
   "metadata": {
    "collapsed": true
   },
   "outputs": [],
   "source": [
    "motory.disconnect()\n",
    "motorx.disconnect()\n"
   ]
  },
  {
   "cell_type": "code",
   "execution_count": 8,
   "metadata": {
    "collapsed": true
   },
   "outputs": [],
   "source": [
    "def move_to_x_y_position(x,y):\n",
    "    motorx.move_to_position(motorx.get_device_unit_from_real_value(x,0))\n",
    "    wait(1,motorx)\n",
    "    print('Moving done. At position {} [device units]'.format(motorx.get_position()))\n",
    "    motory.move_to_position(motory.get_device_unit_from_real_value(y,0))\n",
    "    wait(1,motory)\n",
    "    print('Moving done. At position {} [device units]'.format(motory.get_position()))"
   ]
  },
  {
   "cell_type": "code",
   "execution_count": 9,
   "metadata": {},
   "outputs": [
    {
     "name": "stdout",
     "output_type": "stream",
     "text": [
      "Moving done. At position 0 [device units]\n",
      "Moving done. At position 0 [device units]\n"
     ]
    }
   ],
   "source": [
    "move_to_x_y_position(10.0,10.0)"
   ]
  },
  {
   "cell_type": "code",
   "execution_count": null,
   "metadata": {
    "collapsed": true
   },
   "outputs": [],
   "source": []
  }
 ],
 "metadata": {
  "kernelspec": {
   "display_name": "Python 3",
   "language": "python",
   "name": "python3"
  },
  "language_info": {
   "codemirror_mode": {
    "name": "ipython",
    "version": 3
   },
   "file_extension": ".py",
   "mimetype": "text/x-python",
   "name": "python",
   "nbconvert_exporter": "python",
   "pygments_lexer": "ipython3",
   "version": "3.6.1"
  }
 },
 "nbformat": 4,
 "nbformat_minor": 2
}
