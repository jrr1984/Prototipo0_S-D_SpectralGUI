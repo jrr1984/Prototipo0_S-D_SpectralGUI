{
 "cells": [
  {
   "cell_type": "code",
   "execution_count": 39,
   "metadata": {},
   "outputs": [],
   "source": [
    "import os\n",
    "from pprint import pprint\n",
    "\n",
    "from msl.equipment import EquipmentRecord, ConnectionRecord, Backend\n",
    "\n",
    "from msl.equipment.resources.thorlabs import MotionControl\n",
    "# ensure that the Kinesis folder is available on PATH\n",
    "os.environ['PATH'] += os.pathsep + 'C:/Program Files/Thorlabs/Kinesis'\n",
    "\n",
    "\n",
    "\n",
    "#FUNCIONES QUE QUIERO\n",
    "#1) DECIME QUE STEP MOTORS/DRIVERS HAY CONECTADOS A LA COMPU Y DAME LOS SERIAL NUMBER'S\n",
    "#2) CONECTATE A LOS MOTORES Y LLEVALOS AL HOME XQ ES OBLIGATORIO PARA PODER MOVERLOS\n",
    "#3) WAIT QUE YA VENÌA..\n",
    "#4) MOVELOS A UNA CIERTA POSICIÒN X,Y\n",
    "#5) DESCONECTATE DE LOS MOTORES\n",
    "\n",
    "class ThorlabsStageWithStepMotors:\n",
    "\n",
    "    def what_is_connected():\n",
    "        print('Building the device list...')\n",
    "        MotionControl.build_device_list()\n",
    "        n_devices = MotionControl.get_device_list_size()\n",
    "        if n_devices == 0:\n",
    "            print('There are no devices in the device list')\n",
    "        elif n_devices == 1:\n",
    "            print('There is 1 device in the device list')\n",
    "        else:\n",
    "            print('There are {} devices in the device list'.format(n_devices))\n",
    "        all_devices = MotionControl.get_device_list()\n",
    "        print('The serial numbers of all the devices are: {}'.format(all_devices))\n",
    "        \n",
    "    def set_x_motor(serialnumb):        \n",
    "        recordx = EquipmentRecord(\n",
    "            manufacturer='Thorlabs',\n",
    "            model='KST101',\n",
    "            serial= str(serialnumb),  # update the serial number for your KST101\n",
    "            connection=ConnectionRecord(\n",
    "                backend=Backend.MSL,\n",
    "                address='SDK::Thorlabs.MotionControl.KCube.StepperMotor.dll',\n",
    "            ),\n",
    "        )\n",
    "        print('The motor in the x direction is the one with serial number # ' + str(serialnumb))\n",
    "        \n",
    "    def set_y_motor(serialnumb):        \n",
    "        recordy = EquipmentRecord(\n",
    "            manufacturer='Thorlabs',\n",
    "            model='KST101',\n",
    "            serial= str(serialnumb),  # update the serial number for your KST101\n",
    "            connection=ConnectionRecord(\n",
    "                backend=Backend.MSL,\n",
    "                address='SDK::Thorlabs.MotionControl.KCube.StepperMotor.dll',\n",
    "            ),\n",
    "        )\n",
    "        print('The motor in the y direction is the one with serial number # ' + str(serialnumb))\n",
    "\n",
    "        "
   ]
  },
  {
   "cell_type": "code",
   "execution_count": 40,
   "metadata": {
    "collapsed": true
   },
   "outputs": [],
   "source": [
    "stage = ThorlabsStageWithStepMotors"
   ]
  },
  {
   "cell_type": "code",
   "execution_count": 41,
   "metadata": {},
   "outputs": [
    {
     "name": "stdout",
     "output_type": "stream",
     "text": [
      "Building the device list...\n",
      "There are 2 devices in the device list\n",
      "The serial numbers of all the devices are: ['26001683', '26001749']\n"
     ]
    }
   ],
   "source": [
    "stage.what_is_connected()"
   ]
  },
  {
   "cell_type": "code",
   "execution_count": 42,
   "metadata": {},
   "outputs": [
    {
     "name": "stdout",
     "output_type": "stream",
     "text": [
      "The motor in the x direction is the one with serial number # 26001683\n",
      "The motor in the x direction is the one with serial number # 26001749\n"
     ]
    }
   ],
   "source": [
    "stage.set_x_motor(26001683)\n",
    "stage.set_x_motor(26001749)"
   ]
  },
  {
   "cell_type": "code",
   "execution_count": null,
   "metadata": {
    "collapsed": true
   },
   "outputs": [],
   "source": []
  }
 ],
 "metadata": {
  "kernelspec": {
   "display_name": "Python 3",
   "language": "python",
   "name": "python3"
  },
  "language_info": {
   "codemirror_mode": {
    "name": "ipython",
    "version": 3
   },
   "file_extension": ".py",
   "mimetype": "text/x-python",
   "name": "python",
   "nbconvert_exporter": "python",
   "pygments_lexer": "ipython3",
   "version": "3.6.1"
  }
 },
 "nbformat": 4,
 "nbformat_minor": 2
}
