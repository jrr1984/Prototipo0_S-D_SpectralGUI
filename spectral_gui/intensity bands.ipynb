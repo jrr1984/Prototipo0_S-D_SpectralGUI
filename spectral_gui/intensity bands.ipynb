{
 "cells": [
  {
   "cell_type": "code",
   "execution_count": 35,
   "metadata": {},
   "outputs": [
    {
     "name": "stdout",
     "output_type": "stream",
     "text": [
      "Using matplotlib backend: Qt5Agg\n"
     ]
    }
   ],
   "source": [
    "import numpy as np\n",
    "import matplotlib.pyplot as plt\n",
    "import pandas as pd\n",
    "import seaborn as sns\n",
    "%matplotlib"
   ]
  },
  {
   "cell_type": "code",
   "execution_count": 3,
   "metadata": {},
   "outputs": [],
   "source": [
    "wavel_df = pd.read_pickle('wavel_df.pkl')\n",
    "inten_df = pd.read_pickle('inten_fin.pkl')"
   ]
  },
  {
   "cell_type": "code",
   "execution_count": null,
   "metadata": {},
   "outputs": [],
   "source": [
    "wavel_array = wavel_df.iloc[:, 0].values"
   ]
  },
  {
   "cell_type": "code",
   "execution_count": null,
   "metadata": {},
   "outputs": [],
   "source": [
    "inten_df.head()"
   ]
  },
  {
   "cell_type": "code",
   "execution_count": null,
   "metadata": {},
   "outputs": [],
   "source": [
    "RGB_df = pd.read_pickle('RGB_fin.pkl')"
   ]
  },
  {
   "cell_type": "code",
   "execution_count": null,
   "metadata": {},
   "outputs": [],
   "source": [
    "RGB_df.tail()"
   ]
  },
  {
   "cell_type": "code",
   "execution_count": null,
   "metadata": {},
   "outputs": [],
   "source": [
    "para cada fila en RGB_df:\n",
    "    para cada columna en RGB_df:\n",
    "        if valor_df[fila,columna] != en 2 digitos:\n",
    "            create new band\n",
    "        else:\n",
    "            append to the actual band\n",
    "RGB_df['banda1'] = (RGB_df.iloc[:,0] != 0 and RGB_df.iloc[:,1] != 212 RGB_df.iloc[:,] != 255)  \n",
    "#To select rows whose column value does not equal some_value, use !=:\n",
    "df.loc[df['column_name'] != some_value]\n",
    "\n",
    "RGB_df['marker'] = (RGB_df['season'] != RGB_df['season'].shift()).cumsum()\n"
   ]
  },
  {
   "cell_type": "code",
   "execution_count": null,
   "metadata": {},
   "outputs": [],
   "source": []
  },
  {
   "cell_type": "code",
   "execution_count": 42,
   "metadata": {},
   "outputs": [
    {
     "data": {
      "text/plain": [
       "44745    2.887855\n",
       "44746    2.073561\n",
       "44747   -2.370882\n",
       "44748    1.897722\n",
       "44749    1.383127\n",
       "           ...   \n",
       "68116    0.085620\n",
       "68117    0.484884\n",
       "68118   -0.400627\n",
       "68119   -1.217921\n",
       "68120    2.171707\n",
       "Length: 23376, dtype: float64"
      ]
     },
     "execution_count": 42,
     "metadata": {},
     "output_type": "execute_result"
    }
   ],
   "source": [
    "banda_cyan_df = inten_df.iloc[104544:127920,:]\n",
    "banda_cyan = (banda_cyan_df - banda_cyan_df.mean())**2\n",
    "banda_cyan = banda_cyan/(banda_cyan_df + banda_cyan_df.mean())\n",
    "chi_sq_cyan = banda_cyan.sum(axis = 1)\n",
    "chi_sq_cyan"
   ]
  },
  {
   "cell_type": "code",
   "execution_count": 18,
   "metadata": {},
   "outputs": [
    {
     "data": {
      "text/plain": [
       "23376"
      ]
     },
     "execution_count": 18,
     "metadata": {},
     "output_type": "execute_result"
    }
   ],
   "source": [
    "len(chi_sq_cyan)"
   ]
  },
  {
   "cell_type": "code",
   "execution_count": 22,
   "metadata": {},
   "outputs": [
    {
     "data": {
      "image/png": "[encoded data removed]",
      "text/plain": [
       "<Figure size 432x288 with 2 Axes>"
      ]
     },
     "metadata": {},
     "output_type": "display_data"
    }
   ],
   "source": [
    "sns.set()\n",
    "uniform_data = np.random.rand(10, 12)\n",
    "ax = sns.heatmap(uniform_data)"
   ]
  },
  {
   "cell_type": "code",
   "execution_count": null,
   "metadata": {},
   "outputs": [],
   "source": [
    "im = plt.imshow(np.dstack(Z), interpolation='none', aspect='auto')\n",
    "plt.colorbar(im, orientation='horizontal')\n",
    "plt.show()"
   ]
  },
  {
   "cell_type": "code",
   "execution_count": null,
   "metadata": {},
   "outputs": [],
   "source": [
    "banda_cyan_df = inten_df.iloc[104544:127920,:]\n",
    "banda_cyan = (banda_cyan_df - banda_cyan_df.mean())**2\n",
    "banda_cyan = banda_cyan/(banda_cyan_df + banda_cyan_df.mean())\n",
    "chi_sq_cyan = banda_cyan.sum(axis = 1)\n",
    "chi_sq_cyan"
   ]
  },
  {
   "cell_type": "code",
   "execution_count": 43,
   "metadata": {},
   "outputs": [],
   "source": [
    "banda_lgreen_df = inten_df.iloc[78967:104544,:]\n",
    "banda_lgreen = (banda_lgreen_df - banda_lgreen_df.mean())**2\n",
    "banda_lgreen = banda_lgreen/(banda_lgreen_df + banda_lgreen_df.mean())\n",
    "chi_sq_lgreen = banda_lgreen.sum(axis = 1)"
   ]
  },
  {
   "cell_type": "code",
   "execution_count": 44,
   "metadata": {},
   "outputs": [
    {
     "data": {
      "text/plain": [
       "52866    59.235575\n",
       "52867    59.869113\n",
       "52868    61.645305\n",
       "52869    60.502683\n",
       "52870    59.970063\n",
       "           ...    \n",
       "19163    30.741407\n",
       "19164    29.631305\n",
       "19165    30.493576\n",
       "19166    30.003443\n",
       "19167    28.553955\n",
       "Length: 26101, dtype: float64"
      ]
     },
     "execution_count": 44,
     "metadata": {},
     "output_type": "execute_result"
    }
   ],
   "source": [
    "banda_orange_df = inten_df.iloc[52866:78967,:]\n",
    "banda_orange = (banda_orange_df - banda_orange_df.mean())**2\n",
    "banda_orange = banda_orange/(banda_orange_df + banda_orange_df.mean())\n",
    "chi_sq_orange = banda_orange.sum(axis = 1)\n",
    "chi_sq_orange"
   ]
  },
  {
   "cell_type": "code",
   "execution_count": 45,
   "metadata": {},
   "outputs": [
    {
     "data": {
      "text/plain": [
       "19459    0.411037\n",
       "19460    3.099521\n",
       "19461    3.426394\n",
       "19462    2.037220\n",
       "19463    4.041346\n",
       "           ...   \n",
       "52861    4.113848\n",
       "52862    3.421508\n",
       "52863    2.884002\n",
       "52864    7.038473\n",
       "52865    3.467830\n",
       "Length: 33407, dtype: float64"
      ]
     },
     "execution_count": 45,
     "metadata": {},
     "output_type": "execute_result"
    }
   ],
   "source": [
    "banda_red_df = inten_df.iloc[19459:52866,:]\n",
    "banda_red = (banda_red_df - banda_red_df.mean())**2\n",
    "banda_red = banda_red/(banda_red_df + banda_red_df.mean())\n",
    "chi_sq_red = banda_red.sum(axis = 1)\n",
    "chi_sq_red"
   ]
  },
  {
   "cell_type": "code",
   "execution_count": 46,
   "metadata": {},
   "outputs": [],
   "source": [
    "banda_NIR_df = inten_df.iloc[0:19459,:]\n",
    "banda_NIR = (banda_NIR_df - banda_NIR_df.mean())**2\n",
    "banda_NIR = banda_NIR/(banda_NIR_df + banda_NIR_df.mean())\n",
    "chi_sq_NIR = banda_NIR.sum(axis=1)"
   ]
  },
  {
   "cell_type": "code",
   "execution_count": 47,
   "metadata": {},
   "outputs": [],
   "source": [
    "bandas = [chi_sq_NIR, chi_sq_red, chi_sq_orange,chi_sq_lgreen,chi_sq_cyan]\n",
    "bandas_df = pd.concat(bandas)\n",
    "bandas_df.to_pickle('chisqr.pkl')"
   ]
  },
  {
   "cell_type": "code",
   "execution_count": 48,
   "metadata": {},
   "outputs": [],
   "source": [
    "chi_array = bandas_df.iloc[:].values"
   ]
  },
  {
   "cell_type": "code",
   "execution_count": 49,
   "metadata": {},
   "outputs": [],
   "source": [
    "chi_sq = chi_array.reshape(492, 260)"
   ]
  },
  {
   "cell_type": "code",
   "execution_count": 50,
   "metadata": {},
   "outputs": [],
   "source": [
    "im = plt.imshow(chi_sq, interpolation='none', aspect='auto', origin='lower', extent=[0.0, 13000.0, 0, 24500.0])\n",
    "plt.colorbar(im, orientation='horizontal')\n",
    "plt.show()"
   ]
  },
  {
   "cell_type": "code",
   "execution_count": 39,
   "metadata": {},
   "outputs": [
    {
     "data": {
      "text/plain": [
       "<matplotlib.axes._subplots.AxesSubplot at 0x2910c956208>"
      ]
     },
     "execution_count": 39,
     "metadata": {},
     "output_type": "execute_result"
    }
   ],
   "source": []
  }
 ],
 "metadata": {
  "kernelspec": {
   "display_name": "Python 3",
   "language": "python",
   "name": "python3"
  },
  "language_info": {
   "codemirror_mode": {
    "name": "ipython",
    "version": 3
   },
   "file_extension": ".py",
   "mimetype": "text/x-python",
   "name": "python",
   "nbconvert_exporter": "python",
   "pygments_lexer": "ipython3",
   "version": "3.7.3"
  }
 },
 "nbformat": 4,
 "nbformat_minor": 2
}
