{
 "cells": [
  {
   "cell_type": "code",
   "execution_count": 1,
   "metadata": {},
   "outputs": [],
   "source": [
    "import mpldatacursor\n",
    "import numpy as np\n",
    "import pandas as pd\n",
    "import matplotlib.pyplot as plt\n",
    "from ipywidgets import interactive\n",
    "from ciexyz import xyz_from_spectrum\n",
    "from colormodels import irgb_from_xyz\n",
    "import csv"
   ]
  },
  {
   "cell_type": "code",
   "execution_count": 38,
   "metadata": {},
   "outputs": [
    {
     "data": {
      "text/plain": [
       "(728, 3648)"
      ]
     },
     "execution_count": 38,
     "metadata": {},
     "output_type": "execute_result"
    }
   ],
   "source": [
    "wavel_file = pd.read_csv('long_de_onda_1_tira.csv',header=None)\n",
    "inten_file = pd.read_csv('inten_paso_500micrones.csv',header=None)\n",
    "wavel_array = wavel_file.iloc[:,0:].values\n",
    "inten_array = inten_file.iloc[:,0:].values\n",
    "np.shape(inten_array)"
   ]
  },
  {
   "cell_type": "code",
   "execution_count": 14,
   "metadata": {},
   "outputs": [],
   "source": [
    "inten_file = pd.read_csv('inten_paso_50micrones_arriba.csv',header=None)\n",
    "wavel_file = pd.read_csv('long_de_onda_1_tira.csv',header=None)\n",
    "inten_array = inten_file.iloc[:,0:].values"
   ]
  },
  {
   "cell_type": "code",
   "execution_count": 116,
   "metadata": {},
   "outputs": [
    {
     "data": {
      "text/plain": [
       "(260, 230)"
      ]
     },
     "execution_count": 116,
     "metadata": {},
     "output_type": "execute_result"
    }
   ],
   "source": [
    "RGB_file = pd.read_csv('RGB_colors_50micron_abajo.csv',header=None)\n",
    "R_array = RGB_file.iloc[:,0].values\n",
    "np.shape(R_array)\n",
    "R = R_array.reshape(260,230)\n",
    "np.shape(R)"
   ]
  },
  {
   "cell_type": "code",
   "execution_count": 111,
   "metadata": {},
   "outputs": [
    {
     "data": {
      "text/plain": [
       "(59800,)"
      ]
     },
     "execution_count": 111,
     "metadata": {},
     "output_type": "execute_result"
    }
   ],
   "source": [
    "xy_file = pd.read_csv('xy_positions_50micron_abajo.csv',header=None)\n",
    "xa = xy_file.iloc[:,0].values\n",
    "np.shape(xa)\n"
   ]
  },
  {
   "cell_type": "code",
   "execution_count": 114,
   "metadata": {},
   "outputs": [
    {
     "data": {
      "text/plain": [
       "(260, 230)"
      ]
     },
     "execution_count": 114,
     "metadata": {},
     "output_type": "execute_result"
    }
   ],
   "source": [
    "x_array = xa.reshape(260,230)\n",
    "np.shape(x_array)"
   ]
  },
  {
   "cell_type": "code",
   "execution_count": 16,
   "metadata": {},
   "outputs": [
    {
     "data": {
      "text/plain": [
       "68120"
      ]
     },
     "execution_count": 16,
     "metadata": {},
     "output_type": "execute_result"
    }
   ],
   "source": [
    "len(inten_array)"
   ]
  },
  {
   "cell_type": "code",
   "execution_count": 15,
   "metadata": {},
   "outputs": [
    {
     "data": {
      "text/plain": [
       "[<matplotlib.lines.Line2D at 0x14b93e99208>]"
      ]
     },
     "execution_count": 15,
     "metadata": {},
     "output_type": "execute_result"
    },
    {
     "data": {
      "image/png": "[encoded data removed]",
      "text/plain": [
       "<Figure size 432x288 with 1 Axes>"
      ]
     },
     "metadata": {
      "needs_background": "light"
     },
     "output_type": "display_data"
    }
   ],
   "source": [
    "plt.plot(wavel_file.iloc[:,0],inten_file.iloc[-1],'*')"
   ]
  },
  {
   "cell_type": "code",
   "execution_count": 5,
   "metadata": {},
   "outputs": [
    {
     "data": {
      "text/plain": [
       "(68120, 3648)"
      ]
     },
     "execution_count": 5,
     "metadata": {},
     "output_type": "execute_result"
    }
   ],
   "source": [
    "np.shape(inten_array)"
   ]
  },
  {
   "cell_type": "code",
   "execution_count": 119,
   "metadata": {},
   "outputs": [],
   "source": [
    "wavel_file = pd.read_csv('long_de_onda_1_tira.csv')\n",
    "inten_file = pd.read_csv('inten_50micr_abajo_selected.csv',header=None)"
   ]
  },
  {
   "cell_type": "code",
   "execution_count": 123,
   "metadata": {},
   "outputs": [
    {
     "data": {
      "text/plain": [
       "(60021, 3648)"
      ]
     },
     "execution_count": 123,
     "metadata": {},
     "output_type": "execute_result"
    }
   ],
   "source": [
    "wavel_file = pd.read_csv('long_de_onda_1_tira.csv')\n",
    "wavel_array = wavel_file.iloc[:,0].values\n",
    "inten_array = inten_file.iloc[:,0:].values\n",
    "np.shape(inten_array)"
   ]
  },
  {
   "cell_type": "code",
   "execution_count": 118,
   "metadata": {},
   "outputs": [
    {
     "data": {
      "text/plain": [
       "(3648,)"
      ]
     },
     "execution_count": 118,
     "metadata": {},
     "output_type": "execute_result"
    }
   ],
   "source": [
    "np.shape(wavel_array)"
   ]
  },
  {
   "cell_type": "code",
   "execution_count": 124,
   "metadata": {},
   "outputs": [
    {
     "data": {
      "text/plain": [
       "(59800, 3648)"
      ]
     },
     "execution_count": 124,
     "metadata": {},
     "output_type": "execute_result"
    }
   ],
   "source": [
    "inten_file1 = inten_file.iloc[221:,:] #eliminating 221 unnecesary rows\n",
    "np.shape(inten_file1)"
   ]
  },
  {
   "cell_type": "code",
   "execution_count": 99,
   "metadata": {},
   "outputs": [
    {
     "data": {
      "text/plain": [
       "(59800, 3648)"
      ]
     },
     "execution_count": 99,
     "metadata": {},
     "output_type": "execute_result"
    }
   ],
   "source": [
    "inten_array = inten_file1.iloc[:,0:].values\n",
    "np.shape(inten_array)"
   ]
  },
  {
   "cell_type": "code",
   "execution_count": 100,
   "metadata": {},
   "outputs": [],
   "source": [
    "list_of_colors = []\n",
    "\n",
    "for row in range(len(inten_array)):\n",
    "    spectra = np.column_stack((wavel_array,inten_array[row,:]))\n",
    "    xyz_color_vec = xyz_from_spectrum(spectra)\n",
    "    rgb_disp = irgb_from_xyz(xyz_color_vec)\n",
    "    list_of_colors.append(rgb_disp)\n",
    "\n",
    "rgb_matrix = np.asarray(list_of_colors)\n",
    "\n",
    "with open('RGB_colors_50micron_abajo.csv', 'w') as csvFile:\n",
    "    writer = csv.writer(csvFile)\n",
    "    writer.writerows(rgb_matrix)\n",
    "\n",
    "csvFile.close()"
   ]
  },
  {
   "cell_type": "code",
   "execution_count": 68,
   "metadata": {},
   "outputs": [],
   "source": [
    "def pre_RGB_calc():\n",
    "    wavel_file = pd.read_csv('long_de_onda_1_tira.csv',header=None)\n",
    "    inten_file = pd.read_csv('inten_50micr_abajo_selected.csv',header=None)\n",
    "    wavel_array = wavel_file.iloc[:,0:].values\n",
    "    inten_array = inten_file.iloc[:,0:].values\n",
    "\n",
    "    list_of_colors = []\n",
    "\n",
    "    for row in range(len(inten_array)):\n",
    "        spectra = np.column_stack((wavel_array,inten_array[row,:]))\n",
    "        xyz_color_vec = xyz_from_spectrum(spectra)\n",
    "        rgb_disp = irgb_from_xyz(xyz_color_vec)\n",
    "        list_of_colors.append(rgb_disp)\n",
    "        \n",
    "    rgb_matrix = np.asarray(list_of_colors)\n",
    "    \n",
    "    with open('RGB_colors_50micron_abajo.csv', 'w') as csvFile:\n",
    "        writer = csv.writer(csvFile)\n",
    "        writer.writerows(rgb_matrix)\n",
    "        \n",
    "    csvFile.close()\n",
    "    "
   ]
  },
  {
   "cell_type": "code",
   "execution_count": 69,
   "metadata": {},
   "outputs": [
    {
     "ename": "ValueError",
     "evalue": "all the input array dimensions for the concatenation axis must match exactly, but along dimension 0, the array at index 0 has size 3649 and the array at index 1 has size 3648",
     "output_type": "error",
     "traceback": [
      "\u001b[1;31m---------------------------------------------------------------------------\u001b[0m",
      "\u001b[1;31mValueError\u001b[0m                                Traceback (most recent call last)",
      "\u001b[1;32m<ipython-input-69-e3efc600ad7e>\u001b[0m in \u001b[0;36m<module>\u001b[1;34m\u001b[0m\n\u001b[0;32m      2\u001b[0m \u001b[0mlp\u001b[0m \u001b[1;33m=\u001b[0m \u001b[0mLineProfiler\u001b[0m\u001b[1;33m(\u001b[0m\u001b[1;33m)\u001b[0m\u001b[1;33m\u001b[0m\u001b[1;33m\u001b[0m\u001b[0m\n\u001b[0;32m      3\u001b[0m \u001b[0mlp_wrapper\u001b[0m \u001b[1;33m=\u001b[0m \u001b[0mlp\u001b[0m\u001b[1;33m(\u001b[0m\u001b[0mpre_RGB_calc\u001b[0m\u001b[1;33m)\u001b[0m\u001b[1;33m\u001b[0m\u001b[1;33m\u001b[0m\u001b[0m\n\u001b[1;32m----> 4\u001b[1;33m \u001b[0mlp_wrapper\u001b[0m\u001b[1;33m(\u001b[0m\u001b[1;33m)\u001b[0m\u001b[1;33m\u001b[0m\u001b[1;33m\u001b[0m\u001b[0m\n\u001b[0m\u001b[0;32m      5\u001b[0m \u001b[0mlp\u001b[0m\u001b[1;33m.\u001b[0m\u001b[0mprint_stats\u001b[0m\u001b[1;33m(\u001b[0m\u001b[1;33m)\u001b[0m\u001b[1;33m\u001b[0m\u001b[1;33m\u001b[0m\u001b[0m\n",
      "\u001b[1;32m~\\Anaconda3\\envs\\spectral_gui\\lib\\site-packages\\line_profiler.py\u001b[0m in \u001b[0;36mwrapper\u001b[1;34m(*args, **kwds)\u001b[0m\n\u001b[0;32m    113\u001b[0m             \u001b[0mself\u001b[0m\u001b[1;33m.\u001b[0m\u001b[0menable_by_count\u001b[0m\u001b[1;33m(\u001b[0m\u001b[1;33m)\u001b[0m\u001b[1;33m\u001b[0m\u001b[1;33m\u001b[0m\u001b[0m\n\u001b[0;32m    114\u001b[0m             \u001b[1;32mtry\u001b[0m\u001b[1;33m:\u001b[0m\u001b[1;33m\u001b[0m\u001b[1;33m\u001b[0m\u001b[0m\n\u001b[1;32m--> 115\u001b[1;33m                 \u001b[0mresult\u001b[0m \u001b[1;33m=\u001b[0m \u001b[0mfunc\u001b[0m\u001b[1;33m(\u001b[0m\u001b[1;33m*\u001b[0m\u001b[0margs\u001b[0m\u001b[1;33m,\u001b[0m \u001b[1;33m**\u001b[0m\u001b[0mkwds\u001b[0m\u001b[1;33m)\u001b[0m\u001b[1;33m\u001b[0m\u001b[1;33m\u001b[0m\u001b[0m\n\u001b[0m\u001b[0;32m    116\u001b[0m             \u001b[1;32mfinally\u001b[0m\u001b[1;33m:\u001b[0m\u001b[1;33m\u001b[0m\u001b[1;33m\u001b[0m\u001b[0m\n\u001b[0;32m    117\u001b[0m                 \u001b[0mself\u001b[0m\u001b[1;33m.\u001b[0m\u001b[0mdisable_by_count\u001b[0m\u001b[1;33m(\u001b[0m\u001b[1;33m)\u001b[0m\u001b[1;33m\u001b[0m\u001b[1;33m\u001b[0m\u001b[0m\n",
      "\u001b[1;32m<ipython-input-68-2011778b5d43>\u001b[0m in \u001b[0;36mpre_RGB_calc\u001b[1;34m()\u001b[0m\n\u001b[0;32m      8\u001b[0m \u001b[1;33m\u001b[0m\u001b[0m\n\u001b[0;32m      9\u001b[0m     \u001b[1;32mfor\u001b[0m \u001b[0mrow\u001b[0m \u001b[1;32min\u001b[0m \u001b[0mrange\u001b[0m\u001b[1;33m(\u001b[0m\u001b[0mlen\u001b[0m\u001b[1;33m(\u001b[0m\u001b[0minten_array\u001b[0m\u001b[1;33m)\u001b[0m\u001b[1;33m)\u001b[0m\u001b[1;33m:\u001b[0m\u001b[1;33m\u001b[0m\u001b[1;33m\u001b[0m\u001b[0m\n\u001b[1;32m---> 10\u001b[1;33m         \u001b[0mspectra\u001b[0m \u001b[1;33m=\u001b[0m \u001b[0mnp\u001b[0m\u001b[1;33m.\u001b[0m\u001b[0mcolumn_stack\u001b[0m\u001b[1;33m(\u001b[0m\u001b[1;33m(\u001b[0m\u001b[0mwavel_array\u001b[0m\u001b[1;33m,\u001b[0m\u001b[0minten_array\u001b[0m\u001b[1;33m[\u001b[0m\u001b[0mrow\u001b[0m\u001b[1;33m,\u001b[0m\u001b[1;33m:\u001b[0m\u001b[1;33m]\u001b[0m\u001b[1;33m)\u001b[0m\u001b[1;33m)\u001b[0m\u001b[1;33m\u001b[0m\u001b[1;33m\u001b[0m\u001b[0m\n\u001b[0m\u001b[0;32m     11\u001b[0m         \u001b[0mxyz_color_vec\u001b[0m \u001b[1;33m=\u001b[0m \u001b[0mxyz_from_spectrum\u001b[0m\u001b[1;33m(\u001b[0m\u001b[0mspectra\u001b[0m\u001b[1;33m)\u001b[0m\u001b[1;33m\u001b[0m\u001b[1;33m\u001b[0m\u001b[0m\n\u001b[0;32m     12\u001b[0m         \u001b[0mrgb_disp\u001b[0m \u001b[1;33m=\u001b[0m \u001b[0mirgb_from_xyz\u001b[0m\u001b[1;33m(\u001b[0m\u001b[0mxyz_color_vec\u001b[0m\u001b[1;33m)\u001b[0m\u001b[1;33m\u001b[0m\u001b[1;33m\u001b[0m\u001b[0m\n",
      "\u001b[1;32m<__array_function__ internals>\u001b[0m in \u001b[0;36mcolumn_stack\u001b[1;34m(*args, **kwargs)\u001b[0m\n",
      "\u001b[1;32m~\\Anaconda3\\envs\\spectral_gui\\lib\\site-packages\\numpy\\lib\\shape_base.py\u001b[0m in \u001b[0;36mcolumn_stack\u001b[1;34m(tup)\u001b[0m\n\u001b[0;32m    639\u001b[0m             \u001b[0marr\u001b[0m \u001b[1;33m=\u001b[0m \u001b[0marray\u001b[0m\u001b[1;33m(\u001b[0m\u001b[0marr\u001b[0m\u001b[1;33m,\u001b[0m \u001b[0mcopy\u001b[0m\u001b[1;33m=\u001b[0m\u001b[1;32mFalse\u001b[0m\u001b[1;33m,\u001b[0m \u001b[0msubok\u001b[0m\u001b[1;33m=\u001b[0m\u001b[1;32mTrue\u001b[0m\u001b[1;33m,\u001b[0m \u001b[0mndmin\u001b[0m\u001b[1;33m=\u001b[0m\u001b[1;36m2\u001b[0m\u001b[1;33m)\u001b[0m\u001b[1;33m.\u001b[0m\u001b[0mT\u001b[0m\u001b[1;33m\u001b[0m\u001b[1;33m\u001b[0m\u001b[0m\n\u001b[0;32m    640\u001b[0m         \u001b[0marrays\u001b[0m\u001b[1;33m.\u001b[0m\u001b[0mappend\u001b[0m\u001b[1;33m(\u001b[0m\u001b[0marr\u001b[0m\u001b[1;33m)\u001b[0m\u001b[1;33m\u001b[0m\u001b[1;33m\u001b[0m\u001b[0m\n\u001b[1;32m--> 641\u001b[1;33m     \u001b[1;32mreturn\u001b[0m \u001b[0m_nx\u001b[0m\u001b[1;33m.\u001b[0m\u001b[0mconcatenate\u001b[0m\u001b[1;33m(\u001b[0m\u001b[0marrays\u001b[0m\u001b[1;33m,\u001b[0m \u001b[1;36m1\u001b[0m\u001b[1;33m)\u001b[0m\u001b[1;33m\u001b[0m\u001b[1;33m\u001b[0m\u001b[0m\n\u001b[0m\u001b[0;32m    642\u001b[0m \u001b[1;33m\u001b[0m\u001b[0m\n\u001b[0;32m    643\u001b[0m \u001b[1;33m\u001b[0m\u001b[0m\n",
      "\u001b[1;32m<__array_function__ internals>\u001b[0m in \u001b[0;36mconcatenate\u001b[1;34m(*args, **kwargs)\u001b[0m\n",
      "\u001b[1;31mValueError\u001b[0m: all the input array dimensions for the concatenation axis must match exactly, but along dimension 0, the array at index 0 has size 3649 and the array at index 1 has size 3648"
     ]
    }
   ],
   "source": [
    "from line_profiler import LineProfiler\n",
    "lp = LineProfiler()\n",
    "lp_wrapper = lp(pre_RGB_calc)\n",
    "lp_wrapper()\n",
    "lp.print_stats()"
   ]
  },
  {
   "cell_type": "code",
   "execution_count": 66,
   "metadata": {},
   "outputs": [
    {
     "data": {
      "image/png": "[encoded data removed]",
      "text/plain": [
       "<Figure size 432x288 with 1 Axes>"
      ]
     },
     "metadata": {
      "needs_background": "light"
     },
     "output_type": "display_data"
    }
   ],
   "source": [
    "import numpy as np\n",
    "import matplotlib.pyplot as plt\n",
    "\n",
    "fig = plt.figure()\n",
    "ax = fig.add_subplot(111)\n",
    "ax.set_title('click on points')\n",
    "\n",
    "line, = ax.plot(np.random.rand(100), 'o', picker=5)  # 5 points tolerance\n",
    "\n",
    "def onpick(event):\n",
    "    thisline = event.artist\n",
    "    xdata = thisline.get_xdata()\n",
    "    ydata = thisline.get_ydata()\n",
    "    ind = event.ind\n",
    "    points = tuple(zip(xdata[ind], ydata[ind]))\n",
    "    print('onpick points:', points)\n",
    "\n",
    "fig.canvas.mpl_connect('pick_event', onpick)\n",
    "\n",
    "plt.show()"
   ]
  },
  {
   "cell_type": "code",
   "execution_count": 128,
   "metadata": {},
   "outputs": [
    {
     "data": {
      "text/html": [
       "<div>\n",
       "<style scoped>\n",
       "    .dataframe tbody tr th:only-of-type {\n",
       "        vertical-align: middle;\n",
       "    }\n",
       "\n",
       "    .dataframe tbody tr th {\n",
       "        vertical-align: top;\n",
       "    }\n",
       "\n",
       "    .dataframe thead th {\n",
       "        text-align: right;\n",
       "    }\n",
       "</style>\n",
       "<table border=\"1\" class=\"dataframe\">\n",
       "  <thead>\n",
       "    <tr style=\"text-align: right;\">\n",
       "      <th></th>\n",
       "      <th>0</th>\n",
       "      <th>1</th>\n",
       "      <th>2</th>\n",
       "    </tr>\n",
       "  </thead>\n",
       "  <tbody>\n",
       "    <tr>\n",
       "      <td>0</td>\n",
       "      <td>1</td>\n",
       "      <td>0</td>\n",
       "      <td>0</td>\n",
       "    </tr>\n",
       "    <tr>\n",
       "      <td>1</td>\n",
       "      <td>13</td>\n",
       "      <td>33</td>\n",
       "      <td>0</td>\n",
       "    </tr>\n",
       "    <tr>\n",
       "      <td>2</td>\n",
       "      <td>47</td>\n",
       "      <td>0</td>\n",
       "      <td>20</td>\n",
       "    </tr>\n",
       "    <tr>\n",
       "      <td>3</td>\n",
       "      <td>106</td>\n",
       "      <td>69</td>\n",
       "      <td>91</td>\n",
       "    </tr>\n",
       "    <tr>\n",
       "      <td>4</td>\n",
       "      <td>4</td>\n",
       "      <td>0</td>\n",
       "      <td>22</td>\n",
       "    </tr>\n",
       "    <tr>\n",
       "      <td>...</td>\n",
       "      <td>...</td>\n",
       "      <td>...</td>\n",
       "      <td>...</td>\n",
       "    </tr>\n",
       "    <tr>\n",
       "      <td>59795</td>\n",
       "      <td>255</td>\n",
       "      <td>161</td>\n",
       "      <td>0</td>\n",
       "    </tr>\n",
       "    <tr>\n",
       "      <td>59796</td>\n",
       "      <td>255</td>\n",
       "      <td>160</td>\n",
       "      <td>0</td>\n",
       "    </tr>\n",
       "    <tr>\n",
       "      <td>59797</td>\n",
       "      <td>255</td>\n",
       "      <td>160</td>\n",
       "      <td>11</td>\n",
       "    </tr>\n",
       "    <tr>\n",
       "      <td>59798</td>\n",
       "      <td>255</td>\n",
       "      <td>161</td>\n",
       "      <td>0</td>\n",
       "    </tr>\n",
       "    <tr>\n",
       "      <td>59799</td>\n",
       "      <td>255</td>\n",
       "      <td>160</td>\n",
       "      <td>0</td>\n",
       "    </tr>\n",
       "  </tbody>\n",
       "</table>\n",
       "<p>59800 rows × 3 columns</p>\n",
       "</div>"
      ],
      "text/plain": [
       "         0    1   2\n",
       "0        1    0   0\n",
       "1       13   33   0\n",
       "2       47    0  20\n",
       "3      106   69  91\n",
       "4        4    0  22\n",
       "...    ...  ...  ..\n",
       "59795  255  161   0\n",
       "59796  255  160   0\n",
       "59797  255  160  11\n",
       "59798  255  161   0\n",
       "59799  255  160   0\n",
       "\n",
       "[59800 rows x 3 columns]"
      ]
     },
     "execution_count": 128,
     "metadata": {},
     "output_type": "execute_result"
    }
   ],
   "source": [
    "RGB_file = pd.read_csv('RGB_colors_50micron_abajo.csv',header=None)\n",
    "\n",
    "R_array = RGB_file.iloc[:, 0].values\n",
    "G_array = RGB_file.iloc[:, 1].values\n",
    "B_array = RGB_file.iloc[:, 2].values\n",
    "RGB_file"
   ]
  },
  {
   "cell_type": "code",
   "execution_count": 55,
   "metadata": {},
   "outputs": [
    {
     "data": {
      "text/html": [
       "<div>\n",
       "<style scoped>\n",
       "    .dataframe tbody tr th:only-of-type {\n",
       "        vertical-align: middle;\n",
       "    }\n",
       "\n",
       "    .dataframe tbody tr th {\n",
       "        vertical-align: top;\n",
       "    }\n",
       "\n",
       "    .dataframe thead th {\n",
       "        text-align: right;\n",
       "    }\n",
       "</style>\n",
       "<table border=\"1\" class=\"dataframe\">\n",
       "  <thead>\n",
       "    <tr style=\"text-align: right;\">\n",
       "      <th></th>\n",
       "      <th>255</th>\n",
       "      <th>161</th>\n",
       "      <th>0</th>\n",
       "    </tr>\n",
       "  </thead>\n",
       "  <tbody>\n",
       "    <tr>\n",
       "      <td>0</td>\n",
       "      <td>255</td>\n",
       "      <td>161</td>\n",
       "      <td>0</td>\n",
       "    </tr>\n",
       "    <tr>\n",
       "      <td>1</td>\n",
       "      <td>255</td>\n",
       "      <td>161</td>\n",
       "      <td>0</td>\n",
       "    </tr>\n",
       "    <tr>\n",
       "      <td>2</td>\n",
       "      <td>255</td>\n",
       "      <td>161</td>\n",
       "      <td>0</td>\n",
       "    </tr>\n",
       "    <tr>\n",
       "      <td>3</td>\n",
       "      <td>255</td>\n",
       "      <td>161</td>\n",
       "      <td>0</td>\n",
       "    </tr>\n",
       "    <tr>\n",
       "      <td>4</td>\n",
       "      <td>255</td>\n",
       "      <td>161</td>\n",
       "      <td>0</td>\n",
       "    </tr>\n",
       "    <tr>\n",
       "      <td>...</td>\n",
       "      <td>...</td>\n",
       "      <td>...</td>\n",
       "      <td>...</td>\n",
       "    </tr>\n",
       "    <tr>\n",
       "      <td>68114</td>\n",
       "      <td>0</td>\n",
       "      <td>212</td>\n",
       "      <td>255</td>\n",
       "    </tr>\n",
       "    <tr>\n",
       "      <td>68115</td>\n",
       "      <td>0</td>\n",
       "      <td>212</td>\n",
       "      <td>255</td>\n",
       "    </tr>\n",
       "    <tr>\n",
       "      <td>68116</td>\n",
       "      <td>0</td>\n",
       "      <td>212</td>\n",
       "      <td>255</td>\n",
       "    </tr>\n",
       "    <tr>\n",
       "      <td>68117</td>\n",
       "      <td>0</td>\n",
       "      <td>212</td>\n",
       "      <td>255</td>\n",
       "    </tr>\n",
       "    <tr>\n",
       "      <td>68118</td>\n",
       "      <td>0</td>\n",
       "      <td>212</td>\n",
       "      <td>255</td>\n",
       "    </tr>\n",
       "  </tbody>\n",
       "</table>\n",
       "<p>68119 rows × 3 columns</p>\n",
       "</div>"
      ],
      "text/plain": [
       "       255  161    0\n",
       "0      255  161    0\n",
       "1      255  161    0\n",
       "2      255  161    0\n",
       "3      255  161    0\n",
       "4      255  161    0\n",
       "...    ...  ...  ...\n",
       "68114    0  212  255\n",
       "68115    0  212  255\n",
       "68116    0  212  255\n",
       "68117    0  212  255\n",
       "68118    0  212  255\n",
       "\n",
       "[68119 rows x 3 columns]"
      ]
     },
     "execution_count": 55,
     "metadata": {},
     "output_type": "execute_result"
    }
   ],
   "source": [
    "RGB_file = pd.read_csv('RGB_colors_50micron.csv')\n",
    "RGB_file"
   ]
  },
  {
   "cell_type": "code",
   "execution_count": 112,
   "metadata": {},
   "outputs": [
    {
     "data": {
      "text/html": [
       "<div>\n",
       "<style scoped>\n",
       "    .dataframe tbody tr th:only-of-type {\n",
       "        vertical-align: middle;\n",
       "    }\n",
       "\n",
       "    .dataframe tbody tr th {\n",
       "        vertical-align: top;\n",
       "    }\n",
       "\n",
       "    .dataframe thead th {\n",
       "        text-align: right;\n",
       "    }\n",
       "</style>\n",
       "<table border=\"1\" class=\"dataframe\">\n",
       "  <thead>\n",
       "    <tr style=\"text-align: right;\">\n",
       "      <th></th>\n",
       "      <th>0</th>\n",
       "      <th>1</th>\n",
       "    </tr>\n",
       "  </thead>\n",
       "  <tbody>\n",
       "    <tr>\n",
       "      <td>0</td>\n",
       "      <td>0.0</td>\n",
       "      <td>0.0</td>\n",
       "    </tr>\n",
       "    <tr>\n",
       "      <td>1</td>\n",
       "      <td>50.0</td>\n",
       "      <td>0.0</td>\n",
       "    </tr>\n",
       "    <tr>\n",
       "      <td>2</td>\n",
       "      <td>100.0</td>\n",
       "      <td>0.0</td>\n",
       "    </tr>\n",
       "    <tr>\n",
       "      <td>3</td>\n",
       "      <td>150.0</td>\n",
       "      <td>0.0</td>\n",
       "    </tr>\n",
       "    <tr>\n",
       "      <td>4</td>\n",
       "      <td>200.0</td>\n",
       "      <td>0.0</td>\n",
       "    </tr>\n",
       "    <tr>\n",
       "      <td>...</td>\n",
       "      <td>...</td>\n",
       "      <td>...</td>\n",
       "    </tr>\n",
       "    <tr>\n",
       "      <td>68116</td>\n",
       "      <td>12800.0</td>\n",
       "      <td>13000.0</td>\n",
       "    </tr>\n",
       "    <tr>\n",
       "      <td>68117</td>\n",
       "      <td>12850.0</td>\n",
       "      <td>13000.0</td>\n",
       "    </tr>\n",
       "    <tr>\n",
       "      <td>68118</td>\n",
       "      <td>12900.0</td>\n",
       "      <td>13000.0</td>\n",
       "    </tr>\n",
       "    <tr>\n",
       "      <td>68119</td>\n",
       "      <td>12950.0</td>\n",
       "      <td>13000.0</td>\n",
       "    </tr>\n",
       "    <tr>\n",
       "      <td>68120</td>\n",
       "      <td>13000.0</td>\n",
       "      <td>13000.0</td>\n",
       "    </tr>\n",
       "  </tbody>\n",
       "</table>\n",
       "<p>68121 rows × 2 columns</p>\n",
       "</div>"
      ],
      "text/plain": [
       "             0        1\n",
       "0          0.0      0.0\n",
       "1         50.0      0.0\n",
       "2        100.0      0.0\n",
       "3        150.0      0.0\n",
       "4        200.0      0.0\n",
       "...        ...      ...\n",
       "68116  12800.0  13000.0\n",
       "68117  12850.0  13000.0\n",
       "68118  12900.0  13000.0\n",
       "68119  12950.0  13000.0\n",
       "68120  13000.0  13000.0\n",
       "\n",
       "[68121 rows x 2 columns]"
      ]
     },
     "execution_count": 112,
     "metadata": {},
     "output_type": "execute_result"
    }
   ],
   "source": [
    "xy = pd.read_csv('xy_positions_50micron.csv',header=None)\n",
    "xy"
   ]
  },
  {
   "cell_type": "code",
   "execution_count": 66,
   "metadata": {},
   "outputs": [
    {
     "data": {
      "text/plain": [
       "(261, 261)"
      ]
     },
     "execution_count": 66,
     "metadata": {},
     "output_type": "execute_result"
    }
   ],
   "source": [
    "x_array = xy.iloc[:,0].values\n",
    "y_array = xy.iloc[:,1].values\n",
    "np.shape(x_array)\n",
    "x_array = x_array.reshape(261,261)\n",
    "np.shape(x_array)"
   ]
  },
  {
   "cell_type": "code",
   "execution_count": 137,
   "metadata": {},
   "outputs": [
    {
     "data": {
      "image/png": "[encoded data removed]",
      "text/plain": [
       "<Figure size 432x288 with 1 Axes>"
      ]
     },
     "metadata": {
      "needs_background": "light"
     },
     "output_type": "display_data"
    }
   ],
   "source": [
    "RGB_file = pd.read_csv('RGB_colors_50micron_abajo.csv',header=None)\n",
    "R_array = RGB_file.iloc[:,0].values\n",
    "G_array = RGB_file.iloc[:,1].values\n",
    "B_array = RGB_file.iloc[:,2].values\n",
    "\n",
    "R = R_array.reshape(230,260)\n",
    "G = G_array.reshape(230,260)\n",
    "B = B_array.reshape(230,260)\n",
    "#print(np.shape(R))\n",
    "#(728, 3648)\n",
    "#fig = plt.figure()\n",
    "#rgb_matrix = np.asarray(list_of_colors)\n",
    "#Z1 = np.vstack([R_array, G_array, B_array])\n",
    "#im = plt.imshow(np.dstack(Z1), interpolation='none', aspect='auto',extent=[0.0, 13.0, 0, 13.0])\n",
    "#plt.show()\n",
    "img = np.empty((230,260,3), dtype=np.uint8)\n",
    "img[:,:,0] = R\n",
    "img[:,:,1] = G\n",
    "img[:,:,2] = B\n",
    "im = plt.imshow(img,interpolation='none', aspect='auto',extent=[0.0, 13.0, 0, 13.0])\n",
    "plt.show()"
   ]
  },
  {
   "cell_type": "code",
   "execution_count": 17,
   "metadata": {},
   "outputs": [],
   "source": [
    "def func():\n",
    "    \n",
    "    #wavel_file = pd.read_csv('long_de_onda_1_tira.csv')\n",
    "    #inten_file = pd.read_csv('inten_paso_500micrones.csv')\n",
    "    RGB_file = pd.read_csv('RGB_colors_50micron.csv',header=None)\n",
    "    #wavel_array = wavel_file.iloc[:,0:].values\n",
    "    #inten_array = inten_file.iloc[:,0:].values\n",
    "    R_array = RGB_file.iloc[:,0].values\n",
    "    G_array = RGB_file.iloc[:,1].values\n",
    "    B_array = RGB_file.iloc[:,2].values\n",
    "\n",
    "    fig = plt.figure()\n",
    "    #rgb_matrix = np.asarray(list_of_colors)\n",
    "    Z1 = np.vstack([R_array, G_array, B_array])\n",
    "    im = plt.imshow(np.dstack(Z1), interpolation='none', aspect='auto',extent=[0.0, 13.0, 0, 13.0])\n",
    "    # plt.colorbar(im, orientation='horizontal')\n",
    "    #mpldatacursor.datacursor(hover=True, bbox=dict(alpha=1, fc='w'))\n",
    "    plt.show()"
   ]
  },
  {
   "cell_type": "code",
   "execution_count": 19,
   "metadata": {},
   "outputs": [
    {
     "ename": "NameError",
     "evalue": "name 'R_array' is not defined",
     "output_type": "error",
     "traceback": [
      "\u001b[1;31m---------------------------------------------------------------------------\u001b[0m",
      "\u001b[1;31mNameError\u001b[0m                                 Traceback (most recent call last)",
      "\u001b[1;32m<ipython-input-19-4f8a158ff25f>\u001b[0m in \u001b[0;36m<module>\u001b[1;34m\u001b[0m\n\u001b[1;32m----> 1\u001b[1;33m \u001b[0mlen\u001b[0m\u001b[1;33m(\u001b[0m\u001b[0mR_array\u001b[0m\u001b[1;33m)\u001b[0m\u001b[1;33m\u001b[0m\u001b[1;33m\u001b[0m\u001b[0m\n\u001b[0m",
      "\u001b[1;31mNameError\u001b[0m: name 'R_array' is not defined"
     ]
    }
   ],
   "source": [
    "len(R_array)"
   ]
  },
  {
   "cell_type": "code",
   "execution_count": 18,
   "metadata": {},
   "outputs": [
    {
     "data": {
      "image/png": "[encoded data removed]",
      "text/plain": [
       "<Figure size 432x288 with 1 Axes>"
      ]
     },
     "metadata": {
      "needs_background": "light"
     },
     "output_type": "display_data"
    },
    {
     "name": "stdout",
     "output_type": "stream",
     "text": [
      "Timer unit: 5.14057e-07 s\n",
      "\n",
      "Total time: 0.21685 s\n",
      "File: <ipython-input-17-e1685dc1839a>\n",
      "Function: func at line 1\n",
      "\n",
      "Line #      Hits         Time  Per Hit   % Time  Line Contents\n",
      "==============================================================\n",
      "     1                                           def func():\n",
      "     2                                               \n",
      "     3                                               #wavel_file = pd.read_csv('long_de_onda_1_tira.csv')\n",
      "     4                                               #inten_file = pd.read_csv('inten_paso_500micrones.csv')\n",
      "     5         1      51631.0  51631.0     12.2      RGB_file = pd.read_csv('RGB_colors_50micron.csv')\n",
      "     6                                               #wavel_array = wavel_file.iloc[:,0:].values\n",
      "     7                                               #inten_array = inten_file.iloc[:,0:].values\n",
      "     8         1        939.0    939.0      0.2      R_array = RGB_file.iloc[:,0].values\n",
      "     9         1        312.0    312.0      0.1      G_array = RGB_file.iloc[:,1].values\n",
      "    10         1        280.0    280.0      0.1      B_array = RGB_file.iloc[:,2].values\n",
      "    11                                           \n",
      "    12         1       1745.0   1745.0      0.4      fig = plt.figure()\n",
      "    13                                               #rgb_matrix = np.asarray(list_of_colors)\n",
      "    14         1       1628.0   1628.0      0.4      Z1 = np.vstack([R_array, G_array, B_array])\n",
      "    15         1      62319.0  62319.0     14.8      im = plt.imshow(np.dstack(Z1), interpolation='none', aspect='auto',extent=[0.0, 13.0, 0, 13.0])\n",
      "    16                                               # plt.colorbar(im, orientation='horizontal')\n",
      "    17                                               #mpldatacursor.datacursor(hover=True, bbox=dict(alpha=1, fc='w'))\n",
      "    18         1     302987.0 302987.0     71.8      plt.show()\n",
      "\n"
     ]
    }
   ],
   "source": [
    "from line_profiler import LineProfiler\n",
    "lp = LineProfiler()\n",
    "lp_wrapper = lp(func)\n",
    "lp_wrapper()\n",
    "lp.print_stats()"
   ]
  },
  {
   "cell_type": "code",
   "execution_count": 57,
   "metadata": {},
   "outputs": [],
   "source": [
    "wavel_file = pd.read_csv('long_de_onda_1_tira.csv',header=None)\n",
    "inten_file = pd.read_csv('inten_paso_500micrones.csv',header=None)\n",
    "wavel_array = wavel_file.iloc[:,0:].values\n",
    "inten_array = inten_file.iloc[:,0:].values"
   ]
  },
  {
   "cell_type": "code",
   "execution_count": 58,
   "metadata": {},
   "outputs": [
    {
     "data": {
      "text/plain": [
       "728"
      ]
     },
     "execution_count": 58,
     "metadata": {},
     "output_type": "execute_result"
    }
   ],
   "source": [
    "len(inten_array)"
   ]
  },
  {
   "cell_type": "code",
   "execution_count": 110,
   "metadata": {},
   "outputs": [],
   "source": [
    "dx = 50 #en micrones, luego son pasados a mm\n",
    "dy = 50\n",
    "x_array = np.arange(0.0,dx*(259+1),dx)\n",
    "y_array = np.arange(0.0,dy*(229+1),dy) #son 260 sin recorte de data\n",
    "\n",
    "\n",
    "x_positions = []\n",
    "y_positions = []\n",
    "\n",
    "for ndx, y in enumerate(y_array):\n",
    "    if ndx % 2:\n",
    "        for x in reversed(x_array):\n",
    "            x_positions.append(x)\n",
    "            y_positions.append(y)\n",
    "    else:\n",
    "        for x in x_array:\n",
    "            x_positions.append(x)\n",
    "            y_positions.append(y)\n",
    "\n",
    "#x_positions.pop()\n",
    "#y_positions.pop()\n",
    "#print(len(x_positions))\n",
    "\n",
    "\n",
    "with open(\"xy_positions_50micron_abajo.csv\", \"w\") as csv_file:   \n",
    "    writer = csv.writer(csv_file, delimiter=',')\n",
    "    level_counter = 0\n",
    "    max_levels = len(x_positions)\n",
    "    while level_counter < max_levels:\n",
    "        writer.writerow((x_positions[level_counter], y_positions[level_counter])) \n",
    "        level_counter = level_counter +1\n"
   ]
  },
  {
   "cell_type": "code",
   "execution_count": 16,
   "metadata": {},
   "outputs": [],
   "source": [
    "from plots import spectrum_subplot\n",
    "wavel_file = pd.read_csv('long_de_onda_1_tira.csv',header=None)\n",
    "inten_file = pd.read_csv('inten_paso_500micrones.csv',header=None)\n",
    "wavel_array = wavel_file.iloc[:,0:].values\n",
    "inten_array = inten_file.iloc[:,0:].values"
   ]
  },
  {
   "cell_type": "code",
   "execution_count": 21,
   "metadata": {},
   "outputs": [
    {
     "data": {
      "text/plain": [
       "728"
      ]
     },
     "execution_count": 21,
     "metadata": {},
     "output_type": "execute_result"
    }
   ],
   "source": [
    "len(inten_array)"
   ]
  },
  {
   "cell_type": "code",
   "execution_count": 18,
   "metadata": {},
   "outputs": [
    {
     "data": {
      "text/plain": [
       "[array([ 192.95730947,  193.16105095,  193.36480884, ..., 1024.31173182,\n",
       "        1024.55859777, 1024.80547097])]"
      ]
     },
     "execution_count": 18,
     "metadata": {},
     "output_type": "execute_result"
    },
    {
     "data": {
      "image/png": "[encoded data removed]",
      "text/plain": [
       "<Figure size 432x288 with 1 Axes>"
      ]
     },
     "metadata": {
      "needs_background": "light"
     },
     "output_type": "display_data"
    }
   ],
   "source": [
    "wavels = []\n",
    "intens = []\n",
    "\n",
    "for eachline in range(1):\n",
    "    spectrum = np.column_stack((wavel_array,np.transpose(inten_array[eachline,:])))\n",
    "    w,I = spectrum_subplot(spectrum)\n",
    "    wavels.append(w)\n",
    "    intens.append(I)\n",
    "wavels"
   ]
  },
  {
   "cell_type": "code",
   "execution_count": 60,
   "metadata": {},
   "outputs": [
    {
     "data": {
      "image/png": "[encoded data removed]",
      "text/plain": [
       "<Figure size 432x288 with 1 Axes>"
      ]
     },
     "metadata": {
      "needs_background": "light"
     },
     "output_type": "display_data"
    }
   ],
   "source": [
    "import numpy as np\n",
    "import matplotlib.pyplot as plt\n",
    "import matplotlib.colors\n",
    "\n",
    "\n",
    "def wavelength_to_rgb(wavelength, gamma=0.8):\n",
    "    ''' taken from http://www.noah.org/wiki/Wavelength_to_RGB_in_Python\n",
    "    This converts a given wavelength of light to an \n",
    "    approximate RGB color value. The wavelength must be given\n",
    "    in nanometers in the range from 380 nm through 750 nm\n",
    "    (789 THz through 400 THz).\n",
    "\n",
    "    Based on code by Dan Bruton\n",
    "    http://www.physics.sfasu.edu/astro/color/spectra.html\n",
    "    Additionally alpha value set to 0.5 outside range\n",
    "    '''\n",
    "    wavelength = float(wavelength)\n",
    "    if wavelength >= 380 and wavelength <= 750:\n",
    "        A = 1.\n",
    "    else:\n",
    "        A=0.5\n",
    "    if wavelength < 380:\n",
    "        wavelength = 380.\n",
    "    if wavelength >750:\n",
    "        wavelength = 750.\n",
    "    if wavelength >= 380 and wavelength <= 440:\n",
    "        attenuation = 0.3 + 0.7 * (wavelength - 380) / (440 - 380)\n",
    "        R = ((-(wavelength - 440) / (440 - 380)) * attenuation) ** gamma\n",
    "        G = 0.0\n",
    "        B = (1.0 * attenuation) ** gamma\n",
    "    elif wavelength >= 440 and wavelength <= 490:\n",
    "        R = 0.0\n",
    "        G = ((wavelength - 440) / (490 - 440)) ** gamma\n",
    "        B = 1.0\n",
    "    elif wavelength >= 490 and wavelength <= 510:\n",
    "        R = 0.0\n",
    "        G = 1.0\n",
    "        B = (-(wavelength - 510) / (510 - 490)) ** gamma\n",
    "    elif wavelength >= 510 and wavelength <= 580:\n",
    "        R = ((wavelength - 510) / (580 - 510)) ** gamma\n",
    "        G = 1.0\n",
    "        B = 0.0\n",
    "    elif wavelength >= 580 and wavelength <= 645:\n",
    "        R = 1.0\n",
    "        G = (-(wavelength - 645) / (645 - 580)) ** gamma\n",
    "        B = 0.0\n",
    "    elif wavelength >= 645 and wavelength <= 750:\n",
    "        attenuation = 0.3 + 0.7 * (750 - wavelength) / (750 - 645)\n",
    "        R = (1.0 * attenuation) ** gamma\n",
    "        G = 0.0\n",
    "        B = 0.0\n",
    "    else:\n",
    "        R = 0.0\n",
    "        G = 0.0\n",
    "        B = 0.0\n",
    "    return (R,G,B,A)\n",
    "\n",
    "clim=(350,780)\n",
    "norm = plt.Normalize(*clim)\n",
    "wl = np.arange(clim[0],clim[1]+1,2)\n",
    "colorlist = list(zip(norm(wl),[wavelength_to_rgb(w) for w in wl]))\n",
    "spectralmap = matplotlib.colors.LinearSegmentedColormap.from_list(\"spectrum\", colorlist)\n",
    "\n",
    "#fig, axs = plt.subplots(1, 1, figsize=(8,4), tight_layout=True)\n",
    "\n",
    "wavelengths = wavel_array[:,0]\n",
    "spectrum = np.transpose(inten_array[100,:])\n",
    "plt.plot(wavel_array, spectrum, color='darkred')\n",
    "\n",
    "y = np.linspace(0, np.max(spectrum), 100)\n",
    "X,Y = np.meshgrid(wavelengths, y)\n",
    "\n",
    "extent=(np.min(wavelengths), np.max(wavelengths), np.min(y), np.max(y))\n",
    "\n",
    "plt.imshow(X, clim=clim,  extent=extent, cmap=spectralmap, aspect='auto')\n",
    "plt.xlabel('Wavelength (nm)')\n",
    "plt.ylabel('Intensity')\n",
    "\n",
    "plt.fill_between(wavelengths, spectrum, np.max(spectrum), color='w')\n",
    "\n",
    "plt.show()"
   ]
  },
  {
   "cell_type": "code",
   "execution_count": 32,
   "metadata": {},
   "outputs": [
    {
     "ename": "KeyboardInterrupt",
     "evalue": "",
     "output_type": "error",
     "traceback": [
      "\u001b[1;31m---------------------------------------------------------------------------\u001b[0m",
      "\u001b[1;31mKeyboardInterrupt\u001b[0m                         Traceback (most recent call last)",
      "\u001b[1;32m<ipython-input-32-9fa1a2a3dba8>\u001b[0m in \u001b[0;36m<module>\u001b[1;34m\u001b[0m\n\u001b[0;32m      5\u001b[0m \u001b[1;32mfor\u001b[0m \u001b[0meachline\u001b[0m \u001b[1;32min\u001b[0m \u001b[0mrange\u001b[0m\u001b[1;33m(\u001b[0m\u001b[0mlen\u001b[0m\u001b[1;33m(\u001b[0m\u001b[0minten_array\u001b[0m\u001b[1;33m)\u001b[0m\u001b[1;33m)\u001b[0m\u001b[1;33m:\u001b[0m\u001b[1;33m\u001b[0m\u001b[1;33m\u001b[0m\u001b[0m\n\u001b[0;32m      6\u001b[0m     \u001b[0mspectrum\u001b[0m \u001b[1;33m=\u001b[0m \u001b[0mnp\u001b[0m\u001b[1;33m.\u001b[0m\u001b[0mcolumn_stack\u001b[0m\u001b[1;33m(\u001b[0m\u001b[1;33m(\u001b[0m\u001b[0mwavel_array\u001b[0m\u001b[1;33m,\u001b[0m\u001b[0mnp\u001b[0m\u001b[1;33m.\u001b[0m\u001b[0mtranspose\u001b[0m\u001b[1;33m(\u001b[0m\u001b[0minten_array\u001b[0m\u001b[1;33m[\u001b[0m\u001b[0meachline\u001b[0m\u001b[1;33m,\u001b[0m\u001b[1;33m:\u001b[0m\u001b[1;33m]\u001b[0m\u001b[1;33m)\u001b[0m\u001b[1;33m)\u001b[0m\u001b[1;33m)\u001b[0m\u001b[1;33m\u001b[0m\u001b[1;33m\u001b[0m\u001b[0m\n\u001b[1;32m----> 7\u001b[1;33m     \u001b[0mw\u001b[0m\u001b[1;33m,\u001b[0m\u001b[0mI\u001b[0m \u001b[1;33m=\u001b[0m \u001b[0mspectrum_subplot\u001b[0m\u001b[1;33m(\u001b[0m\u001b[0mspectrum\u001b[0m\u001b[1;33m)\u001b[0m\u001b[1;33m\u001b[0m\u001b[1;33m\u001b[0m\u001b[0m\n\u001b[0m\u001b[0;32m      8\u001b[0m     \u001b[0mwavels\u001b[0m\u001b[1;33m.\u001b[0m\u001b[0mappend\u001b[0m\u001b[1;33m(\u001b[0m\u001b[0mw\u001b[0m\u001b[1;33m)\u001b[0m\u001b[1;33m\u001b[0m\u001b[1;33m\u001b[0m\u001b[0m\n\u001b[0;32m      9\u001b[0m     \u001b[0mintens\u001b[0m\u001b[1;33m.\u001b[0m\u001b[0mappend\u001b[0m\u001b[1;33m(\u001b[0m\u001b[0mI\u001b[0m\u001b[1;33m)\u001b[0m\u001b[1;33m\u001b[0m\u001b[1;33m\u001b[0m\u001b[0m\n",
      "\u001b[1;32m~\\Documents\\thorlabs_step_motors_ZST213B\\spectral_gui\\plots.py\u001b[0m in \u001b[0;36mspectrum_subplot\u001b[1;34m(spectrum)\u001b[0m\n\u001b[0;32m    246\u001b[0m         \u001b[0mpoly_y\u001b[0m \u001b[1;33m=\u001b[0m \u001b[1;33m[\u001b[0m\u001b[1;36m0.0\u001b[0m\u001b[1;33m,\u001b[0m \u001b[1;36m0.0\u001b[0m\u001b[1;33m,\u001b[0m \u001b[0my1\u001b[0m\u001b[1;33m,\u001b[0m \u001b[0my0\u001b[0m\u001b[1;33m]\u001b[0m\u001b[1;33m\u001b[0m\u001b[1;33m\u001b[0m\u001b[0m\n\u001b[0;32m    247\u001b[0m         \u001b[0mcolor_string\u001b[0m \u001b[1;33m=\u001b[0m \u001b[0mcolormodels\u001b[0m\u001b[1;33m.\u001b[0m\u001b[0mirgb_string_from_rgb\u001b[0m \u001b[1;33m(\u001b[0m\u001b[0mrgb_colors\u001b[0m \u001b[1;33m[\u001b[0m\u001b[0mi\u001b[0m\u001b[1;33m]\u001b[0m\u001b[1;33m)\u001b[0m\u001b[1;33m\u001b[0m\u001b[1;33m\u001b[0m\u001b[0m\n\u001b[1;32m--> 248\u001b[1;33m         \u001b[0mpylab\u001b[0m\u001b[1;33m.\u001b[0m\u001b[0mfill\u001b[0m \u001b[1;33m(\u001b[0m\u001b[0mpoly_x\u001b[0m\u001b[1;33m,\u001b[0m \u001b[0mpoly_y\u001b[0m\u001b[1;33m,\u001b[0m \u001b[0mcolor_string\u001b[0m\u001b[1;33m,\u001b[0m \u001b[0medgecolor\u001b[0m\u001b[1;33m=\u001b[0m\u001b[0mcolor_string\u001b[0m\u001b[1;33m)\u001b[0m\u001b[1;33m\u001b[0m\u001b[1;33m\u001b[0m\u001b[0m\n\u001b[0m\u001b[0;32m    249\u001b[0m     \u001b[1;31m# plot intensity as a curve\u001b[0m\u001b[1;33m\u001b[0m\u001b[1;33m\u001b[0m\u001b[1;33m\u001b[0m\u001b[0m\n\u001b[0;32m    250\u001b[0m     \u001b[0mw\u001b[0m \u001b[1;33m=\u001b[0m \u001b[0mspectrum\u001b[0m\u001b[1;33m[\u001b[0m\u001b[1;33m:\u001b[0m\u001b[1;33m,\u001b[0m\u001b[1;36m0\u001b[0m\u001b[1;33m]\u001b[0m\u001b[1;33m\u001b[0m\u001b[1;33m\u001b[0m\u001b[0m\n",
      "\u001b[1;32m~\\Anaconda3\\envs\\spectral_gui\\lib\\site-packages\\matplotlib\\pyplot.py\u001b[0m in \u001b[0;36mfill\u001b[1;34m(data, *args, **kwargs)\u001b[0m\n\u001b[0;32m   2579\u001b[0m     return gca().fill(\n\u001b[0;32m   2580\u001b[0m         \u001b[1;33m*\u001b[0m\u001b[0margs\u001b[0m\u001b[1;33m,\u001b[0m \u001b[1;33m**\u001b[0m\u001b[1;33m(\u001b[0m\u001b[1;33m{\u001b[0m\u001b[1;34m\"data\"\u001b[0m\u001b[1;33m:\u001b[0m \u001b[0mdata\u001b[0m\u001b[1;33m}\u001b[0m \u001b[1;32mif\u001b[0m \u001b[0mdata\u001b[0m \u001b[1;32mis\u001b[0m \u001b[1;32mnot\u001b[0m \u001b[1;32mNone\u001b[0m \u001b[1;32melse\u001b[0m \u001b[1;33m{\u001b[0m\u001b[1;33m}\u001b[0m\u001b[1;33m)\u001b[0m\u001b[1;33m,\u001b[0m\u001b[1;33m\u001b[0m\u001b[1;33m\u001b[0m\u001b[0m\n\u001b[1;32m-> 2581\u001b[1;33m         **kwargs)\n\u001b[0m\u001b[0;32m   2582\u001b[0m \u001b[1;33m\u001b[0m\u001b[0m\n\u001b[0;32m   2583\u001b[0m \u001b[1;33m\u001b[0m\u001b[0m\n",
      "\u001b[1;32m~\\Anaconda3\\envs\\spectral_gui\\lib\\site-packages\\matplotlib\\axes\\_axes.py\u001b[0m in \u001b[0;36mfill\u001b[1;34m(self, data, *args, **kwargs)\u001b[0m\n\u001b[0;32m   5120\u001b[0m         \u001b[0mpatches\u001b[0m \u001b[1;33m=\u001b[0m \u001b[1;33m[\u001b[0m\u001b[1;33m]\u001b[0m\u001b[1;33m\u001b[0m\u001b[1;33m\u001b[0m\u001b[0m\n\u001b[0;32m   5121\u001b[0m         \u001b[1;32mfor\u001b[0m \u001b[0mpoly\u001b[0m \u001b[1;32min\u001b[0m \u001b[0mself\u001b[0m\u001b[1;33m.\u001b[0m\u001b[0m_get_patches_for_fill\u001b[0m\u001b[1;33m(\u001b[0m\u001b[1;33m*\u001b[0m\u001b[0margs\u001b[0m\u001b[1;33m,\u001b[0m \u001b[0mdata\u001b[0m\u001b[1;33m=\u001b[0m\u001b[0mdata\u001b[0m\u001b[1;33m,\u001b[0m \u001b[1;33m**\u001b[0m\u001b[0mkwargs\u001b[0m\u001b[1;33m)\u001b[0m\u001b[1;33m:\u001b[0m\u001b[1;33m\u001b[0m\u001b[1;33m\u001b[0m\u001b[0m\n\u001b[1;32m-> 5122\u001b[1;33m             \u001b[0mself\u001b[0m\u001b[1;33m.\u001b[0m\u001b[0madd_patch\u001b[0m\u001b[1;33m(\u001b[0m\u001b[0mpoly\u001b[0m\u001b[1;33m)\u001b[0m\u001b[1;33m\u001b[0m\u001b[1;33m\u001b[0m\u001b[0m\n\u001b[0m\u001b[0;32m   5123\u001b[0m             \u001b[0mpatches\u001b[0m\u001b[1;33m.\u001b[0m\u001b[0mappend\u001b[0m\u001b[1;33m(\u001b[0m\u001b[0mpoly\u001b[0m\u001b[1;33m)\u001b[0m\u001b[1;33m\u001b[0m\u001b[1;33m\u001b[0m\u001b[0m\n\u001b[0;32m   5124\u001b[0m         \u001b[0mself\u001b[0m\u001b[1;33m.\u001b[0m\u001b[0mautoscale_view\u001b[0m\u001b[1;33m(\u001b[0m\u001b[1;33m)\u001b[0m\u001b[1;33m\u001b[0m\u001b[1;33m\u001b[0m\u001b[0m\n",
      "\u001b[1;32m~\\Anaconda3\\envs\\spectral_gui\\lib\\site-packages\\matplotlib\\axes\\_base.py\u001b[0m in \u001b[0;36madd_patch\u001b[1;34m(self, p)\u001b[0m\n\u001b[0;32m   1968\u001b[0m         \u001b[0mself\u001b[0m\u001b[1;33m.\u001b[0m\u001b[0m_set_artist_props\u001b[0m\u001b[1;33m(\u001b[0m\u001b[0mp\u001b[0m\u001b[1;33m)\u001b[0m\u001b[1;33m\u001b[0m\u001b[1;33m\u001b[0m\u001b[0m\n\u001b[0;32m   1969\u001b[0m         \u001b[1;32mif\u001b[0m \u001b[0mp\u001b[0m\u001b[1;33m.\u001b[0m\u001b[0mget_clip_path\u001b[0m\u001b[1;33m(\u001b[0m\u001b[1;33m)\u001b[0m \u001b[1;32mis\u001b[0m \u001b[1;32mNone\u001b[0m\u001b[1;33m:\u001b[0m\u001b[1;33m\u001b[0m\u001b[1;33m\u001b[0m\u001b[0m\n\u001b[1;32m-> 1970\u001b[1;33m             \u001b[0mp\u001b[0m\u001b[1;33m.\u001b[0m\u001b[0mset_clip_path\u001b[0m\u001b[1;33m(\u001b[0m\u001b[0mself\u001b[0m\u001b[1;33m.\u001b[0m\u001b[0mpatch\u001b[0m\u001b[1;33m)\u001b[0m\u001b[1;33m\u001b[0m\u001b[1;33m\u001b[0m\u001b[0m\n\u001b[0m\u001b[0;32m   1971\u001b[0m         \u001b[0mself\u001b[0m\u001b[1;33m.\u001b[0m\u001b[0m_update_patch_limits\u001b[0m\u001b[1;33m(\u001b[0m\u001b[0mp\u001b[0m\u001b[1;33m)\u001b[0m\u001b[1;33m\u001b[0m\u001b[1;33m\u001b[0m\u001b[0m\n\u001b[0;32m   1972\u001b[0m         \u001b[0mself\u001b[0m\u001b[1;33m.\u001b[0m\u001b[0mpatches\u001b[0m\u001b[1;33m.\u001b[0m\u001b[0mappend\u001b[0m\u001b[1;33m(\u001b[0m\u001b[0mp\u001b[0m\u001b[1;33m)\u001b[0m\u001b[1;33m\u001b[0m\u001b[1;33m\u001b[0m\u001b[0m\n",
      "\u001b[1;32m~\\Anaconda3\\envs\\spectral_gui\\lib\\site-packages\\matplotlib\\artist.py\u001b[0m in \u001b[0;36mset_clip_path\u001b[1;34m(self, path, transform)\u001b[0m\n\u001b[0;32m    730\u001b[0m             \u001b[1;32mif\u001b[0m \u001b[0misinstance\u001b[0m\u001b[1;33m(\u001b[0m\u001b[0mpath\u001b[0m\u001b[1;33m,\u001b[0m \u001b[0mRectangle\u001b[0m\u001b[1;33m)\u001b[0m\u001b[1;33m:\u001b[0m\u001b[1;33m\u001b[0m\u001b[1;33m\u001b[0m\u001b[0m\n\u001b[0;32m    731\u001b[0m                 self.clipbox = TransformedBbox(Bbox.unit(),\n\u001b[1;32m--> 732\u001b[1;33m                                                path.get_transform())\n\u001b[0m\u001b[0;32m    733\u001b[0m                 \u001b[0mself\u001b[0m\u001b[1;33m.\u001b[0m\u001b[0m_clippath\u001b[0m \u001b[1;33m=\u001b[0m \u001b[1;32mNone\u001b[0m\u001b[1;33m\u001b[0m\u001b[1;33m\u001b[0m\u001b[0m\n\u001b[0;32m    734\u001b[0m                 \u001b[0msuccess\u001b[0m \u001b[1;33m=\u001b[0m \u001b[1;32mTrue\u001b[0m\u001b[1;33m\u001b[0m\u001b[1;33m\u001b[0m\u001b[0m\n",
      "\u001b[1;32m~\\Anaconda3\\envs\\spectral_gui\\lib\\site-packages\\matplotlib\\patches.py\u001b[0m in \u001b[0;36mget_transform\u001b[1;34m(self)\u001b[0m\n\u001b[0;32m    212\u001b[0m         \u001b[0mto\u001b[0m \u001b[0mthe\u001b[0m \u001b[1;33m:\u001b[0m\u001b[1;32mclass\u001b[0m\u001b[1;33m:\u001b[0m\u001b[0;31m`\u001b[0m\u001b[0mPatch\u001b[0m\u001b[0;31m`\u001b[0m\u001b[1;33m.\u001b[0m\u001b[1;33m\u001b[0m\u001b[1;33m\u001b[0m\u001b[0m\n\u001b[0;32m    213\u001b[0m         \"\"\"\n\u001b[1;32m--> 214\u001b[1;33m         \u001b[1;32mreturn\u001b[0m \u001b[0mself\u001b[0m\u001b[1;33m.\u001b[0m\u001b[0mget_patch_transform\u001b[0m\u001b[1;33m(\u001b[0m\u001b[1;33m)\u001b[0m \u001b[1;33m+\u001b[0m \u001b[0martist\u001b[0m\u001b[1;33m.\u001b[0m\u001b[0mArtist\u001b[0m\u001b[1;33m.\u001b[0m\u001b[0mget_transform\u001b[0m\u001b[1;33m(\u001b[0m\u001b[0mself\u001b[0m\u001b[1;33m)\u001b[0m\u001b[1;33m\u001b[0m\u001b[1;33m\u001b[0m\u001b[0m\n\u001b[0m\u001b[0;32m    215\u001b[0m \u001b[1;33m\u001b[0m\u001b[0m\n\u001b[0;32m    216\u001b[0m     \u001b[1;32mdef\u001b[0m \u001b[0mget_data_transform\u001b[0m\u001b[1;33m(\u001b[0m\u001b[0mself\u001b[0m\u001b[1;33m)\u001b[0m\u001b[1;33m:\u001b[0m\u001b[1;33m\u001b[0m\u001b[1;33m\u001b[0m\u001b[0m\n",
      "\u001b[1;32m~\\Anaconda3\\envs\\spectral_gui\\lib\\site-packages\\matplotlib\\patches.py\u001b[0m in \u001b[0;36mget_patch_transform\u001b[1;34m(self)\u001b[0m\n\u001b[0;32m    756\u001b[0m \u001b[1;33m\u001b[0m\u001b[0m\n\u001b[0;32m    757\u001b[0m     \u001b[1;32mdef\u001b[0m \u001b[0mget_patch_transform\u001b[0m\u001b[1;33m(\u001b[0m\u001b[0mself\u001b[0m\u001b[1;33m)\u001b[0m\u001b[1;33m:\u001b[0m\u001b[1;33m\u001b[0m\u001b[1;33m\u001b[0m\u001b[0m\n\u001b[1;32m--> 758\u001b[1;33m         \u001b[0mself\u001b[0m\u001b[1;33m.\u001b[0m\u001b[0m_update_patch_transform\u001b[0m\u001b[1;33m(\u001b[0m\u001b[1;33m)\u001b[0m\u001b[1;33m\u001b[0m\u001b[1;33m\u001b[0m\u001b[0m\n\u001b[0m\u001b[0;32m    759\u001b[0m         \u001b[1;32mreturn\u001b[0m \u001b[0mself\u001b[0m\u001b[1;33m.\u001b[0m\u001b[0m_rect_transform\u001b[0m\u001b[1;33m\u001b[0m\u001b[1;33m\u001b[0m\u001b[0m\n\u001b[0;32m    760\u001b[0m \u001b[1;33m\u001b[0m\u001b[0m\n",
      "\u001b[1;32m~\\Anaconda3\\envs\\spectral_gui\\lib\\site-packages\\matplotlib\\patches.py\u001b[0m in \u001b[0;36m_update_patch_transform\u001b[1;34m(self)\u001b[0m\n\u001b[0;32m    735\u001b[0m         \u001b[0mbbox\u001b[0m \u001b[1;33m=\u001b[0m \u001b[0mtransforms\u001b[0m\u001b[1;33m.\u001b[0m\u001b[0mBbox\u001b[0m\u001b[1;33m.\u001b[0m\u001b[0mfrom_extents\u001b[0m\u001b[1;33m(\u001b[0m\u001b[0mx0\u001b[0m\u001b[1;33m,\u001b[0m \u001b[0my0\u001b[0m\u001b[1;33m,\u001b[0m \u001b[0mx1\u001b[0m\u001b[1;33m,\u001b[0m \u001b[0my1\u001b[0m\u001b[1;33m)\u001b[0m\u001b[1;33m\u001b[0m\u001b[1;33m\u001b[0m\u001b[0m\n\u001b[0;32m    736\u001b[0m         \u001b[0mrot_trans\u001b[0m \u001b[1;33m=\u001b[0m \u001b[0mtransforms\u001b[0m\u001b[1;33m.\u001b[0m\u001b[0mAffine2D\u001b[0m\u001b[1;33m(\u001b[0m\u001b[1;33m)\u001b[0m\u001b[1;33m\u001b[0m\u001b[1;33m\u001b[0m\u001b[0m\n\u001b[1;32m--> 737\u001b[1;33m         \u001b[0mrot_trans\u001b[0m\u001b[1;33m.\u001b[0m\u001b[0mrotate_deg_around\u001b[0m\u001b[1;33m(\u001b[0m\u001b[0mx0\u001b[0m\u001b[1;33m,\u001b[0m \u001b[0my0\u001b[0m\u001b[1;33m,\u001b[0m \u001b[0mself\u001b[0m\u001b[1;33m.\u001b[0m\u001b[0mangle\u001b[0m\u001b[1;33m)\u001b[0m\u001b[1;33m\u001b[0m\u001b[1;33m\u001b[0m\u001b[0m\n\u001b[0m\u001b[0;32m    738\u001b[0m         \u001b[0mself\u001b[0m\u001b[1;33m.\u001b[0m\u001b[0m_rect_transform\u001b[0m \u001b[1;33m=\u001b[0m \u001b[0mtransforms\u001b[0m\u001b[1;33m.\u001b[0m\u001b[0mBboxTransformTo\u001b[0m\u001b[1;33m(\u001b[0m\u001b[0mbbox\u001b[0m\u001b[1;33m)\u001b[0m\u001b[1;33m\u001b[0m\u001b[1;33m\u001b[0m\u001b[0m\n\u001b[0;32m    739\u001b[0m         \u001b[0mself\u001b[0m\u001b[1;33m.\u001b[0m\u001b[0m_rect_transform\u001b[0m \u001b[1;33m+=\u001b[0m \u001b[0mrot_trans\u001b[0m\u001b[1;33m\u001b[0m\u001b[1;33m\u001b[0m\u001b[0m\n",
      "\u001b[1;32m~\\Anaconda3\\envs\\spectral_gui\\lib\\site-packages\\matplotlib\\transforms.py\u001b[0m in \u001b[0;36mrotate_deg_around\u001b[1;34m(self, x, y, degrees)\u001b[0m\n\u001b[0;32m   1958\u001b[0m         \u001b[1;31m# Cast to float to avoid wraparound issues with uint8's\u001b[0m\u001b[1;33m\u001b[0m\u001b[1;33m\u001b[0m\u001b[1;33m\u001b[0m\u001b[0m\n\u001b[0;32m   1959\u001b[0m         \u001b[0mx\u001b[0m\u001b[1;33m,\u001b[0m \u001b[0my\u001b[0m \u001b[1;33m=\u001b[0m \u001b[0mfloat\u001b[0m\u001b[1;33m(\u001b[0m\u001b[0mx\u001b[0m\u001b[1;33m)\u001b[0m\u001b[1;33m,\u001b[0m \u001b[0mfloat\u001b[0m\u001b[1;33m(\u001b[0m\u001b[0my\u001b[0m\u001b[1;33m)\u001b[0m\u001b[1;33m\u001b[0m\u001b[1;33m\u001b[0m\u001b[0m\n\u001b[1;32m-> 1960\u001b[1;33m         \u001b[1;32mreturn\u001b[0m \u001b[0mself\u001b[0m\u001b[1;33m.\u001b[0m\u001b[0mtranslate\u001b[0m\u001b[1;33m(\u001b[0m\u001b[1;33m-\u001b[0m\u001b[0mx\u001b[0m\u001b[1;33m,\u001b[0m \u001b[1;33m-\u001b[0m\u001b[0my\u001b[0m\u001b[1;33m)\u001b[0m\u001b[1;33m.\u001b[0m\u001b[0mrotate_deg\u001b[0m\u001b[1;33m(\u001b[0m\u001b[0mdegrees\u001b[0m\u001b[1;33m)\u001b[0m\u001b[1;33m.\u001b[0m\u001b[0mtranslate\u001b[0m\u001b[1;33m(\u001b[0m\u001b[0mx\u001b[0m\u001b[1;33m,\u001b[0m \u001b[0my\u001b[0m\u001b[1;33m)\u001b[0m\u001b[1;33m\u001b[0m\u001b[1;33m\u001b[0m\u001b[0m\n\u001b[0m\u001b[0;32m   1961\u001b[0m \u001b[1;33m\u001b[0m\u001b[0m\n\u001b[0;32m   1962\u001b[0m     \u001b[1;32mdef\u001b[0m \u001b[0mtranslate\u001b[0m\u001b[1;33m(\u001b[0m\u001b[0mself\u001b[0m\u001b[1;33m,\u001b[0m \u001b[0mtx\u001b[0m\u001b[1;33m,\u001b[0m \u001b[0mty\u001b[0m\u001b[1;33m)\u001b[0m\u001b[1;33m:\u001b[0m\u001b[1;33m\u001b[0m\u001b[1;33m\u001b[0m\u001b[0m\n",
      "\u001b[1;32m~\\Anaconda3\\envs\\spectral_gui\\lib\\site-packages\\matplotlib\\transforms.py\u001b[0m in \u001b[0;36mtranslate\u001b[1;34m(self, tx, ty)\u001b[0m\n\u001b[0;32m   1970\u001b[0m         translate_mtx = np.array(\n\u001b[0;32m   1971\u001b[0m             [[1.0, 0.0, tx], [0.0, 1.0, ty], [0.0, 0.0, 1.0]], float)\n\u001b[1;32m-> 1972\u001b[1;33m         \u001b[0mself\u001b[0m\u001b[1;33m.\u001b[0m\u001b[0m_mtx\u001b[0m \u001b[1;33m=\u001b[0m \u001b[0mnp\u001b[0m\u001b[1;33m.\u001b[0m\u001b[0mdot\u001b[0m\u001b[1;33m(\u001b[0m\u001b[0mtranslate_mtx\u001b[0m\u001b[1;33m,\u001b[0m \u001b[0mself\u001b[0m\u001b[1;33m.\u001b[0m\u001b[0m_mtx\u001b[0m\u001b[1;33m)\u001b[0m\u001b[1;33m\u001b[0m\u001b[1;33m\u001b[0m\u001b[0m\n\u001b[0m\u001b[0;32m   1973\u001b[0m         \u001b[0mself\u001b[0m\u001b[1;33m.\u001b[0m\u001b[0minvalidate\u001b[0m\u001b[1;33m(\u001b[0m\u001b[1;33m)\u001b[0m\u001b[1;33m\u001b[0m\u001b[1;33m\u001b[0m\u001b[0m\n\u001b[0;32m   1974\u001b[0m         \u001b[1;32mreturn\u001b[0m \u001b[0mself\u001b[0m\u001b[1;33m\u001b[0m\u001b[1;33m\u001b[0m\u001b[0m\n",
      "\u001b[1;32m<__array_function__ internals>\u001b[0m in \u001b[0;36mdot\u001b[1;34m(*args, **kwargs)\u001b[0m\n",
      "\u001b[1;31mKeyboardInterrupt\u001b[0m: "
     ]
    },
    {
     "data": {
      "image/png": "[encoded data removed]",
      "text/plain": [
       "<Figure size 432x288 with 1 Axes>"
      ]
     },
     "metadata": {
      "needs_background": "light"
     },
     "output_type": "display_data"
    }
   ],
   "source": [
    "wavels = []\n",
    "intens = []\n",
    "\n",
    "\n",
    "for eachline in range(len(inten_array)):\n",
    "    spectrum = np.column_stack((wavel_array,np.transpose(inten_array[eachline,:])))\n",
    "    w,I = spectrum_subplot(spectrum)\n",
    "    wavels.append(w)\n",
    "    intens.append(I)\n",
    "\n",
    "with open(\"spectra.csv\", \"w\") as csv_file:   \n",
    "    writer = csv.writer(csv_file, delimiter=',')\n",
    "    level_counter = 0\n",
    "    max_levels = len(wavels)\n",
    "    while level_counter < max_levels:\n",
    "        writer.writerow((wavels[level_counter], intens[level_counter])) \n",
    "        level_counter = level_counter +1\n",
    "\n",
    "csv_file.close()"
   ]
  },
  {
   "cell_type": "code",
   "execution_count": 31,
   "metadata": {
    "scrolled": true
   },
   "outputs": [
    {
     "name": "stdout",
     "output_type": "stream",
     "text": [
      "Timer unit: 5.14057e-07 s\n",
      "\n",
      "Total time: 41.5707 s\n",
      "File: <ipython-input-29-4a66f5c58062>\n",
      "Function: test at line 5\n",
      "\n",
      "Line #      Hits         Time  Per Hit   % Time  Line Contents\n",
      "==============================================================\n",
      "     5                                           def test():\n",
      "     6                                           \n",
      "     7         3         31.0     10.3      0.0      for eachline in range(2):\n",
      "     8         2       1706.0    853.0      0.0          spectrum = np.column_stack((wavel_array,np.transpose(inten_array[eachline,:])))\n",
      "     9         2   80862809.0 40431404.5    100.0          w,I = spectrum_subplot(spectrum)\n",
      "    10         2          9.0      4.5      0.0          wavels.append(w)\n",
      "    11         2          4.0      2.0      0.0          intens.append(I)\n",
      "    12                                           \n",
      "    13         1        705.0    705.0      0.0      with open(\"spectra.csv\", \"w\") as csv_file:   \n",
      "    14         1         10.0     10.0      0.0          writer = csv.writer(csv_file, delimiter=',')\n",
      "    15         1          1.0      1.0      0.0          level_counter = 0\n",
      "    16         1          2.0      2.0      0.0          max_levels = len(wavels)\n",
      "    17         3        256.0     85.3      0.0          while level_counter < max_levels:\n",
      "    18         2       2433.0   1216.5      0.0              writer.writerow((wavels[level_counter], intens[level_counter])) \n",
      "    19         2          5.0      2.5      0.0              level_counter = level_counter +1\n",
      "    20                                           \n",
      "    21         1          5.0      5.0      0.0      csv_file.close()\n",
      "\n"
     ]
    },
    {
     "data": {
      "image/png": "[encoded data removed]",
      "text/plain": [
       "<Figure size 432x288 with 1 Axes>"
      ]
     },
     "metadata": {
      "needs_background": "light"
     },
     "output_type": "display_data"
    }
   ],
   "source": [
    "from line_profiler import LineProfiler\n",
    "lp = LineProfiler()\n",
    "lp_wrapper = lp(test)\n",
    "lp_wrapper()\n",
    "lp.print_stats()"
   ]
  },
  {
   "cell_type": "code",
   "execution_count": null,
   "metadata": {},
   "outputs": [],
   "source": []
  },
  {
   "cell_type": "code",
   "execution_count": 63,
   "metadata": {},
   "outputs": [],
   "source": [
    "def find_nearest(array, value):\n",
    "    array = np.asarray(array)\n",
    "    idx = (np.abs(array - value)).argmin()\n",
    "    return array[idx]"
   ]
  },
  {
   "cell_type": "code",
   "execution_count": 66,
   "metadata": {},
   "outputs": [
    {
     "data": {
      "text/html": [
       "<div>\n",
       "<style scoped>\n",
       "    .dataframe tbody tr th:only-of-type {\n",
       "        vertical-align: middle;\n",
       "    }\n",
       "\n",
       "    .dataframe tbody tr th {\n",
       "        vertical-align: top;\n",
       "    }\n",
       "\n",
       "    .dataframe thead th {\n",
       "        text-align: right;\n",
       "    }\n",
       "</style>\n",
       "<table border=\"1\" class=\"dataframe\">\n",
       "  <thead>\n",
       "    <tr style=\"text-align: right;\">\n",
       "      <th></th>\n",
       "      <th>0.0</th>\n",
       "      <th>0.0.1</th>\n",
       "    </tr>\n",
       "  </thead>\n",
       "  <tbody>\n",
       "    <tr>\n",
       "      <td>0</td>\n",
       "      <td>0.5</td>\n",
       "      <td>0.0</td>\n",
       "    </tr>\n",
       "    <tr>\n",
       "      <td>1</td>\n",
       "      <td>1.0</td>\n",
       "      <td>0.0</td>\n",
       "    </tr>\n",
       "    <tr>\n",
       "      <td>2</td>\n",
       "      <td>1.5</td>\n",
       "      <td>0.0</td>\n",
       "    </tr>\n",
       "    <tr>\n",
       "      <td>3</td>\n",
       "      <td>2.0</td>\n",
       "      <td>0.0</td>\n",
       "    </tr>\n",
       "    <tr>\n",
       "      <td>4</td>\n",
       "      <td>2.5</td>\n",
       "      <td>0.0</td>\n",
       "    </tr>\n",
       "  </tbody>\n",
       "</table>\n",
       "</div>"
      ],
      "text/plain": [
       "   0.0  0.0.1\n",
       "0  0.5    0.0\n",
       "1  1.0    0.0\n",
       "2  1.5    0.0\n",
       "3  2.0    0.0\n",
       "4  2.5    0.0"
      ]
     },
     "execution_count": 66,
     "metadata": {},
     "output_type": "execute_result"
    }
   ],
   "source": [
    "xy_pos_file = pd.read_csv('xy_positions.csv')\n",
    "xy_pos_file.head()"
   ]
  },
  {
   "cell_type": "code",
   "execution_count": 73,
   "metadata": {},
   "outputs": [
    {
     "name": "stdout",
     "output_type": "stream",
     "text": [
      "[]\n"
     ]
    }
   ],
   "source": [
    "mouse_pos = xy_pos_file[(xy_pos_file.iloc[:, 0] == 0.0) & (xy_pos_file.iloc[:, 1] == 0.0)].index.tolist()\n",
    "print(mouse_pos)"
   ]
  },
  {
   "cell_type": "code",
   "execution_count": 78,
   "metadata": {},
   "outputs": [
    {
     "data": {
      "text/plain": [
       "[<matplotlib.lines.Line2D at 0x1b181b1c6a0>]"
      ]
     },
     "execution_count": 78,
     "metadata": {},
     "output_type": "execute_result"
    }
   ],
   "source": [
    "wavel_file = pd.read_csv('long_de_onda_1_tira.csv')\n",
    "inten_file = pd.read_csv('inten_paso_500micrones.csv')\n",
    "plt.plot(wavel_file.iloc[:, 0], inten_file.iloc[0,:].transpose(), '*')\n",
    "#inten_file.iloc[mouse_pos,:]"
   ]
  },
  {
   "cell_type": "code",
   "execution_count": 61,
   "metadata": {},
   "outputs": [
    {
     "name": "stdout",
     "output_type": "stream",
     "text": [
      "0.0 0.0\n",
      "0.5 0.0\n",
      "1.0 0.0\n",
      "1.5 0.0\n",
      "2.0 0.0\n",
      "2.5 0.0\n",
      "3.0 0.0\n",
      "3.5 0.0\n",
      "4.0 0.0\n",
      "4.5 0.0\n",
      "5.0 0.0\n",
      "5.5 0.0\n",
      "6.0 0.0\n",
      "6.5 0.0\n",
      "7.0 0.0\n",
      "7.5 0.0\n",
      "8.0 0.0\n",
      "8.5 0.0\n",
      "9.0 0.0\n",
      "9.5 0.0\n",
      "10.0 0.0\n",
      "10.5 0.0\n",
      "11.0 0.0\n",
      "11.5 0.0\n",
      "12.0 0.0\n",
      "12.5 0.0\n",
      "13.0 0.0\n",
      "13.0 0.5\n",
      "12.5 0.5\n",
      "12.0 0.5\n",
      "11.5 0.5\n",
      "11.0 0.5\n",
      "10.5 0.5\n",
      "10.0 0.5\n",
      "9.5 0.5\n",
      "9.0 0.5\n",
      "8.5 0.5\n",
      "8.0 0.5\n",
      "7.5 0.5\n",
      "7.0 0.5\n",
      "6.5 0.5\n",
      "6.0 0.5\n",
      "5.5 0.5\n",
      "5.0 0.5\n",
      "4.5 0.5\n",
      "4.0 0.5\n",
      "3.5 0.5\n",
      "3.0 0.5\n",
      "2.5 0.5\n",
      "2.0 0.5\n",
      "1.5 0.5\n",
      "1.0 0.5\n",
      "0.5 0.5\n",
      "0.0 0.5\n",
      "0.0 1.0\n",
      "0.5 1.0\n",
      "1.0 1.0\n",
      "1.5 1.0\n",
      "2.0 1.0\n",
      "2.5 1.0\n",
      "3.0 1.0\n",
      "3.5 1.0\n",
      "4.0 1.0\n",
      "4.5 1.0\n",
      "5.0 1.0\n",
      "5.5 1.0\n",
      "6.0 1.0\n",
      "6.5 1.0\n",
      "7.0 1.0\n",
      "7.5 1.0\n",
      "8.0 1.0\n",
      "8.5 1.0\n",
      "9.0 1.0\n",
      "9.5 1.0\n",
      "10.0 1.0\n",
      "10.5 1.0\n",
      "11.0 1.0\n",
      "11.5 1.0\n",
      "12.0 1.0\n",
      "12.5 1.0\n",
      "13.0 1.0\n",
      "13.0 1.5\n",
      "12.5 1.5\n",
      "12.0 1.5\n",
      "11.5 1.5\n",
      "11.0 1.5\n",
      "10.5 1.5\n",
      "10.0 1.5\n",
      "9.5 1.5\n",
      "9.0 1.5\n",
      "8.5 1.5\n",
      "8.0 1.5\n",
      "7.5 1.5\n",
      "7.0 1.5\n",
      "6.5 1.5\n",
      "6.0 1.5\n",
      "5.5 1.5\n",
      "5.0 1.5\n",
      "4.5 1.5\n",
      "4.0 1.5\n",
      "3.5 1.5\n",
      "3.0 1.5\n",
      "2.5 1.5\n",
      "2.0 1.5\n",
      "1.5 1.5\n",
      "1.0 1.5\n",
      "0.5 1.5\n",
      "0.0 1.5\n",
      "0.0 2.0\n",
      "0.5 2.0\n",
      "1.0 2.0\n",
      "1.5 2.0\n",
      "2.0 2.0\n",
      "2.5 2.0\n",
      "3.0 2.0\n",
      "3.5 2.0\n",
      "4.0 2.0\n",
      "4.5 2.0\n",
      "5.0 2.0\n",
      "5.5 2.0\n",
      "6.0 2.0\n",
      "6.5 2.0\n",
      "7.0 2.0\n",
      "7.5 2.0\n",
      "8.0 2.0\n",
      "8.5 2.0\n",
      "9.0 2.0\n",
      "9.5 2.0\n",
      "10.0 2.0\n",
      "10.5 2.0\n",
      "11.0 2.0\n",
      "11.5 2.0\n",
      "12.0 2.0\n",
      "12.5 2.0\n",
      "13.0 2.0\n",
      "13.0 2.5\n",
      "12.5 2.5\n",
      "12.0 2.5\n",
      "11.5 2.5\n",
      "11.0 2.5\n",
      "10.5 2.5\n",
      "10.0 2.5\n",
      "9.5 2.5\n",
      "9.0 2.5\n",
      "8.5 2.5\n",
      "8.0 2.5\n",
      "7.5 2.5\n",
      "7.0 2.5\n",
      "6.5 2.5\n",
      "6.0 2.5\n",
      "5.5 2.5\n",
      "5.0 2.5\n",
      "4.5 2.5\n",
      "4.0 2.5\n",
      "3.5 2.5\n",
      "3.0 2.5\n",
      "2.5 2.5\n",
      "2.0 2.5\n",
      "1.5 2.5\n",
      "1.0 2.5\n",
      "0.5 2.5\n",
      "0.0 2.5\n",
      "0.0 3.0\n",
      "0.5 3.0\n",
      "1.0 3.0\n",
      "1.5 3.0\n",
      "2.0 3.0\n",
      "2.5 3.0\n",
      "3.0 3.0\n",
      "3.5 3.0\n",
      "4.0 3.0\n",
      "4.5 3.0\n",
      "5.0 3.0\n",
      "5.5 3.0\n",
      "6.0 3.0\n",
      "6.5 3.0\n",
      "7.0 3.0\n",
      "7.5 3.0\n",
      "8.0 3.0\n",
      "8.5 3.0\n",
      "9.0 3.0\n",
      "9.5 3.0\n",
      "10.0 3.0\n",
      "10.5 3.0\n",
      "11.0 3.0\n",
      "11.5 3.0\n",
      "12.0 3.0\n",
      "12.5 3.0\n",
      "13.0 3.0\n",
      "13.0 3.5\n",
      "12.5 3.5\n",
      "12.0 3.5\n",
      "11.5 3.5\n",
      "11.0 3.5\n",
      "10.5 3.5\n",
      "10.0 3.5\n",
      "9.5 3.5\n",
      "9.0 3.5\n",
      "8.5 3.5\n",
      "8.0 3.5\n",
      "7.5 3.5\n",
      "7.0 3.5\n",
      "6.5 3.5\n",
      "6.0 3.5\n",
      "5.5 3.5\n",
      "5.0 3.5\n",
      "4.5 3.5\n",
      "4.0 3.5\n",
      "3.5 3.5\n",
      "3.0 3.5\n",
      "2.5 3.5\n",
      "2.0 3.5\n",
      "1.5 3.5\n",
      "1.0 3.5\n",
      "0.5 3.5\n",
      "0.0 3.5\n",
      "0.0 4.0\n",
      "0.5 4.0\n",
      "1.0 4.0\n",
      "1.5 4.0\n",
      "2.0 4.0\n",
      "2.5 4.0\n",
      "3.0 4.0\n",
      "3.5 4.0\n",
      "4.0 4.0\n",
      "4.5 4.0\n",
      "5.0 4.0\n",
      "5.5 4.0\n",
      "6.0 4.0\n",
      "6.5 4.0\n",
      "7.0 4.0\n",
      "7.5 4.0\n",
      "8.0 4.0\n",
      "8.5 4.0\n",
      "9.0 4.0\n",
      "9.5 4.0\n",
      "10.0 4.0\n",
      "10.5 4.0\n",
      "11.0 4.0\n",
      "11.5 4.0\n",
      "12.0 4.0\n",
      "12.5 4.0\n",
      "13.0 4.0\n",
      "13.0 4.5\n",
      "12.5 4.5\n",
      "12.0 4.5\n",
      "11.5 4.5\n",
      "11.0 4.5\n",
      "10.5 4.5\n",
      "10.0 4.5\n",
      "9.5 4.5\n",
      "9.0 4.5\n",
      "8.5 4.5\n",
      "8.0 4.5\n",
      "7.5 4.5\n",
      "7.0 4.5\n",
      "6.5 4.5\n",
      "6.0 4.5\n",
      "5.5 4.5\n",
      "5.0 4.5\n",
      "4.5 4.5\n",
      "4.0 4.5\n",
      "3.5 4.5\n",
      "3.0 4.5\n",
      "2.5 4.5\n",
      "2.0 4.5\n",
      "1.5 4.5\n",
      "1.0 4.5\n",
      "0.5 4.5\n",
      "0.0 4.5\n",
      "0.0 5.0\n",
      "0.5 5.0\n",
      "1.0 5.0\n",
      "1.5 5.0\n",
      "2.0 5.0\n",
      "2.5 5.0\n",
      "3.0 5.0\n",
      "3.5 5.0\n",
      "4.0 5.0\n",
      "4.5 5.0\n",
      "5.0 5.0\n",
      "5.5 5.0\n",
      "6.0 5.0\n",
      "6.5 5.0\n",
      "7.0 5.0\n",
      "7.5 5.0\n",
      "8.0 5.0\n",
      "8.5 5.0\n",
      "9.0 5.0\n",
      "9.5 5.0\n",
      "10.0 5.0\n",
      "10.5 5.0\n",
      "11.0 5.0\n",
      "11.5 5.0\n",
      "12.0 5.0\n",
      "12.5 5.0\n",
      "13.0 5.0\n",
      "13.0 5.5\n",
      "12.5 5.5\n",
      "12.0 5.5\n",
      "11.5 5.5\n",
      "11.0 5.5\n",
      "10.5 5.5\n",
      "10.0 5.5\n",
      "9.5 5.5\n",
      "9.0 5.5\n",
      "8.5 5.5\n",
      "8.0 5.5\n",
      "7.5 5.5\n",
      "7.0 5.5\n",
      "6.5 5.5\n",
      "6.0 5.5\n",
      "5.5 5.5\n",
      "5.0 5.5\n",
      "4.5 5.5\n",
      "4.0 5.5\n",
      "3.5 5.5\n",
      "3.0 5.5\n",
      "2.5 5.5\n",
      "2.0 5.5\n",
      "1.5 5.5\n",
      "1.0 5.5\n",
      "0.5 5.5\n",
      "0.0 5.5\n",
      "0.0 6.0\n",
      "0.5 6.0\n",
      "1.0 6.0\n",
      "1.5 6.0\n",
      "2.0 6.0\n",
      "2.5 6.0\n",
      "3.0 6.0\n",
      "3.5 6.0\n",
      "4.0 6.0\n",
      "4.5 6.0\n",
      "5.0 6.0\n",
      "5.5 6.0\n",
      "6.0 6.0\n",
      "6.5 6.0\n",
      "7.0 6.0\n",
      "7.5 6.0\n",
      "8.0 6.0\n",
      "8.5 6.0\n",
      "9.0 6.0\n",
      "9.5 6.0\n",
      "10.0 6.0\n",
      "10.5 6.0\n",
      "11.0 6.0\n",
      "11.5 6.0\n",
      "12.0 6.0\n",
      "12.5 6.0\n",
      "13.0 6.0\n",
      "13.0 6.5\n",
      "12.5 6.5\n",
      "12.0 6.5\n",
      "11.5 6.5\n",
      "11.0 6.5\n",
      "10.5 6.5\n",
      "10.0 6.5\n",
      "9.5 6.5\n",
      "9.0 6.5\n",
      "8.5 6.5\n",
      "8.0 6.5\n",
      "7.5 6.5\n",
      "7.0 6.5\n",
      "6.5 6.5\n",
      "6.0 6.5\n",
      "5.5 6.5\n",
      "5.0 6.5\n",
      "4.5 6.5\n",
      "4.0 6.5\n",
      "3.5 6.5\n",
      "3.0 6.5\n",
      "2.5 6.5\n",
      "2.0 6.5\n",
      "1.5 6.5\n",
      "1.0 6.5\n",
      "0.5 6.5\n",
      "0.0 6.5\n",
      "0.0 7.0\n",
      "0.5 7.0\n",
      "1.0 7.0\n",
      "1.5 7.0\n",
      "2.0 7.0\n",
      "2.5 7.0\n",
      "3.0 7.0\n",
      "3.5 7.0\n",
      "4.0 7.0\n",
      "4.5 7.0\n",
      "5.0 7.0\n",
      "5.5 7.0\n",
      "6.0 7.0\n",
      "6.5 7.0\n",
      "7.0 7.0\n",
      "7.5 7.0\n",
      "8.0 7.0\n",
      "8.5 7.0\n",
      "9.0 7.0\n",
      "9.5 7.0\n",
      "10.0 7.0\n",
      "10.5 7.0\n",
      "11.0 7.0\n",
      "11.5 7.0\n",
      "12.0 7.0\n",
      "12.5 7.0\n",
      "13.0 7.0\n",
      "13.0 7.5\n",
      "12.5 7.5\n",
      "12.0 7.5\n",
      "11.5 7.5\n",
      "11.0 7.5\n",
      "10.5 7.5\n",
      "10.0 7.5\n",
      "9.5 7.5\n",
      "9.0 7.5\n",
      "8.5 7.5\n",
      "8.0 7.5\n",
      "7.5 7.5\n",
      "7.0 7.5\n",
      "6.5 7.5\n",
      "6.0 7.5\n",
      "5.5 7.5\n",
      "5.0 7.5\n",
      "4.5 7.5\n",
      "4.0 7.5\n",
      "3.5 7.5\n",
      "3.0 7.5\n",
      "2.5 7.5\n",
      "2.0 7.5\n",
      "1.5 7.5\n",
      "1.0 7.5\n",
      "0.5 7.5\n",
      "0.0 7.5\n",
      "0.0 8.0\n",
      "0.5 8.0\n",
      "1.0 8.0\n",
      "1.5 8.0\n",
      "2.0 8.0\n",
      "2.5 8.0\n",
      "3.0 8.0\n",
      "3.5 8.0\n",
      "4.0 8.0\n",
      "4.5 8.0\n",
      "5.0 8.0\n",
      "5.5 8.0\n",
      "6.0 8.0\n",
      "6.5 8.0\n",
      "7.0 8.0\n",
      "7.5 8.0\n",
      "8.0 8.0\n",
      "8.5 8.0\n",
      "9.0 8.0\n",
      "9.5 8.0\n",
      "10.0 8.0\n",
      "10.5 8.0\n",
      "11.0 8.0\n",
      "11.5 8.0\n",
      "12.0 8.0\n",
      "12.5 8.0\n",
      "13.0 8.0\n",
      "13.0 8.5\n",
      "12.5 8.5\n",
      "12.0 8.5\n",
      "11.5 8.5\n",
      "11.0 8.5\n",
      "10.5 8.5\n",
      "10.0 8.5\n",
      "9.5 8.5\n",
      "9.0 8.5\n",
      "8.5 8.5\n",
      "8.0 8.5\n",
      "7.5 8.5\n",
      "7.0 8.5\n",
      "6.5 8.5\n",
      "6.0 8.5\n",
      "5.5 8.5\n",
      "5.0 8.5\n",
      "4.5 8.5\n",
      "4.0 8.5\n",
      "3.5 8.5\n",
      "3.0 8.5\n",
      "2.5 8.5\n",
      "2.0 8.5\n",
      "1.5 8.5\n",
      "1.0 8.5\n",
      "0.5 8.5\n",
      "0.0 8.5\n",
      "0.0 9.0\n",
      "0.5 9.0\n",
      "1.0 9.0\n",
      "1.5 9.0\n",
      "2.0 9.0\n",
      "2.5 9.0\n",
      "3.0 9.0\n",
      "3.5 9.0\n",
      "4.0 9.0\n",
      "4.5 9.0\n",
      "5.0 9.0\n",
      "5.5 9.0\n",
      "6.0 9.0\n",
      "6.5 9.0\n",
      "7.0 9.0\n",
      "7.5 9.0\n",
      "8.0 9.0\n",
      "8.5 9.0\n",
      "9.0 9.0\n",
      "9.5 9.0\n",
      "10.0 9.0\n",
      "10.5 9.0\n",
      "11.0 9.0\n",
      "11.5 9.0\n",
      "12.0 9.0\n",
      "12.5 9.0\n",
      "13.0 9.0\n",
      "13.0 9.5\n",
      "12.5 9.5\n",
      "12.0 9.5\n",
      "11.5 9.5\n",
      "11.0 9.5\n",
      "10.5 9.5\n",
      "10.0 9.5\n",
      "9.5 9.5\n",
      "9.0 9.5\n",
      "8.5 9.5\n",
      "8.0 9.5\n",
      "7.5 9.5\n",
      "7.0 9.5\n",
      "6.5 9.5\n",
      "6.0 9.5\n",
      "5.5 9.5\n",
      "5.0 9.5\n",
      "4.5 9.5\n",
      "4.0 9.5\n",
      "3.5 9.5\n",
      "3.0 9.5\n",
      "2.5 9.5\n",
      "2.0 9.5\n",
      "1.5 9.5\n",
      "1.0 9.5\n",
      "0.5 9.5\n",
      "0.0 9.5\n",
      "0.0 10.0\n",
      "0.5 10.0\n",
      "1.0 10.0\n",
      "1.5 10.0\n",
      "2.0 10.0\n",
      "2.5 10.0\n",
      "3.0 10.0\n",
      "3.5 10.0\n",
      "4.0 10.0\n",
      "4.5 10.0\n",
      "5.0 10.0\n",
      "5.5 10.0\n",
      "6.0 10.0\n",
      "6.5 10.0\n",
      "7.0 10.0\n",
      "7.5 10.0\n",
      "8.0 10.0\n",
      "8.5 10.0\n",
      "9.0 10.0\n",
      "9.5 10.0\n",
      "10.0 10.0\n",
      "10.5 10.0\n",
      "11.0 10.0\n",
      "11.5 10.0\n",
      "12.0 10.0\n",
      "12.5 10.0\n",
      "13.0 10.0\n",
      "13.0 10.5\n",
      "12.5 10.5\n",
      "12.0 10.5\n",
      "11.5 10.5\n",
      "11.0 10.5\n",
      "10.5 10.5\n",
      "10.0 10.5\n",
      "9.5 10.5\n",
      "9.0 10.5\n",
      "8.5 10.5\n",
      "8.0 10.5\n",
      "7.5 10.5\n",
      "7.0 10.5\n",
      "6.5 10.5\n",
      "6.0 10.5\n",
      "5.5 10.5\n",
      "5.0 10.5\n",
      "4.5 10.5\n",
      "4.0 10.5\n",
      "3.5 10.5\n",
      "3.0 10.5\n",
      "2.5 10.5\n",
      "2.0 10.5\n",
      "1.5 10.5\n",
      "1.0 10.5\n",
      "0.5 10.5\n",
      "0.0 10.5\n",
      "0.0 11.0\n",
      "0.5 11.0\n",
      "1.0 11.0\n",
      "1.5 11.0\n",
      "2.0 11.0\n",
      "2.5 11.0\n",
      "3.0 11.0\n",
      "3.5 11.0\n",
      "4.0 11.0\n",
      "4.5 11.0\n",
      "5.0 11.0\n",
      "5.5 11.0\n",
      "6.0 11.0\n",
      "6.5 11.0\n",
      "7.0 11.0\n",
      "7.5 11.0\n",
      "8.0 11.0\n",
      "8.5 11.0\n",
      "9.0 11.0\n",
      "9.5 11.0\n",
      "10.0 11.0\n",
      "10.5 11.0\n",
      "11.0 11.0\n",
      "11.5 11.0\n",
      "12.0 11.0\n",
      "12.5 11.0\n",
      "13.0 11.0\n",
      "13.0 11.5\n",
      "12.5 11.5\n",
      "12.0 11.5\n",
      "11.5 11.5\n",
      "11.0 11.5\n",
      "10.5 11.5\n",
      "10.0 11.5\n",
      "9.5 11.5\n",
      "9.0 11.5\n",
      "8.5 11.5\n",
      "8.0 11.5\n",
      "7.5 11.5\n",
      "7.0 11.5\n",
      "6.5 11.5\n",
      "6.0 11.5\n",
      "5.5 11.5\n",
      "5.0 11.5\n",
      "4.5 11.5\n",
      "4.0 11.5\n",
      "3.5 11.5\n",
      "3.0 11.5\n",
      "2.5 11.5\n",
      "2.0 11.5\n",
      "1.5 11.5\n",
      "1.0 11.5\n",
      "0.5 11.5\n",
      "0.0 11.5\n",
      "0.0 12.0\n",
      "0.5 12.0\n",
      "1.0 12.0\n",
      "1.5 12.0\n",
      "2.0 12.0\n",
      "2.5 12.0\n",
      "3.0 12.0\n",
      "3.5 12.0\n",
      "4.0 12.0\n",
      "4.5 12.0\n",
      "5.0 12.0\n",
      "5.5 12.0\n",
      "6.0 12.0\n",
      "6.5 12.0\n",
      "7.0 12.0\n",
      "7.5 12.0\n",
      "8.0 12.0\n",
      "8.5 12.0\n",
      "9.0 12.0\n",
      "9.5 12.0\n",
      "10.0 12.0\n",
      "10.5 12.0\n",
      "11.0 12.0\n",
      "11.5 12.0\n",
      "12.0 12.0\n",
      "12.5 12.0\n",
      "13.0 12.0\n",
      "13.0 12.5\n",
      "12.5 12.5\n",
      "12.0 12.5\n",
      "11.5 12.5\n",
      "11.0 12.5\n",
      "10.5 12.5\n",
      "10.0 12.5\n",
      "9.5 12.5\n",
      "9.0 12.5\n",
      "8.5 12.5\n",
      "8.0 12.5\n",
      "7.5 12.5\n",
      "7.0 12.5\n",
      "6.5 12.5\n",
      "6.0 12.5\n",
      "5.5 12.5\n",
      "5.0 12.5\n",
      "4.5 12.5\n",
      "4.0 12.5\n",
      "3.5 12.5\n",
      "3.0 12.5\n",
      "2.5 12.5\n",
      "2.0 12.5\n",
      "1.5 12.5\n",
      "1.0 12.5\n",
      "0.5 12.5\n",
      "0.0 12.5\n",
      "0.0 13.0\n",
      "0.5 13.0\n",
      "1.0 13.0\n",
      "1.5 13.0\n",
      "2.0 13.0\n",
      "2.5 13.0\n",
      "3.0 13.0\n",
      "3.5 13.0\n",
      "4.0 13.0\n",
      "4.5 13.0\n",
      "5.0 13.0\n",
      "5.5 13.0\n",
      "6.0 13.0\n",
      "6.5 13.0\n",
      "7.0 13.0\n",
      "7.5 13.0\n",
      "8.0 13.0\n",
      "8.5 13.0\n",
      "9.0 13.0\n",
      "9.5 13.0\n",
      "10.0 13.0\n",
      "10.5 13.0\n",
      "11.0 13.0\n",
      "11.5 13.0\n",
      "12.0 13.0\n",
      "12.5 13.0\n"
     ]
    }
   ],
   "source": [
    "for element in range(len(x_positions)):\n",
    "    print(x_positions[element],y_positions[element])"
   ]
  },
  {
   "cell_type": "code",
   "execution_count": null,
   "metadata": {},
   "outputs": [],
   "source": []
  },
  {
   "cell_type": "code",
   "execution_count": null,
   "metadata": {},
   "outputs": [],
   "source": []
  }
 ],
 "metadata": {
  "kernelspec": {
   "display_name": "Python 3",
   "language": "python",
   "name": "python3"
  },
  "language_info": {
   "codemirror_mode": {
    "name": "ipython",
    "version": 3
   },
   "file_extension": ".py",
   "mimetype": "text/x-python",
   "name": "python",
   "nbconvert_exporter": "python",
   "pygments_lexer": "ipython3",
   "version": "3.7.3"
  }
 },
 "nbformat": 4,
 "nbformat_minor": 2
}
