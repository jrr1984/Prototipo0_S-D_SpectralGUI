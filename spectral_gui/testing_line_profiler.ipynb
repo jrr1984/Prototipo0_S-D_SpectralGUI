{
 "cells": [
  {
   "cell_type": "code",
   "execution_count": 16,
   "metadata": {},
   "outputs": [],
   "source": [
    "import mpldatacursor\n",
    "import numpy as np\n",
    "import pandas as pd\n",
    "import matplotlib.pyplot as plt\n",
    "from ipywidgets import interactive\n",
    "from ciexyz import xyz_from_spectrum\n",
    "from colormodels import irgb_from_xyz\n",
    "import csv"
   ]
  },
  {
   "cell_type": "code",
   "execution_count": 23,
   "metadata": {},
   "outputs": [],
   "source": [
    "def pre_RGB_calc():\n",
    "    wavel_file = pd.read_csv('long_de_onda_1_tira.csv')\n",
    "    inten_file = pd.read_csv('inten_paso_500micrones.csv')\n",
    "    wavel_array = wavel_file.iloc[:,0:].values\n",
    "    inten_array = inten_file.iloc[:,0:].values\n",
    "\n",
    "    list_of_colors = []\n",
    "\n",
    "    for row in range(len(inten_array)):\n",
    "        spectra = np.column_stack((wavel_array,inten_array[row,:]))\n",
    "        xyz_color_vec = xyz_from_spectrum(spectra)\n",
    "        # print(np.shape(spectrum))\n",
    "        rgb_disp = irgb_from_xyz(xyz_color_vec)\n",
    "        list_of_colors.append(rgb_disp)\n",
    "        \n",
    "    #rgb_matrix = np.asarray(list_of_colors)\n",
    "    \n",
    "    with open('RGB_colors.csv', 'w') as csvFile:\n",
    "        writer = csv.writer(csvFile)\n",
    "        writer.writerows(rgb_matrix)\n",
    "        \n",
    "    csvFile.close()\n",
    "    "
   ]
  },
  {
   "cell_type": "code",
   "execution_count": 24,
   "metadata": {},
   "outputs": [
    {
     "name": "stdout",
     "output_type": "stream",
     "text": [
      "Timer unit: 5.14057e-07 s\n",
      "\n",
      "Total time: 20.4544 s\n",
      "File: <ipython-input-23-e3e9678bb3de>\n",
      "Function: pre_RGB_calc at line 1\n",
      "\n",
      "Line #      Hits         Time  Per Hit   % Time  Line Contents\n",
      "==============================================================\n",
      "     1                                           def pre_RGB_calc():\n",
      "     2         1      29918.0  29918.0      0.1      wavel_file = pd.read_csv('long_de_onda_1_tira.csv')\n",
      "     3         1    1941000.0 1941000.0      4.9      inten_file = pd.read_csv('inten_paso_500micrones.csv')\n",
      "     4         1        599.0    599.0      0.0      wavel_array = wavel_file.iloc[:,0:].values\n",
      "     5         1        469.0    469.0      0.0      inten_array = inten_file.iloc[:,0:].values\n",
      "     6                                           \n",
      "     7         1          2.0      2.0      0.0      list_of_colors = []\n",
      "     8                                           \n",
      "     9       729        654.0      0.9      0.0      for row in range(len(inten_array)):\n",
      "    10       728      68311.0     93.8      0.2          spectra = np.column_stack((wavel_array,inten_array[row,:]))\n",
      "    11       728   37656791.0  51726.4     94.6          xyz_color_vec = xyz_from_spectrum(spectra)\n",
      "    12                                                   # print(np.shape(spectrum))\n",
      "    13       728      78963.0    108.5      0.2          rgb_disp = irgb_from_xyz(xyz_color_vec)\n",
      "    14       728       1491.0      2.0      0.0          list_of_colors.append(rgb_disp)\n",
      "    15                                                   \n",
      "    16                                               #rgb_matrix = np.asarray(list_of_colors)\n",
      "    17                                               \n",
      "    18         1        767.0    767.0      0.0      with open('RGB_colors.csv', 'w') as csvFile:\n",
      "    19         1         11.0     11.0      0.0          writer = csv.writer(csvFile)\n",
      "    20         1      11262.0  11262.0      0.0          writer.writerows(rgb_matrix)\n",
      "    21                                                   \n",
      "    22         1          6.0      6.0      0.0      csvFile.close()\n",
      "\n"
     ]
    }
   ],
   "source": [
    "from line_profiler import LineProfiler\n",
    "lp = LineProfiler()\n",
    "lp_wrapper = lp(pre_RGB_calc)\n",
    "lp_wrapper()\n",
    "lp.print_stats()"
   ]
  },
  {
   "cell_type": "code",
   "execution_count": 30,
   "metadata": {},
   "outputs": [],
   "source": [
    "def func():\n",
    "    \n",
    "    wavel_file = pd.read_csv('long_de_onda_1_tira.csv')\n",
    "    inten_file = pd.read_csv('inten_paso_500micrones.csv')\n",
    "    RGB_file = pd.read_csv('RGB_colors.csv')\n",
    "    #wavel_array = wavel_file.iloc[:,0:].values\n",
    "    #inten_array = inten_file.iloc[:,0:].values\n",
    "    R_array = RGB_file.iloc[:,0].values\n",
    "    G_array = RGB_file.iloc[:,1].values\n",
    "    B_array = RGB_file.iloc[:,2].values\n",
    "\n",
    "    fig = plt.figure()\n",
    "    #rgb_matrix = np.asarray(list_of_colors)\n",
    "    Z1 = np.vstack([R_array, G_array, B_array])\n",
    "    im = plt.imshow(np.dstack(Z1), interpolation='none', aspect='auto',extent=[0.0, 13.0, 0, 13.0])\n",
    "    # plt.colorbar(im, orientation='horizontal')\n",
    "    #mpldatacursor.datacursor(hover=True, bbox=dict(alpha=1, fc='w'))\n",
    "    plt.show()"
   ]
  },
  {
   "cell_type": "code",
   "execution_count": 31,
   "metadata": {},
   "outputs": [
    {
     "name": "stdout",
     "output_type": "stream",
     "text": [
      "Timer unit: 5.14057e-07 s\n",
      "\n",
      "Total time: 1.06867 s\n",
      "File: <ipython-input-30-3a22a38f435c>\n",
      "Function: func at line 1\n",
      "\n",
      "Line #      Hits         Time  Per Hit   % Time  Line Contents\n",
      "==============================================================\n",
      "     1                                           def func():\n",
      "     2                                               \n",
      "     3         1      34000.0  34000.0      1.6      wavel_file = pd.read_csv('long_de_onda_1_tira.csv')\n",
      "     4         1    1932445.0 1932445.0     93.0      inten_file = pd.read_csv('inten_paso_500micrones.csv')\n",
      "     5         1       4815.0   4815.0      0.2      RGB_file = pd.read_csv('RGB_colors.csv')\n",
      "     6                                               #wavel_array = wavel_file.iloc[:,0:].values\n",
      "     7                                               #inten_array = inten_file.iloc[:,0:].values\n",
      "     8         1        326.0    326.0      0.0      R_array = RGB_file.iloc[:,0].values\n",
      "     9         1        217.0    217.0      0.0      G_array = RGB_file.iloc[:,1].values\n",
      "    10         1        209.0    209.0      0.0      B_array = RGB_file.iloc[:,2].values\n",
      "    11                                           \n",
      "    12         1      46250.0  46250.0      2.2      fig = plt.figure()\n",
      "    13                                               #rgb_matrix = np.asarray(list_of_colors)\n",
      "    14         1        104.0    104.0      0.0      Z1 = np.vstack([R_array, G_array, B_array])\n",
      "    15         1      60277.0  60277.0      2.9      im = plt.imshow(np.dstack(Z1), interpolation='none', aspect='auto',extent=[0.0, 13.0, 0, 13.0])\n",
      "    16                                               # plt.colorbar(im, orientation='horizontal')\n",
      "    17                                               #mpldatacursor.datacursor(hover=True, bbox=dict(alpha=1, fc='w'))\n",
      "    18         1        246.0    246.0      0.0      plt.show()\n",
      "\n"
     ]
    }
   ],
   "source": [
    "from line_profiler import LineProfiler\n",
    "lp = LineProfiler()\n",
    "lp_wrapper = lp(func)\n",
    "lp_wrapper()\n",
    "lp.print_stats()"
   ]
  },
  {
   "cell_type": "code",
   "execution_count": null,
   "metadata": {},
   "outputs": [],
   "source": []
  }
 ],
 "metadata": {
  "kernelspec": {
   "display_name": "Python 3",
   "language": "python",
   "name": "python3"
  },
  "language_info": {
   "codemirror_mode": {
    "name": "ipython",
    "version": 3
   },
   "file_extension": ".py",
   "mimetype": "text/x-python",
   "name": "python",
   "nbconvert_exporter": "python",
   "pygments_lexer": "ipython3",
   "version": "3.7.3"
  }
 },
 "nbformat": 4,
 "nbformat_minor": 2
}
