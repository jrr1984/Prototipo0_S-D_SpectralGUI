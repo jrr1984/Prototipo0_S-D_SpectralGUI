{
 "cells": [
  {
   "cell_type": "code",
   "execution_count": 12,
   "metadata": {},
   "outputs": [
    {
     "name": "stdout",
     "output_type": "stream",
     "text": [
      "Using matplotlib backend: Qt5Agg\n"
     ]
    }
   ],
   "source": [
    "import numpy as np\n",
    "import matplotlib.pyplot as plt\n",
    "import pandas as pd\n",
    "from scipy.signal import chirp, find_peaks, peak_widths\n",
    "import matplotlib.pyplot as plt\n",
    "from plots import wavelength_to_rgb\n",
    "import matplotlib\n",
    "%matplotlib"
   ]
  },
  {
   "cell_type": "code",
   "execution_count": 2,
   "metadata": {},
   "outputs": [],
   "source": [
    "def FWHM(X,Y):\n",
    "    m = max(Y) / 2\n",
    "    d = Y - m\n",
    "    indexes = np.where(d > 0)[0]\n",
    "    return abs(X[indexes[-1]] - X[indexes[0]])\n",
    "\n",
    "def FWHM_hlines(X,Y):\n",
    "    y = max(Y) / 2\n",
    "    d = Y - y\n",
    "    indexes = np.where(d > 0)[0]\n",
    "    return y, X[indexes[0]], X[indexes[-1]]\n",
    "\n",
    "def CWLs(X,Y):\n",
    "    y = max(Y) / 2\n",
    "    d = Y - y\n",
    "    indexes = np.where(d > 0)[0]\n",
    "    return np.mean(X[indexes])"
   ]
  },
  {
   "cell_type": "code",
   "execution_count": 3,
   "metadata": {},
   "outputs": [],
   "source": [
    "wavel_df = pd.read_pickle('wavel_df.pkl')\n",
    "inten_df = pd.read_pickle('inten_fin.pkl')"
   ]
  },
  {
   "cell_type": "code",
   "execution_count": 4,
   "metadata": {},
   "outputs": [],
   "source": [
    "wavel_array = wavel_df.iloc[:, 0].values"
   ]
  },
  {
   "cell_type": "code",
   "execution_count": 5,
   "metadata": {},
   "outputs": [],
   "source": [
    "banda_cyan_df = inten_df.iloc[104544:127920,:]\n",
    "banda_lgreen_df = inten_df.iloc[78967:104544,:]\n",
    "banda_orange_df = inten_df.iloc[52866:78967,:]\n",
    "banda_red_df = inten_df.iloc[19459:52866,:]\n",
    "banda_NIR_df = inten_df.iloc[0:19459,:]\n",
    "bandas = [banda_NIR_df, banda_red_df, banda_orange_df,banda_lgreen_df,banda_cyan_df]"
   ]
  },
  {
   "cell_type": "code",
   "execution_count": 6,
   "metadata": {},
   "outputs": [],
   "source": [
    "means = [banda.mean(axis=0) for banda in bandas]"
   ]
  },
  {
   "cell_type": "code",
   "execution_count": 7,
   "metadata": {},
   "outputs": [
    {
     "data": {
      "text/plain": [
       "[805.321343538418,\n",
       " 637.8748886441881,\n",
       " 632.5176229595554,\n",
       " 547.4565795671202,\n",
       " 490.324168570146]"
      ]
     },
     "execution_count": 7,
     "metadata": {},
     "output_type": "execute_result"
    }
   ],
   "source": [
    "CWLs = [CWLs(wavel_array,mean) for mean in means]\n",
    "CWLs"
   ]
  },
  {
   "cell_type": "code",
   "execution_count": 8,
   "metadata": {},
   "outputs": [],
   "source": [
    "FWHMs = [FWHM(wavel_array,mean) for mean in means]"
   ]
  },
  {
   "cell_type": "code",
   "execution_count": 9,
   "metadata": {},
   "outputs": [],
   "source": [
    "data_hlines = [FWHM_hlines(wavel_array,mean) for mean in means]\n",
    "\n",
    "ys = []\n",
    "inits = []\n",
    "ends = []\n",
    "\n",
    "for i in range(len(data_hlines)):\n",
    "    ys.append(data_hlines[i][0])\n",
    "    inits.append(data_hlines[i][1])\n",
    "    ends.append(data_hlines[i][2])"
   ]
  },
  {
   "cell_type": "code",
   "execution_count": 10,
   "metadata": {},
   "outputs": [
    {
     "data": {
      "image/png": "[encoded data removed]",
      "text/plain": [
       "<Figure size 432x288 with 1 Axes>"
      ]
     },
     "metadata": {
      "needs_background": "light"
     },
     "output_type": "display_data"
    }
   ],
   "source": [
    "plt.grid()\n",
    "clim = (350, 780)\n",
    "norm = plt.Normalize(*clim)\n",
    "wl = np.arange(clim[0], clim[1] + 1, 2)\n",
    "colorlist = list(zip(norm(wl), [wavelength_to_rgb(w) for w in wl]))\n",
    "spectralmap = matplotlib.colors.LinearSegmentedColormap.from_list(\"spectrum\", colorlist)\n",
    "wavelengths = wavel_array\n",
    "spectrum = np.transpose(means[0])\n",
    "plt.plot(wavel_array, spectrum, color='darkred')\n",
    "y = np.linspace(0, np.max(spectrum), 100)\n",
    "X, Y = np.meshgrid(wavelengths, y)\n",
    "\n",
    "extent = (np.min(wavelengths), np.max(wavelengths), np.min(y), np.max(y))\n",
    "\n",
    "plt.imshow(X, clim=clim, extent=extent, cmap=spectralmap, aspect='auto')\n",
    "plt.xlabel('Longitud de onda [nm]',fontsize=30)\n",
    "plt.ylabel('Intensidad [a.u.]',fontsize=30)\n",
    "\n",
    "plt.fill_between(wavelengths, spectrum ,np.max(spectrum), color='w')\n",
    "plt.show()"
   ]
  },
  {
   "cell_type": "code",
   "execution_count": 22,
   "metadata": {},
   "outputs": [],
   "source": [
    "plt.grid()\n",
    "plt.plot(wavel_array, means[4])\n",
    "plt.xlabel('Longitud de onda [nm]',fontsize=30)\n",
    "plt.ylabel('Intensidad [u.a.]',fontsize=30)\n",
    "plt.show()"
   ]
  },
  {
   "cell_type": "code",
   "execution_count": 13,
   "metadata": {},
   "outputs": [],
   "source": [
    "fig, (ax1, ax2,ax3,ax4,ax5) = plt.subplots(5)\n",
    "props = dict(boxstyle='round', facecolor='wheat', alpha=0.5)\n",
    "fig.suptitle('Bands Mean Spectrum: I[u.a.] vs Wavelength[nm]')\n",
    "ax1.plot(wavel_array, means[4])\n",
    "ax2.plot(wavel_array, means[3])\n",
    "ax3.plot(wavel_array, means[2])\n",
    "ax4.plot(wavel_array, means[1])\n",
    "ax5.plot(wavel_array, means[0])\n",
    "\n",
    "#ax1.grid()\n",
    "ax1.get_yaxis().set_visible(False)\n",
    "#ax2.grid()\n",
    "ax2.get_yaxis().set_visible(False)\n",
    "#ax3.grid()\n",
    "ax3.get_yaxis().set_visible(False)\n",
    "#ax4.grid()\n",
    "ax4.get_yaxis().set_visible(False)\n",
    "#ax5.grid()\n",
    "ax5.get_yaxis().set_visible(False)\n",
    "\n",
    "ax1.hlines(ys[4],inits[4],ends[4],color=\"C2\",lw=2,linestyle='dashed')\n",
    "#ax1.vlines(CWLs[4],0,ys[4]*2,color=\"C4\",lw=2,linestyle='dashed')\n",
    "textstr = '\\n'.join((\n",
    "    r'Cyan band',\n",
    "    r'$CWL = %.0f$nm' % (CWLs[4], ),\n",
    "    r'$FWHM = %.0f$nm' % (FWHMs[4], )))\n",
    "    \n",
    "ax1.set_xlim([400,1000])\n",
    "ax1.text(0.05, 0.8, textstr, transform=ax1.transAxes, fontsize=8,\n",
    "        verticalalignment='top', bbox=props)\n",
    "\n",
    "\n",
    "ax2.hlines(ys[3],inits[3],ends[3],color=\"C2\",lw=2,linestyle='dashed')\n",
    "textstr = '\\n'.join((\n",
    "    r'Green band',\n",
    "    r'$CWL = %.0f$nm' % (CWLs[3], ),\n",
    "    r'$FWHM = %.0f$nm' % (FWHMs[3], )))\n",
    "ax2.text(0.05, 0.8, textstr, transform=ax2.transAxes, fontsize=8,\n",
    "        verticalalignment='top', bbox=props)\n",
    "ax2.set_xlim([400, 800])\n",
    "\n",
    "\n",
    "ax3.hlines(ys[2],inits[2],ends[2],color=\"C2\",lw=2,linestyle='dashed')\n",
    "ax3.set_xlim([400, 800])\n",
    "textstr = '\\n'.join((\n",
    "    r'Panchromatic band',\n",
    "    r'$CWL = %.0f$nm' % (CWLs[2], ),\n",
    "    r'$FWHM = %.0f$nm' % (FWHMs[2], )))\n",
    "ax3.text(0.05, 0.8, textstr, transform=ax3.transAxes, fontsize=8,\n",
    "        verticalalignment='top', bbox=props)\n",
    "\n",
    "ax4.hlines(ys[1],inits[1],ends[1],color=\"C2\",lw=2,linestyle='dashed')\n",
    "ax4.set_xlim([400, 800]) \n",
    "textstr = '\\n'.join((\n",
    "    r'Red band',\n",
    "    r'$CWL = %.0f$nm' % (CWLs[1], ),\n",
    "    r'$FWHM = %.0f$nm' % (FWHMs[1], )))\n",
    "ax4.text(0.05, 0.8, textstr, transform=ax4.transAxes, fontsize=8,\n",
    "        verticalalignment='top', bbox=props)\n",
    "\n",
    "\n",
    "ax5.hlines(ys[0],inits[0],ends[0],color=\"C2\",lw=2,linestyle='dashed')\n",
    "ax5.set_xlim([400, 1000]) \n",
    "textstr = '\\n'.join((\n",
    "    r'IR band',\n",
    "    r'$CWL = %.0f$nm' % (CWLs[0], ),\n",
    "    r'$FWHM = %.0f$nm' % (FWHMs[0], )))\n",
    "ax5.text(0.05, 0.8, textstr, transform=ax5.transAxes, fontsize=8,\n",
    "        verticalalignment='top', bbox=props)\n",
    "\n",
    "\n",
    "\n",
    "plt.show()"
   ]
  },
  {
   "cell_type": "code",
   "execution_count": null,
   "metadata": {},
   "outputs": [],
   "source": [
    "\n",
    "plt.plot(wavel_array,cyan_array,'*')\n",
    "plt.hlines(m,init,end,color=\"C2\",lw=4)\n",
    "label=\"FWHM: {:.0f}nm\".format(end-init)\n",
    "plt.text(end/2, m, label, ha='left', va='center')\n",
    "plt.show()"
   ]
  },
  {
   "cell_type": "code",
   "execution_count": null,
   "metadata": {},
   "outputs": [],
   "source": []
  },
  {
   "cell_type": "code",
   "execution_count": null,
   "metadata": {},
   "outputs": [],
   "source": []
  },
  {
   "cell_type": "code",
   "execution_count": null,
   "metadata": {},
   "outputs": [],
   "source": []
  },
  {
   "cell_type": "code",
   "execution_count": null,
   "metadata": {},
   "outputs": [],
   "source": []
  },
  {
   "cell_type": "code",
   "execution_count": null,
   "metadata": {},
   "outputs": [],
   "source": [
    "d = cyan_array - (max(cyan_array) / 2)"
   ]
  },
  {
   "cell_type": "code",
   "execution_count": null,
   "metadata": {},
   "outputs": [],
   "source": [
    "indexes = np.where(d > 0)[0]\n",
    "indexes"
   ]
  },
  {
   "cell_type": "code",
   "execution_count": null,
   "metadata": {},
   "outputs": [],
   "source": []
  },
  {
   "cell_type": "code",
   "execution_count": null,
   "metadata": {},
   "outputs": [],
   "source": []
  },
  {
   "cell_type": "code",
   "execution_count": null,
   "metadata": {},
   "outputs": [],
   "source": []
  },
  {
   "cell_type": "code",
   "execution_count": null,
   "metadata": {},
   "outputs": [],
   "source": []
  },
  {
   "cell_type": "code",
   "execution_count": null,
   "metadata": {},
   "outputs": [],
   "source": []
  }
 ],
 "metadata": {
  "kernelspec": {
   "display_name": "Python 3",
   "language": "python",
   "name": "python3"
  },
  "language_info": {
   "codemirror_mode": {
    "name": "ipython",
    "version": 3
   },
   "file_extension": ".py",
   "mimetype": "text/x-python",
   "name": "python",
   "nbconvert_exporter": "python",
   "pygments_lexer": "ipython3",
   "version": "3.7.3"
  }
 },
 "nbformat": 4,
 "nbformat_minor": 2
}
