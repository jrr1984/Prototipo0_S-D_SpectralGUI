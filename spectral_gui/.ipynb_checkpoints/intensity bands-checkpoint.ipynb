{
 "cells": [
  {
   "cell_type": "code",
   "execution_count": 18,
   "metadata": {},
   "outputs": [],
   "source": [
    "import numpy as np\n",
    "import matplotlib.pyplot as plt\n",
    "import pandas as pd\n",
    "%matplotlib inline"
   ]
  },
  {
   "cell_type": "code",
   "execution_count": 19,
   "metadata": {},
   "outputs": [],
   "source": [
    "wavel_df = pd.read_pickle('wavel_df.pkl')\n",
    "inten_df = pd.read_pickle('inten_fin.pkl')"
   ]
  },
  {
   "cell_type": "code",
   "execution_count": 20,
   "metadata": {},
   "outputs": [],
   "source": [
    "wavel_array = wavel_df.iloc[:, 0].values"
   ]
  },
  {
   "cell_type": "code",
   "execution_count": 21,
   "metadata": {},
   "outputs": [
    {
     "data": {
      "text/html": [
       "<div>\n",
       "<style scoped>\n",
       "    .dataframe tbody tr th:only-of-type {\n",
       "        vertical-align: middle;\n",
       "    }\n",
       "\n",
       "    .dataframe tbody tr th {\n",
       "        vertical-align: top;\n",
       "    }\n",
       "\n",
       "    .dataframe thead th {\n",
       "        text-align: right;\n",
       "    }\n",
       "</style>\n",
       "<table border=\"1\" class=\"dataframe\">\n",
       "  <thead>\n",
       "    <tr style=\"text-align: right;\">\n",
       "      <th></th>\n",
       "      <th>0</th>\n",
       "      <th>1</th>\n",
       "      <th>2</th>\n",
       "      <th>3</th>\n",
       "      <th>4</th>\n",
       "      <th>5</th>\n",
       "      <th>6</th>\n",
       "      <th>7</th>\n",
       "      <th>8</th>\n",
       "      <th>9</th>\n",
       "      <th>...</th>\n",
       "      <th>3638</th>\n",
       "      <th>3639</th>\n",
       "      <th>3640</th>\n",
       "      <th>3641</th>\n",
       "      <th>3642</th>\n",
       "      <th>3643</th>\n",
       "      <th>3644</th>\n",
       "      <th>3645</th>\n",
       "      <th>3646</th>\n",
       "      <th>3647</th>\n",
       "    </tr>\n",
       "  </thead>\n",
       "  <tbody>\n",
       "    <tr>\n",
       "      <td>0</td>\n",
       "      <td>0.000729</td>\n",
       "      <td>-0.000374</td>\n",
       "      <td>-0.000047</td>\n",
       "      <td>-0.000794</td>\n",
       "      <td>0.000276</td>\n",
       "      <td>-0.000635</td>\n",
       "      <td>0.000316</td>\n",
       "      <td>0.000076</td>\n",
       "      <td>-0.000455</td>\n",
       "      <td>-0.000696</td>\n",
       "      <td>...</td>\n",
       "      <td>-0.000321</td>\n",
       "      <td>0.000133</td>\n",
       "      <td>-0.000047</td>\n",
       "      <td>0.000149</td>\n",
       "      <td>-0.001019</td>\n",
       "      <td>0.000157</td>\n",
       "      <td>-0.001043</td>\n",
       "      <td>-0.000725</td>\n",
       "      <td>-0.000623</td>\n",
       "      <td>0.000231</td>\n",
       "    </tr>\n",
       "    <tr>\n",
       "      <td>1</td>\n",
       "      <td>0.000144</td>\n",
       "      <td>0.000181</td>\n",
       "      <td>-0.000166</td>\n",
       "      <td>-0.000456</td>\n",
       "      <td>0.000724</td>\n",
       "      <td>-0.000280</td>\n",
       "      <td>0.000156</td>\n",
       "      <td>-0.000517</td>\n",
       "      <td>0.000851</td>\n",
       "      <td>-0.000382</td>\n",
       "      <td>...</td>\n",
       "      <td>-0.000350</td>\n",
       "      <td>0.000357</td>\n",
       "      <td>-0.000174</td>\n",
       "      <td>-0.000003</td>\n",
       "      <td>-0.000534</td>\n",
       "      <td>0.000161</td>\n",
       "      <td>-0.000848</td>\n",
       "      <td>0.000083</td>\n",
       "      <td>-0.000570</td>\n",
       "      <td>-0.000334</td>\n",
       "    </tr>\n",
       "    <tr>\n",
       "      <td>2</td>\n",
       "      <td>0.000615</td>\n",
       "      <td>0.000101</td>\n",
       "      <td>0.000489</td>\n",
       "      <td>-0.000001</td>\n",
       "      <td>0.000268</td>\n",
       "      <td>-0.000520</td>\n",
       "      <td>0.000640</td>\n",
       "      <td>0.000027</td>\n",
       "      <td>0.000203</td>\n",
       "      <td>-0.000067</td>\n",
       "      <td>...</td>\n",
       "      <td>-0.000136</td>\n",
       "      <td>0.000252</td>\n",
       "      <td>-0.000250</td>\n",
       "      <td>-0.000320</td>\n",
       "      <td>-0.000438</td>\n",
       "      <td>-0.000169</td>\n",
       "      <td>-0.000834</td>\n",
       "      <td>-0.000079</td>\n",
       "      <td>-0.000704</td>\n",
       "      <td>-0.000067</td>\n",
       "    </tr>\n",
       "    <tr>\n",
       "      <td>3</td>\n",
       "      <td>0.000263</td>\n",
       "      <td>-0.000357</td>\n",
       "      <td>0.000357</td>\n",
       "      <td>-0.000002</td>\n",
       "      <td>0.000786</td>\n",
       "      <td>-0.000263</td>\n",
       "      <td>0.000202</td>\n",
       "      <td>-0.000590</td>\n",
       "      <td>0.000782</td>\n",
       "      <td>-0.000370</td>\n",
       "      <td>...</td>\n",
       "      <td>-0.000231</td>\n",
       "      <td>0.000116</td>\n",
       "      <td>-0.000398</td>\n",
       "      <td>0.000071</td>\n",
       "      <td>-0.001019</td>\n",
       "      <td>-0.000811</td>\n",
       "      <td>-0.000802</td>\n",
       "      <td>-0.001354</td>\n",
       "      <td>-0.000267</td>\n",
       "      <td>-0.000121</td>\n",
       "    </tr>\n",
       "    <tr>\n",
       "      <td>4</td>\n",
       "      <td>0.000775</td>\n",
       "      <td>-0.000793</td>\n",
       "      <td>0.000346</td>\n",
       "      <td>-0.000254</td>\n",
       "      <td>-0.000205</td>\n",
       "      <td>0.000105</td>\n",
       "      <td>0.000232</td>\n",
       "      <td>-0.000356</td>\n",
       "      <td>0.000171</td>\n",
       "      <td>-0.000650</td>\n",
       "      <td>...</td>\n",
       "      <td>-0.000417</td>\n",
       "      <td>0.000097</td>\n",
       "      <td>-0.000270</td>\n",
       "      <td>-0.000274</td>\n",
       "      <td>-0.000936</td>\n",
       "      <td>-0.000168</td>\n",
       "      <td>-0.000409</td>\n",
       "      <td>-0.000319</td>\n",
       "      <td>-0.000658</td>\n",
       "      <td>-0.000372</td>\n",
       "    </tr>\n",
       "  </tbody>\n",
       "</table>\n",
       "<p>5 rows × 3648 columns</p>\n",
       "</div>"
      ],
      "text/plain": [
       "       0         1         2         3         4         5         6     \\\n",
       "0  0.000729 -0.000374 -0.000047 -0.000794  0.000276 -0.000635  0.000316   \n",
       "1  0.000144  0.000181 -0.000166 -0.000456  0.000724 -0.000280  0.000156   \n",
       "2  0.000615  0.000101  0.000489 -0.000001  0.000268 -0.000520  0.000640   \n",
       "3  0.000263 -0.000357  0.000357 -0.000002  0.000786 -0.000263  0.000202   \n",
       "4  0.000775 -0.000793  0.000346 -0.000254 -0.000205  0.000105  0.000232   \n",
       "\n",
       "       7         8         9     ...      3638      3639      3640      3641  \\\n",
       "0  0.000076 -0.000455 -0.000696  ... -0.000321  0.000133 -0.000047  0.000149   \n",
       "1 -0.000517  0.000851 -0.000382  ... -0.000350  0.000357 -0.000174 -0.000003   \n",
       "2  0.000027  0.000203 -0.000067  ... -0.000136  0.000252 -0.000250 -0.000320   \n",
       "3 -0.000590  0.000782 -0.000370  ... -0.000231  0.000116 -0.000398  0.000071   \n",
       "4 -0.000356  0.000171 -0.000650  ... -0.000417  0.000097 -0.000270 -0.000274   \n",
       "\n",
       "       3642      3643      3644      3645      3646      3647  \n",
       "0 -0.001019  0.000157 -0.001043 -0.000725 -0.000623  0.000231  \n",
       "1 -0.000534  0.000161 -0.000848  0.000083 -0.000570 -0.000334  \n",
       "2 -0.000438 -0.000169 -0.000834 -0.000079 -0.000704 -0.000067  \n",
       "3 -0.001019 -0.000811 -0.000802 -0.001354 -0.000267 -0.000121  \n",
       "4 -0.000936 -0.000168 -0.000409 -0.000319 -0.000658 -0.000372  \n",
       "\n",
       "[5 rows x 3648 columns]"
      ]
     },
     "execution_count": 21,
     "metadata": {},
     "output_type": "execute_result"
    }
   ],
   "source": [
    "inten_df.head()"
   ]
  },
  {
   "cell_type": "code",
   "execution_count": 22,
   "metadata": {},
   "outputs": [],
   "source": [
    "RGB_df = pd.read_pickle('RGB_fin.pkl')"
   ]
  },
  {
   "cell_type": "code",
   "execution_count": 23,
   "metadata": {},
   "outputs": [
    {
     "data": {
      "text/html": [
       "<div>\n",
       "<style scoped>\n",
       "    .dataframe tbody tr th:only-of-type {\n",
       "        vertical-align: middle;\n",
       "    }\n",
       "\n",
       "    .dataframe tbody tr th {\n",
       "        vertical-align: top;\n",
       "    }\n",
       "\n",
       "    .dataframe thead th {\n",
       "        text-align: right;\n",
       "    }\n",
       "</style>\n",
       "<table border=\"1\" class=\"dataframe\">\n",
       "  <thead>\n",
       "    <tr style=\"text-align: right;\">\n",
       "      <th></th>\n",
       "      <th>0</th>\n",
       "      <th>1</th>\n",
       "      <th>2</th>\n",
       "    </tr>\n",
       "  </thead>\n",
       "  <tbody>\n",
       "    <tr>\n",
       "      <td>68116</td>\n",
       "      <td>0</td>\n",
       "      <td>212</td>\n",
       "      <td>255</td>\n",
       "    </tr>\n",
       "    <tr>\n",
       "      <td>68117</td>\n",
       "      <td>0</td>\n",
       "      <td>212</td>\n",
       "      <td>255</td>\n",
       "    </tr>\n",
       "    <tr>\n",
       "      <td>68118</td>\n",
       "      <td>0</td>\n",
       "      <td>212</td>\n",
       "      <td>255</td>\n",
       "    </tr>\n",
       "    <tr>\n",
       "      <td>68119</td>\n",
       "      <td>0</td>\n",
       "      <td>212</td>\n",
       "      <td>255</td>\n",
       "    </tr>\n",
       "    <tr>\n",
       "      <td>68120</td>\n",
       "      <td>0</td>\n",
       "      <td>212</td>\n",
       "      <td>255</td>\n",
       "    </tr>\n",
       "  </tbody>\n",
       "</table>\n",
       "</div>"
      ],
      "text/plain": [
       "       0    1    2\n",
       "68116  0  212  255\n",
       "68117  0  212  255\n",
       "68118  0  212  255\n",
       "68119  0  212  255\n",
       "68120  0  212  255"
      ]
     },
     "execution_count": 23,
     "metadata": {},
     "output_type": "execute_result"
    }
   ],
   "source": [
    "RGB_df.tail()"
   ]
  },
  {
   "cell_type": "code",
   "execution_count": null,
   "metadata": {},
   "outputs": [],
   "source": [
    "para cada fila en RGB_df:\n",
    "    para cada columna en RGB_df:\n",
    "        if valor_df[fila,columna] != en 2 digitos:\n",
    "            create new band\n",
    "        else:\n",
    "            append to the actual band\n",
    "RGB_df['banda1'] = (RGB_df.iloc[:,0] != 0 and RGB_df.iloc[:,1] != 212 RGB_df.iloc[:,] != 255)  \n",
    "#To select rows whose column value does not equal some_value, use !=:\n",
    "df.loc[df['column_name'] != some_value]\n",
    "\n",
    "RGB_df['marker'] = (RGB_df['season'] != RGB_df['season'].shift()).cumsum()\n"
   ]
  },
  {
   "cell_type": "code",
   "execution_count": null,
   "metadata": {},
   "outputs": [],
   "source": []
  },
  {
   "cell_type": "code",
   "execution_count": null,
   "metadata": {},
   "outputs": [],
   "source": []
  },
  {
   "cell_type": "code",
   "execution_count": 24,
   "metadata": {},
   "outputs": [
    {
     "name": "stderr",
     "output_type": "stream",
     "text": [
      "Clipping input data to the valid range for imshow with RGB data ([0..1] for floats or [0..255] for integers).\n"
     ]
    },
    {
     "data": {
      "image/png": "[encoded data removed]",
      "text/plain": [
       "<Figure size 432x288 with 2 Axes>"
      ]
     },
     "metadata": {
      "needs_background": "light"
     },
     "output_type": "display_data"
    }
   ],
   "source": [
    "#banda_cyan_df = RGB_df.loc[(RGB_df[0] == 0) & (RGB_df[1] >= 210) & (RGB_df[2] >= 180)]\n",
    "banda_cyan_df = RGB_df.iloc[104544:127920,:]\n",
    "banda_cyan = banda_cyan_df - banda_cyan_df.mean()\n",
    "R_array = banda_cyan.iloc[:,0].values \n",
    "G_array = banda_cyan.iloc[:,1].values\n",
    "B_array = banda_cyan.iloc[:,2].values\n",
    "\n",
    "\n",
    "Z = np.vstack([R_array, G_array, B_array])\n",
    "im = plt.imshow(np.dstack(Z), interpolation='none', aspect='auto')\n",
    "plt.colorbar(im, orientation='horizontal')\n",
    "plt.show()\n",
    "#print(len(banda_cyan_df))\n",
    "#banda_cyan_df"
   ]
  },
  {
   "cell_type": "code",
   "execution_count": 25,
   "metadata": {},
   "outputs": [
    {
     "name": "stderr",
     "output_type": "stream",
     "text": [
      "Clipping input data to the valid range for imshow with RGB data ([0..1] for floats or [0..255] for integers).\n"
     ]
    },
    {
     "data": {
      "image/png": "[encoded data removed]",
      "text/plain": [
       "<Figure size 432x288 with 2 Axes>"
      ]
     },
     "metadata": {
      "needs_background": "light"
     },
     "output_type": "display_data"
    }
   ],
   "source": [
    "#banda_lgreen_df = RGB_df.loc[(RGB_df[0] <= 229) & (RGB_df[1] == 255) & (RGB_df[2] <= 180)]\n",
    "banda_lgreen_df = RGB_df.iloc[78967:104544,:]\n",
    "banda_lgreen = banda_lgreen_df - banda_lgreen_df.mean()\n",
    "R_array = banda_lgreen.iloc[:,0].values\n",
    "G_array = banda_lgreen.iloc[:,1].values\n",
    "B_array = banda_lgreen.iloc[:,2].values\n",
    "\n",
    "\n",
    "Z = np.vstack([R_array, G_array, B_array])\n",
    "im = plt.imshow(np.dstack(Z), interpolation='none', aspect='auto')\n",
    "plt.colorbar(im, orientation='horizontal')\n",
    "plt.show()"
   ]
  },
  {
   "cell_type": "code",
   "execution_count": 26,
   "metadata": {},
   "outputs": [
    {
     "name": "stderr",
     "output_type": "stream",
     "text": [
      "Clipping input data to the valid range for imshow with RGB data ([0..1] for floats or [0..255] for integers).\n"
     ]
    },
    {
     "data": {
      "image/png": "[encoded data removed]",
      "text/plain": [
       "<Figure size 432x288 with 2 Axes>"
      ]
     },
     "metadata": {
      "needs_background": "light"
     },
     "output_type": "display_data"
    }
   ],
   "source": [
    "#banda_orange_df = RGB_df.loc[(RGB_df[0] == 255) & (RGB_df[1] <= 222) & (RGB_df[2] == 0)]\n",
    "banda_orange_df = RGB_df.iloc[52866:78967,:]\n",
    "banda_orange = banda_orange_df - banda_orange_df.mean()\n",
    "R_array = banda_orange.iloc[:,0].values\n",
    "G_array = banda_orange.iloc[:,1].values\n",
    "B_array = banda_orange.iloc[:,2].values\n",
    "\n",
    "\n",
    "Z = np.vstack([R_array, G_array, B_array])\n",
    "im = plt.imshow(np.dstack(Z), interpolation='none', aspect='auto')\n",
    "plt.colorbar(im, orientation='horizontal')\n",
    "plt.show()\n",
    "#print(len(banda_orange_df))\n",
    "#banda_orange_df"
   ]
  },
  {
   "cell_type": "code",
   "execution_count": 28,
   "metadata": {},
   "outputs": [
    {
     "name": "stderr",
     "output_type": "stream",
     "text": [
      "Clipping input data to the valid range for imshow with RGB data ([0..1] for floats or [0..255] for integers).\n"
     ]
    },
    {
     "data": {
      "image/png": "[encoded data removed]",
      "text/plain": [
       "<Figure size 432x288 with 2 Axes>"
      ]
     },
     "metadata": {
      "needs_background": "light"
     },
     "output_type": "display_data"
    },
    {
     "data": {
      "text/plain": [
       "0    255.000000\n",
       "1     67.474002\n",
       "2      0.725566\n",
       "dtype: float64"
      ]
     },
     "execution_count": 28,
     "metadata": {},
     "output_type": "execute_result"
    }
   ],
   "source": [
    "#banda_red_df = RGB_df.loc[(RGB_df[0] == 255) & (RGB_df[1] <= 139) & (RGB_df[2] == 0)]\n",
    "banda_red_df = RGB_df.iloc[19459:52866,:]\n",
    "banda_red = banda_red_df - banda_red_df.mean()\n",
    "R_array = banda_red.iloc[:,0].values\n",
    "G_array = banda_red.iloc[:,1].values\n",
    "B_array = banda_red.iloc[:,2].values\n",
    "\n",
    "\n",
    "Z = np.vstack([R_array, G_array, B_array])\n",
    "im = plt.imshow(np.dstack(Z), interpolation='none', aspect='auto')\n",
    "plt.colorbar(im, orientation='horizontal')\n",
    "plt.show()\n",
    "#print(len(banda_red_df))\n",
    "banda_red_df.mean()"
   ]
  },
  {
   "cell_type": "code",
   "execution_count": 29,
   "metadata": {},
   "outputs": [
    {
     "name": "stderr",
     "output_type": "stream",
     "text": [
      "Clipping input data to the valid range for imshow with RGB data ([0..1] for floats or [0..255] for integers).\n"
     ]
    },
    {
     "data": {
      "image/png": "[encoded data removed]",
      "text/plain": [
       "<Figure size 432x288 with 2 Axes>"
      ]
     },
     "metadata": {
      "needs_background": "light"
     },
     "output_type": "display_data"
    },
    {
     "name": "stdout",
     "output_type": "stream",
     "text": [
      "19459\n"
     ]
    },
    {
     "data": {
      "text/html": [
       "<div>\n",
       "<style scoped>\n",
       "    .dataframe tbody tr th:only-of-type {\n",
       "        vertical-align: middle;\n",
       "    }\n",
       "\n",
       "    .dataframe tbody tr th {\n",
       "        vertical-align: top;\n",
       "    }\n",
       "\n",
       "    .dataframe thead th {\n",
       "        text-align: right;\n",
       "    }\n",
       "</style>\n",
       "<table border=\"1\" class=\"dataframe\">\n",
       "  <thead>\n",
       "    <tr style=\"text-align: right;\">\n",
       "      <th></th>\n",
       "      <th>0</th>\n",
       "      <th>1</th>\n",
       "      <th>2</th>\n",
       "    </tr>\n",
       "  </thead>\n",
       "  <tbody>\n",
       "    <tr>\n",
       "      <td>0</td>\n",
       "      <td>13</td>\n",
       "      <td>33</td>\n",
       "      <td>0</td>\n",
       "    </tr>\n",
       "    <tr>\n",
       "      <td>1</td>\n",
       "      <td>47</td>\n",
       "      <td>0</td>\n",
       "      <td>20</td>\n",
       "    </tr>\n",
       "    <tr>\n",
       "      <td>2</td>\n",
       "      <td>106</td>\n",
       "      <td>69</td>\n",
       "      <td>91</td>\n",
       "    </tr>\n",
       "    <tr>\n",
       "      <td>3</td>\n",
       "      <td>4</td>\n",
       "      <td>0</td>\n",
       "      <td>22</td>\n",
       "    </tr>\n",
       "    <tr>\n",
       "      <td>4</td>\n",
       "      <td>0</td>\n",
       "      <td>56</td>\n",
       "      <td>42</td>\n",
       "    </tr>\n",
       "    <tr>\n",
       "      <td>...</td>\n",
       "      <td>...</td>\n",
       "      <td>...</td>\n",
       "      <td>...</td>\n",
       "    </tr>\n",
       "    <tr>\n",
       "      <td>19454</td>\n",
       "      <td>255</td>\n",
       "      <td>103</td>\n",
       "      <td>0</td>\n",
       "    </tr>\n",
       "    <tr>\n",
       "      <td>19455</td>\n",
       "      <td>255</td>\n",
       "      <td>99</td>\n",
       "      <td>0</td>\n",
       "    </tr>\n",
       "    <tr>\n",
       "      <td>19456</td>\n",
       "      <td>255</td>\n",
       "      <td>123</td>\n",
       "      <td>73</td>\n",
       "    </tr>\n",
       "    <tr>\n",
       "      <td>19457</td>\n",
       "      <td>255</td>\n",
       "      <td>107</td>\n",
       "      <td>0</td>\n",
       "    </tr>\n",
       "    <tr>\n",
       "      <td>19458</td>\n",
       "      <td>255</td>\n",
       "      <td>106</td>\n",
       "      <td>0</td>\n",
       "    </tr>\n",
       "  </tbody>\n",
       "</table>\n",
       "<p>19459 rows × 3 columns</p>\n",
       "</div>"
      ],
      "text/plain": [
       "         0    1   2\n",
       "0       13   33   0\n",
       "1       47    0  20\n",
       "2      106   69  91\n",
       "3        4    0  22\n",
       "4        0   56  42\n",
       "...    ...  ...  ..\n",
       "19454  255  103   0\n",
       "19455  255   99   0\n",
       "19456  255  123  73\n",
       "19457  255  107   0\n",
       "19458  255  106   0\n",
       "\n",
       "[19459 rows x 3 columns]"
      ]
     },
     "execution_count": 29,
     "metadata": {},
     "output_type": "execute_result"
    }
   ],
   "source": [
    "#banda_NIR_df = RGB_df.loc[(RGB_df[0] <= 170) & (RGB_df[1] <= 170) & (RGB_df[2] <= 170)]\n",
    "banda_NIR_df = RGB_df.iloc[0:19459,:]\n",
    "banda_NIR = banda_NIR_df - banda_NIR_df.mean() \n",
    "R_array = banda_NIR.iloc[:,0].values\n",
    "G_array = banda_NIR.iloc[:,1].values\n",
    "B_array = banda_NIR.iloc[:,2].values\n",
    "\n",
    "\n",
    "Z = np.vstack([R_array, G_array, B_array])\n",
    "im = plt.imshow(np.dstack(Z), interpolation='none', aspect='auto')\n",
    "plt.colorbar(im, orientation='horizontal')\n",
    "plt.show()\n",
    "print(len(banda_NIR_df))\n",
    "banda_NIR_df"
   ]
  },
  {
   "cell_type": "code",
   "execution_count": 30,
   "metadata": {},
   "outputs": [
    {
     "name": "stderr",
     "output_type": "stream",
     "text": [
      "Clipping input data to the valid range for imshow with RGB data ([0..1] for floats or [0..255] for integers).\n"
     ]
    },
    {
     "data": {
      "image/png": "[encoded data removed]",
      "text/plain": [
       "<Figure size 432x288 with 2 Axes>"
      ]
     },
     "metadata": {
      "needs_background": "light"
     },
     "output_type": "display_data"
    }
   ],
   "source": [
    "bandas = [banda_NIR, banda_red, banda_orange,banda_lgreen,banda_cyan]\n",
    "bandas_df = pd.concat(bandas)\n",
    "bandas_df.to_pickle('bandas-mean.pkl')\n",
    "R_array = bandas_df.iloc[:,0].values \n",
    "G_array = bandas_df.iloc[:,1].values\n",
    "B_array = bandas_df.iloc[:,2].values\n",
    "\n",
    "\n",
    "Z = np.vstack([R_array, G_array, B_array])\n",
    "im = plt.imshow(np.dstack(Z), interpolation='none', aspect='auto')\n",
    "plt.colorbar(im, orientation='horizontal')\n",
    "plt.show()"
   ]
  },
  {
   "cell_type": "code",
   "execution_count": null,
   "metadata": {},
   "outputs": [],
   "source": [
    "banda_cyan = RGB_df.loc[(RGB_df[0] == 0) & (RGB_df[1] >= 210) & (RGB_df[2] >= 180)]\n",
    "banda_cyan"
   ]
  },
  {
   "cell_type": "code",
   "execution_count": 15,
   "metadata": {},
   "outputs": [
    {
     "ename": "NameError",
     "evalue": "name 'R' is not defined",
     "output_type": "error",
     "traceback": [
      "\u001b[1;31m---------------------------------------------------------------------------\u001b[0m",
      "\u001b[1;31mNameError\u001b[0m                                 Traceback (most recent call last)",
      "\u001b[1;32m<ipython-input-15-52f5b86e795f>\u001b[0m in \u001b[0;36m<module>\u001b[1;34m\u001b[0m\n\u001b[1;32m----> 1\u001b[1;33m \u001b[0mR\u001b[0m\u001b[1;33m[\u001b[0m\u001b[1;36m0\u001b[0m\u001b[1;33m,\u001b[0m\u001b[1;36m3\u001b[0m\u001b[1;33m]\u001b[0m\u001b[1;33m,\u001b[0m\u001b[0mG\u001b[0m\u001b[1;33m[\u001b[0m\u001b[1;36m0\u001b[0m\u001b[1;33m,\u001b[0m\u001b[1;36m3\u001b[0m\u001b[1;33m]\u001b[0m\u001b[1;33m,\u001b[0m\u001b[0mB\u001b[0m\u001b[1;33m[\u001b[0m\u001b[1;36m0\u001b[0m\u001b[1;33m,\u001b[0m\u001b[1;36m3\u001b[0m\u001b[1;33m]\u001b[0m\u001b[1;33m\u001b[0m\u001b[1;33m\u001b[0m\u001b[0m\n\u001b[0m",
      "\u001b[1;31mNameError\u001b[0m: name 'R' is not defined"
     ]
    }
   ],
   "source": [
    "R[0,3],G[0,3],B[0,3]"
   ]
  },
  {
   "cell_type": "code",
   "execution_count": null,
   "metadata": {},
   "outputs": [],
   "source": [
    "def find_nearest(array, value):\n",
    "    array = np.asarray(array)\n",
    "    idx = (np.abs(array - value)).argmin()\n",
    "    return array[idx]"
   ]
  },
  {
   "cell_type": "code",
   "execution_count": null,
   "metadata": {},
   "outputs": [],
   "source": [
    "x_lst = find_nearest(xy_pos_df.iloc[:,0],x_move)\n",
    "y_lst = find_nearest(xy_pos_df.iloc[:,1], y_move)\n",
    "mouse_pos = xy_pos_df[(xy_pos_df.iloc[:, 0] == x_lst) & (xy_pos_df.iloc[:, 1] == y_lst)].index.tolist()"
   ]
  }
 ],
 "metadata": {
  "kernelspec": {
   "display_name": "Python 3",
   "language": "python",
   "name": "python3"
  },
  "language_info": {
   "codemirror_mode": {
    "name": "ipython",
    "version": 3
   },
   "file_extension": ".py",
   "mimetype": "text/x-python",
   "name": "python",
   "nbconvert_exporter": "python",
   "pygments_lexer": "ipython3",
   "version": "3.7.3"
  }
 },
 "nbformat": 4,
 "nbformat_minor": 2
}
