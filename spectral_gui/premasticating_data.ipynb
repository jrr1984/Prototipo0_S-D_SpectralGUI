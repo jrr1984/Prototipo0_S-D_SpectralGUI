{
 "cells": [
  {
   "cell_type": "code",
   "execution_count": 1,
   "metadata": {},
   "outputs": [],
   "source": [
    "import mpldatacursor\n",
    "import numpy as np\n",
    "import pandas as pd\n",
    "import matplotlib.pyplot as plt\n",
    "from ipywidgets import interactive\n",
    "from ciexyz import xyz_from_spectrum\n",
    "from colormodels import irgb_from_xyz\n",
    "import csv"
   ]
  },
  {
   "cell_type": "code",
   "execution_count": 2,
   "metadata": {},
   "outputs": [],
   "source": [
    "wavel_file = pd.read_csv('long_de_onda_1_tira.csv')\n",
    "inten_file = pd.read_csv('inten_paso_50micrones_arriba.csv',header=None)"
   ]
  },
  {
   "cell_type": "code",
   "execution_count": 11,
   "metadata": {},
   "outputs": [
    {
     "data": {
      "text/plain": [
       "(68121, 3648)"
      ]
     },
     "execution_count": 11,
     "metadata": {},
     "output_type": "execute_result"
    }
   ],
   "source": [
    "wavel_array = wavel_file.iloc[:, 0].values\n",
    "inten_array = inten_file.iloc[:, 0:].values\n",
    "np.shape(inten_array)"
   ]
  },
  {
   "cell_type": "code",
   "execution_count": 4,
   "metadata": {},
   "outputs": [],
   "source": [
    "xy_pos_file = pd.read_csv('xy_positions_50micron.csv',header=None)"
   ]
  },
  {
   "cell_type": "code",
   "execution_count": null,
   "metadata": {},
   "outputs": [],
   "source": [
    "list_of_colors = []\n",
    "\n",
    "for row in range(len(inten_array)):\n",
    "    spectra = np.column_stack((wavel_array,inten_array[row,:]))\n",
    "    xyz_color_vec = xyz_from_spectrum(spectra)\n",
    "    rgb_disp = irgb_from_xyz(xyz_color_vec)\n",
    "    list_of_colors.append(rgb_disp)\n",
    "\n",
    "rgb_matrix = np.asarray(list_of_colors)\n",
    "\n",
    "with open('RGB_colors_50micron_arriba.csv', 'w') as csvFile:\n",
    "    writer = csv.writer(csvFile)\n",
    "    writer.writerows(rgb_matrix)\n",
    "\n",
    "csvFile.close()"
   ]
  },
  {
   "cell_type": "code",
   "execution_count": null,
   "metadata": {},
   "outputs": [],
   "source": [
    "RGB_file = pd.read_csv('RGB_colors_50micron_arriba.csv',header=None)"
   ]
  },
  {
   "cell_type": "code",
   "execution_count": 7,
   "metadata": {},
   "outputs": [
    {
     "name": "stdout",
     "output_type": "stream",
     "text": [
      "(68121, 2)\n",
      "(68120, 3)\n"
     ]
    }
   ],
   "source": [
    "print(np.shape(xy_pos_file))\n",
    "print(np.shape(RGB_file))"
   ]
  },
  {
   "cell_type": "code",
   "execution_count": null,
   "metadata": {},
   "outputs": [],
   "source": [
    "wavel_array = wavel_file.iloc[:, 0].values\n",
    "inten_array = inten_file.iloc[:, 0:].values\n",
    "inten_file1 = inten_file.iloc[221:,:]\n",
    "\n",
    "R_array = RGB_file.iloc[:,0].values\n",
    "G_array = RGB_file.iloc[:,1].values\n",
    "B_array = RGB_file.iloc[:,2].values\n",
    "\n",
    "R = R_array.reshape(230,260)\n",
    "G = G_array.reshape(230,260)\n",
    "B = B_array.reshape(230,260)\n",
    "img = np.empty((230,260,3), dtype=np.uint8)\n",
    "img[:,:,0] = R\n",
    "img[:,:,1] = G\n",
    "img[:,:,2] = B"
   ]
  }
 ],
 "metadata": {
  "kernelspec": {
   "display_name": "Python 3",
   "language": "python",
   "name": "python3"
  },
  "language_info": {
   "codemirror_mode": {
    "name": "ipython",
    "version": 3
   },
   "file_extension": ".py",
   "mimetype": "text/x-python",
   "name": "python",
   "nbconvert_exporter": "python",
   "pygments_lexer": "ipython3",
   "version": "3.7.3"
  }
 },
 "nbformat": 4,
 "nbformat_minor": 2
}
