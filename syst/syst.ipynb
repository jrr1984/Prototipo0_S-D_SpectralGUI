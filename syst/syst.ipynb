{
 "cells": [
  {
   "cell_type": "code",
   "execution_count": 1,
   "metadata": {},
   "outputs": [
    {
     "name": "stderr",
     "output_type": "stream",
     "text": [
      "C:\\Users\\juanr\\Anaconda3\\envs\\pymeas\\lib\\site-packages\\cffi\\cparser.py:150: UserWarning: String literal found in cdef() or type source. String literals are ignored here, but you should remove them anyway because some character sequences confuse pre-parsing.\n",
      "  warnings.warn(\"String literal found in cdef() or type source. \"\n"
     ]
    },
    {
     "data": {
      "text/plain": [
       "[<ParamSet[CCS] usb='USB0::0x1313::0x8089::M00417163::RAW' serial='M00417163' model=<SpecTypes.CCS200: 32905>>]"
      ]
     },
     "execution_count": 1,
     "metadata": {},
     "output_type": "execute_result"
    }
   ],
   "source": [
    "import matplotlib.pyplot as plt\n",
    "%matplotlib inline\n",
    "import time\n",
    "import numpy as np\n",
    "from thor_stepm import ThorlabsStageWithStepMotors\n",
    "from instrumental import instrument,list_instruments,u, Q_\n",
    "from instrumental.drivers.spectrometers.thorlabs_ccs import CCS\n",
    "paramsets = list_instruments()\n",
    "paramsets\n",
    "#time.sleep(5)"
   ]
  },
  {
   "cell_type": "code",
   "execution_count": 2,
   "metadata": {},
   "outputs": [
    {
     "name": "stdout",
     "output_type": "stream",
     "text": [
      "Stage connected.\n"
     ]
    }
   ],
   "source": [
    "stage = ThorlabsStageWithStepMotors()\n",
    "stage.set_stage()"
   ]
  },
  {
   "cell_type": "code",
   "execution_count": 3,
   "metadata": {},
   "outputs": [],
   "source": [
    "stage.move_to_x_y(500,500)"
   ]
  },
  {
   "cell_type": "code",
   "execution_count": 4,
   "metadata": {},
   "outputs": [
    {
     "data": {
      "text/plain": [
       "(0.5, 0.5)"
      ]
     },
     "execution_count": 4,
     "metadata": {},
     "output_type": "execute_result"
    }
   ],
   "source": [
    "stage.get_x_y_position()"
   ]
  },
  {
   "cell_type": "code",
   "execution_count": 5,
   "metadata": {},
   "outputs": [
    {
     "name": "stdout",
     "output_type": "stream",
     "text": [
      "Homing..\n",
      "Stage disconnected\n"
     ]
    }
   ],
   "source": [
    "stage.disconnect_stage()"
   ]
  },
  {
   "cell_type": "code",
   "execution_count": null,
   "metadata": {},
   "outputs": [],
   "source": [
    "long_de_onda=[]\n",
    "intensidad=[]\n",
    "data = [long_de_onda , intensidad]\n",
    "elapsed_times = []\n",
    "times = np.arange(0.01,0.1,0.01)\n",
    "avgs = np.arange(1,100,50)\n",
    "for t in times:\n",
    "    for avg in avgs:\n",
    "        start_time = time.time()\n",
    "        y,x = ccs.alternative_take_data(integration_time='{} seconds'.format(t), num_avg=avg, use_background=False)\n",
    "        long_de_onda.append(x)\n",
    "        intensidad.append(y)\n",
    "        end_time = time.time() - start_time\n",
    "        elapsed_times[:][:].append(end_time)"
   ]
  },
  {
   "cell_type": "code",
   "execution_count": null,
   "metadata": {},
   "outputs": [],
   "source": [
    "elapsed_times"
   ]
  },
  {
   "cell_type": "code",
   "execution_count": null,
   "metadata": {},
   "outputs": [],
   "source": [
    "start_time = time.time()\n",
    "y,x = ccs.alternative_take_data(integration_time='0.01 seconds', num_avg=1, use_background=False)\n",
    "long_de_onda.append(x)\n",
    "intensidad.append(y)\n",
    "end_time = time.time() - start_time\n",
    "print(end_time)"
   ]
  },
  {
   "cell_type": "code",
   "execution_count": null,
   "metadata": {},
   "outputs": [],
   "source": [
    "long_de_onda=[]\n",
    "intensidad=[]\n",
    "data = [long_de_onda , intensidad]\n",
    "t_de_exp = np.linspace(0.00,0.1,0.01)\n",
    "for t_i in np.t_de_exp:    \n",
    "    y,x = ccs.alternative_take_data(integration_time=i, num_avg=1, use_background=False)\n",
    "    long_de_onda.append(x)\n",
    "    intensidad.append(y)\n",
    "    "
   ]
  },
  {
   "cell_type": "code",
   "execution_count": null,
   "metadata": {},
   "outputs": [],
   "source": [
    "stage.disconnect_stage()"
   ]
  },
  {
   "cell_type": "code",
   "execution_count": null,
   "metadata": {},
   "outputs": [],
   "source": [
    "ccs.stop_and_clear()"
   ]
  },
  {
   "cell_type": "code",
   "execution_count": null,
   "metadata": {},
   "outputs": [],
   "source": [
    "num_avg=1\n",
    "intensidad=[]\n",
    "\n",
    "if ccs.cont_scan_in_progress()==True:\n",
    "    ccs.stop_and_clear()\n",
    "    integration_time = ccs.get_integration_time()\n",
    "    integration_time = Q_(integration_time)\n",
    "    wait_time = integration_time/100.\n",
    "    ccs.start_continuous_scan()\n",
    "    for i in range(num_avg):\n",
    "        time.sleep(integration_time.to('s').magnitude)\n",
    "        while not ccs.is_data_ready():\n",
    "            time.sleep(wait_time.to('s').magnitude)\n",
    "        temp = ccs.get_scan_data()\n",
    "        if i == 0:\n",
    "            data = temp\n",
    "        else:\n",
    "            data = data + temp\n",
    "        if sum(temp >= (1.0 - 1e-5)):\n",
    "            raise Warning('Raw data is saturated')\n",
    "    ccs.stop_and_clear()\n",
    "    data = data/num_avg\n",
    "    x = ccs._wavelength_array\n",
    "    y = data\n",
    "    plt.plot(x,y)\n",
    "else:\n",
    "    \n",
    "\n",
    "    "
   ]
  },
  {
   "cell_type": "code",
   "execution_count": null,
   "metadata": {},
   "outputs": [],
   "source": [
    "ccs.close()"
   ]
  },
  {
   "cell_type": "code",
   "execution_count": null,
   "metadata": {},
   "outputs": [],
   "source": [
    "ccs.waiting_for_trig()"
   ]
  },
  {
   "cell_type": "code",
   "execution_count": null,
   "metadata": {},
   "outputs": [],
   "source": [
    "ccs.start_continuous_scan()"
   ]
  },
  {
   "cell_type": "code",
   "execution_count": null,
   "metadata": {},
   "outputs": [],
   "source": [
    "ccs.cont_scan_in_progress()"
   ]
  },
  {
   "cell_type": "code",
   "execution_count": null,
   "metadata": {},
   "outputs": [],
   "source": [
    "ccs.reset()"
   ]
  },
  {
   "cell_type": "code",
   "execution_count": null,
   "metadata": {},
   "outputs": [],
   "source": [
    "ccs.is_data_ready()"
   ]
  },
  {
   "cell_type": "code",
   "execution_count": null,
   "metadata": {},
   "outputs": [],
   "source": [
    "ccs._get_raw_scan_data()"
   ]
  },
  {
   "cell_type": "code",
   "execution_count": null,
   "metadata": {},
   "outputs": [],
   "source": [
    "ccs.is_idle()"
   ]
  },
  {
   "cell_type": "code",
   "execution_count": null,
   "metadata": {},
   "outputs": [],
   "source": [
    "for i in range(1):\n",
    "    print(i)"
   ]
  },
  {
   "cell_type": "code",
   "execution_count": null,
   "metadata": {},
   "outputs": [],
   "source": [
    "y,x = ccs.take_data(integration_time=None, num_avg=1, use_background=False)\n",
    "plt.plot(x,y)"
   ]
  },
  {
   "cell_type": "code",
   "execution_count": null,
   "metadata": {},
   "outputs": [],
   "source": [
    "#ccs.get_scan_data()\n",
    "for i in range(5):\n",
    "    y,x = ccs.take_data(integration_time=None, num_avg=1, use_background=False)\n",
    "    plt.plot(x,y)"
   ]
  },
  {
   "cell_type": "code",
   "execution_count": null,
   "metadata": {},
   "outputs": [],
   "source": [
    "ccs.stop_and_clear()"
   ]
  },
  {
   "cell_type": "code",
   "execution_count": null,
   "metadata": {},
   "outputs": [],
   "source": [
    "ccs.cont_scan_in_progress()"
   ]
  },
  {
   "cell_type": "code",
   "execution_count": null,
   "metadata": {},
   "outputs": [],
   "source": [
    "num_avg=1\n",
    "intensidad=[]\n",
    "\n",
    "for i in range(10):\n",
    "    ccs.reset()\n",
    "    ccs.stop_and_clear()\n",
    "    integration_time = ccs.get_integration_time()\n",
    "    integration_time = Q_(integration_time)\n",
    "    wait_time = integration_time/100.\n",
    "    ccs.start_continuous_scan()\n",
    "    for i in range(num_avg):\n",
    "        time.sleep(integration_time.to('s').magnitude)\n",
    "        while not ccs.is_data_ready():\n",
    "            time.sleep(wait_time.to('s').magnitude)\n",
    "        temp = ccs.get_scan_data()\n",
    "        if i == 0:\n",
    "            data = temp\n",
    "        else:\n",
    "            data = data + temp\n",
    "        if sum(temp >= (1.0 - 1e-5)):\n",
    "            raise Warning('Raw data is saturated')\n",
    "    ccs.stop_scan()\n",
    "    data = data/num_avg\n",
    "    x = ccs._wavelength_array\n",
    "    y = data\n",
    "    plt.plot(x,y)\n",
    "    intensidad.append(y)\n",
    "    y=[]"
   ]
  },
  {
   "cell_type": "code",
   "execution_count": null,
   "metadata": {},
   "outputs": [],
   "source": [
    "ccs.close()"
   ]
  },
  {
   "cell_type": "code",
   "execution_count": null,
   "metadata": {},
   "outputs": [],
   "source": [
    "ccs.get_device_info()"
   ]
  },
  {
   "cell_type": "code",
   "execution_count": null,
   "metadata": {},
   "outputs": [],
   "source": [
    "ccs.reset()"
   ]
  },
  {
   "cell_type": "code",
   "execution_count": null,
   "metadata": {},
   "outputs": [],
   "source": [
    "stage.close()"
   ]
  },
  {
   "cell_type": "code",
   "execution_count": null,
   "metadata": {},
   "outputs": [],
   "source": [
    "y,x = ccs.take_data(integration_time=None, num_avg=1, use_background=False)\n",
    "plt.plot(x,y)"
   ]
  },
  {
   "cell_type": "code",
   "execution_count": null,
   "metadata": {},
   "outputs": [],
   "source": [
    "import numpy as np\n",
    "from time import sleep\n",
    "\n",
    "class AlgunaLaw(ThorlabsStageWithStepMotors,CCS):\n",
    "    def make_measurement(self, start, stop, num_points, delay):\n",
    "        x_axis = np.linspace(start, stop, num_points)\n",
    "        x = []\n",
    "        y = []\n",
    "        for i in x_axis:\n",
    "            # Acquire fake data\n",
    "            self.stage.move_to_x_y(i,i)\n",
    "            #j,i = ccs.take_data(integration_time=None, num_avg=1, use_background=False)\n",
    "            #x.append(i)\n",
    "            #y.append(j)\n",
    "            sleep(delay)\n",
    "\n",
    "        return x,y"
   ]
  },
  {
   "cell_type": "code",
   "execution_count": null,
   "metadata": {},
   "outputs": [],
   "source": [
    "import threading\n",
    "\n",
    "ohm = AlgunaLaw()\n",
    "\n",
    "t = threading.Thread(target=ohm.make_measurement, args=(0.0,0.5,4,1))\n",
    "t.start()\n",
    "print('Triggered measurement')"
   ]
  },
  {
   "cell_type": "code",
   "execution_count": null,
   "metadata": {},
   "outputs": [],
   "source": [
    "import threading\n",
    "import queue\n",
    "\n",
    "def stringFunction(value, out_queue):\n",
    "    my_str = \"This is string no. \" + value\n",
    "    out_queue.put(my_str)\n",
    "    \n",
    "    \n",
    "my_queue = Queue.Queue()\n",
    "thread1 = threading.Thread(target = ccs.take_data, arg = (integration_time=None, num_avg=1, use_background=False, my_queue))\n",
    "thread1.start()\n",
    "thread1.join()\n",
    "y,x = my_queue.get()\n",
    "plt.plot(x,y)"
   ]
  },
  {
   "cell_type": "code",
   "execution_count": null,
   "metadata": {},
   "outputs": [],
   "source": [
    "import numpy as np\n",
    "from time import sleep\n",
    "\n",
    "class OhmLaw(ThorlabsStageWithStepMotors):\n",
    "    def __init__(self):\n",
    "        self.datax = np.zeros(0)  # To store the data of the measurement\n",
    "        self.datay = np.zeros(0)\n",
    "        self.y = np.zeros(0)\n",
    "        self.x = np.zeros(0)\n",
    "        \n",
    "        self.step = 0  # To keep track of the step\n",
    "        \n",
    "    def before_measuring(self):\n",
    "        stage.move_to_x_y(0.0,0.0)\n",
    "\n",
    "    def make_measurement(self, start, stop, num_points, delay):\n",
    "        x_axis = np.linspace(start, stop, num_points)\n",
    "        self.datax = np.zeros(num_points)\n",
    "        self.datay = np.zeros(num_points)\n",
    "        self.y = np.zeros(num_points)\n",
    "        self.x = np.zeros(num_points)\n",
    "        self.step = 0\n",
    "        for i in x_axis:\n",
    "            # Acquire fake data\n",
    "            stage.move_to_x_y(i,i)\n",
    "            if(stage.get_x_y_position() == ()\n",
    "            self.y[self.step],self.x = ccs.take_data(integration_time=None, num_avg=1, use_background=False)\n",
    "            self.step += 1\n",
    "            sleep(delay)\n",
    "\n",
    "        return self.datax,self.datay"
   ]
  },
  {
   "cell_type": "code",
   "execution_count": null,
   "metadata": {},
   "outputs": [],
   "source": [
    "import threading\n",
    "ohm = OhmLaw()\n",
    "\n",
    "t0 = threading.Thread(target=ohm.before_measuring)\n",
    "t0.start()\n",
    "while t0.is_alive():\n",
    "    print('t0 is alive')\n",
    "time.sleep(2)\n",
    "t = threading.Thread(target=ohm.make_measurement, args=(0.0,1.0,5,1))\n",
    "t.start()\n",
    "print('Triggered measurement')\n",
    "i = ohm.step\n",
    "while t.is_alive():\n",
    "    if i != ohm.step:\n",
    "        print('Latest data value: {} mm en x'.format(ohm.datax[ohm.step-1]))\n",
    "        i = ohm.step"
   ]
  },
  {
   "cell_type": "code",
   "execution_count": null,
   "metadata": {},
   "outputs": [],
   "source": [
    "plt.plot(x,y)"
   ]
  },
  {
   "cell_type": "code",
   "execution_count": null,
   "metadata": {},
   "outputs": [],
   "source": [
    "import numpy as np\n",
    "from time import sleep\n",
    "\n",
    "class Law(CCS,ThorlabsStageWithStepMotors):\n",
    "    def __init__(self):\n",
    "        self.datax = np.zeros(0)  # To store the data of the measurement\n",
    "        self.datay = np.zeros(0)\n",
    "        self.step = 0  # To keep track of the step\n",
    "\n",
    "    def make_measurement(self, start, stop, num_points, delay):\n",
    "        x_axis = np.linspace(start, stop, num_points)\n",
    "        self.datax = np.zeros(num_points)\n",
    "        self.datay = np.zeros(num_points)\n",
    "        self.step = 0\n",
    "        for i in x_axis:\n",
    "            # Acquire fake data\n",
    "            stage.move_to_x_y(i,i)\n",
    "            self.datax[self.step],self.datay[self.step] = stage.get_x_y_position()\n",
    "            self.step += 1\n",
    "            sleep(delay)\n",
    "\n",
    "        return self.datax,self.datay"
   ]
  },
  {
   "cell_type": "code",
   "execution_count": null,
   "metadata": {},
   "outputs": [],
   "source": [
    "import threading\n",
    "ohm = OhmLaw()\n",
    "\n",
    "t = threading.Thread(target=ohm.make_measurement, args=(0.0,1.0,5,1))\n",
    "t.start()\n",
    "print('Triggered measurement')\n",
    "i = ohm.step\n",
    "while t.is_alive():\n",
    "    if i != ohm.step:\n",
    "        print('Latest data value: {} mm en x'.format(ohm.datax[ohm.step-1]))\n",
    "        i = ohm.step"
   ]
  },
  {
   "cell_type": "code",
   "execution_count": null,
   "metadata": {},
   "outputs": [],
   "source": [
    "for i in range(5):\n",
    "    y,x = ccs.take_data(integration_time=None, num_avg=1, use_background=False)\n",
    "    plt.plot(x,y)\n",
    "    time.sleep(5)"
   ]
  },
  {
   "cell_type": "code",
   "execution_count": null,
   "metadata": {},
   "outputs": [],
   "source": []
  },
  {
   "cell_type": "code",
   "execution_count": null,
   "metadata": {},
   "outputs": [],
   "source": [
    "import numpy as np\n",
    "from time import sleep\n",
    "\n",
    "class Law(CCS):\n",
    "    def __init__(self):\n",
    "        self.datax = np.zeros(0)  # To store the data of the measurement\n",
    "        self.datay = np.zeros(0)\n",
    "        self.step = 0  # To keep track of the step\n",
    "\n",
    "    def make_measurement(self, start, stop, num_points, delay):\n",
    "        x_axis = np.linspace(start, stop, num_points)\n",
    "        self.datax = np.zeros(num_points)\n",
    "        self.datay = np.zeros(num_points)\n",
    "        self.step = 0\n",
    "        for i in x_axis:\n",
    "            # Acquire fake data\n",
    "            stage.move_to_x_y(i,0.0)\n",
    "            if()\n",
    "            \n",
    "            \n",
    "            self.datax[self.step],self.datay[self.step] = stage.get_x_y_position()\n",
    "            self.step += 1\n",
    "            sleep(delay)\n",
    "\n",
    "        return self.datax,self.datay"
   ]
  },
  {
   "cell_type": "code",
   "execution_count": null,
   "metadata": {},
   "outputs": [],
   "source": []
  },
  {
   "cell_type": "code",
   "execution_count": null,
   "metadata": {},
   "outputs": [],
   "source": []
  },
  {
   "cell_type": "code",
   "execution_count": null,
   "metadata": {},
   "outputs": [],
   "source": []
  },
  {
   "cell_type": "code",
   "execution_count": null,
   "metadata": {},
   "outputs": [],
   "source": []
  },
  {
   "cell_type": "code",
   "execution_count": null,
   "metadata": {},
   "outputs": [],
   "source": []
  },
  {
   "cell_type": "code",
   "execution_count": null,
   "metadata": {},
   "outputs": [],
   "source": []
  },
  {
   "cell_type": "code",
   "execution_count": null,
   "metadata": {},
   "outputs": [],
   "source": []
  },
  {
   "cell_type": "code",
   "execution_count": null,
   "metadata": {},
   "outputs": [],
   "source": []
  }
 ],
 "metadata": {
  "kernelspec": {
   "display_name": "Python 3",
   "language": "python",
   "name": "python3"
  },
  "language_info": {
   "codemirror_mode": {
    "name": "ipython",
    "version": 3
   },
   "file_extension": ".py",
   "mimetype": "text/x-python",
   "name": "python",
   "nbconvert_exporter": "python",
   "pygments_lexer": "ipython3",
   "version": "3.6.7"
  }
 },
 "nbformat": 4,
 "nbformat_minor": 2
}
